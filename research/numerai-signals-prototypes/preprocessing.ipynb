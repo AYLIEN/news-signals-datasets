{
 "cells": [
  {
   "cell_type": "code",
   "execution_count": 1,
   "metadata": {},
   "outputs": [
    {
     "name": "stdout",
     "output_type": "stream",
     "text": [
      "Financial data\n",
      "        Date      Close       High        Low       Open    Volume\n",
      "0 2019-01-02  82.916229  83.308644  80.102542  80.110887  15670900\n",
      "1 2019-01-03  81.737831  83.236062  81.384317  83.025637  16286400\n",
      "2 2019-01-04  84.751122  84.953129  82.722613  83.421229  16935200\n",
      "3 2019-01-07  84.810051  85.407660  83.926260  84.532287  15430700\n",
      "4 2019-01-08  84.650131  85.702261  83.791596  85.542335  13578800\n"
     ]
    }
   ],
   "source": [
    "import pandas as pd\n",
    "\n",
    "# Load raw CSV without setting headers\n",
    "df_raw = pd.read_csv(\"financial_data.csv\", header=None)\n",
    "\n",
    "# Extract column names from row 0\n",
    "column_names = df_raw.iloc[0].tolist()\n",
    "column_names[0] = \"Date\"  # Fix the first column name\n",
    "\n",
    "# Extract the actual financial data from row 3 onwards\n",
    "df_financial = df_raw.iloc[3:].copy()\n",
    "\n",
    "# Assign proper column names\n",
    "df_financial.columns = column_names\n",
    "\n",
    "# Convert \"Date\" column to datetime\n",
    "df_financial[\"Date\"] = pd.to_datetime(df_financial[\"Date\"], errors=\"coerce\")\n",
    "\n",
    "# Ensure numerical columns are properly converted\n",
    "num_cols = df_financial.columns[1:]  # Exclude \"Date\"\n",
    "df_financial[num_cols] = df_financial[num_cols].apply(pd.to_numeric, errors=\"coerce\")\n",
    "\n",
    "# Sort by date\n",
    "df_financial = df_financial.sort_values(\"Date\").reset_index(drop=True)\n",
    "\n",
    "# Save the cleaned financial data\n",
    "df_financial.to_csv(\"processed_financial_data.csv\", index=False)\n",
    "\n",
    "print(\"Financial data\")\n",
    "print(df_financial.head())\n",
    "\n"
   ]
  },
  {
   "cell_type": "code",
   "execution_count": 9,
   "metadata": {},
   "outputs": [
    {
     "name": "stdout",
     "output_type": "stream",
     "text": [
      "Collecting ta\n",
      "  Downloading ta-0.11.0.tar.gz (25 kB)\n",
      "  Preparing metadata (setup.py) ... \u001b[?25ldone\n",
      "\u001b[?25hRequirement already satisfied: numpy in /opt/miniconda3/envs/news-signals/lib/python3.10/site-packages (from ta) (1.26.4)\n",
      "Requirement already satisfied: pandas in /opt/miniconda3/envs/news-signals/lib/python3.10/site-packages (from ta) (2.2.3)\n",
      "Requirement already satisfied: python-dateutil>=2.8.2 in /opt/miniconda3/envs/news-signals/lib/python3.10/site-packages (from pandas->ta) (2.9.0.post0)\n",
      "Requirement already satisfied: pytz>=2020.1 in /opt/miniconda3/envs/news-signals/lib/python3.10/site-packages (from pandas->ta) (2025.1)\n",
      "Requirement already satisfied: tzdata>=2022.7 in /opt/miniconda3/envs/news-signals/lib/python3.10/site-packages (from pandas->ta) (2025.1)\n",
      "Requirement already satisfied: six>=1.5 in /opt/miniconda3/envs/news-signals/lib/python3.10/site-packages (from python-dateutil>=2.8.2->pandas->ta) (1.17.0)\n",
      "Building wheels for collected packages: ta\n",
      "  Building wheel for ta (setup.py) ... \u001b[?25ldone\n",
      "\u001b[?25h  Created wheel for ta: filename=ta-0.11.0-py3-none-any.whl size=29482 sha256=a3e813f7bc8a3446a7350a8420731c21eace344ad2446fb1371fbee69c433eac\n",
      "  Stored in directory: /Users/yuuvjauhari/Library/Caches/pip/wheels/5f/67/4f/8a9f252836e053e532c6587a3230bc72a4deb16b03a829610b\n",
      "Successfully built ta\n",
      "Installing collected packages: ta\n",
      "Successfully installed ta-0.11.0\n"
     ]
    }
   ],
   "source": [
    "!pip install ta"
   ]
  },
  {
   "cell_type": "code",
   "execution_count": null,
   "metadata": {},
   "outputs": [
    {
     "name": "stdout",
     "output_type": "stream",
     "text": [
      "Technical indicators added\n"
     ]
    }
   ],
   "source": [
    "'''import pandas as pd\n",
    "import ta  # Technical Analysis Library\n",
    "import numpy as np\n",
    "\n",
    "# Load the cleaned financial data\n",
    "df_financial = pd.read_csv(\"processed_financial_data.csv\", parse_dates=[\"Date\"])\n",
    "\n",
    "# Ensure data is sorted properly\n",
    "df_financial = df_financial.sort_values(\"Date\").reset_index(drop=True)\n",
    "\n",
    "### === ADDING TECHNICAL INDICATORS === ###\n",
    "\n",
    "# Moving Averages\n",
    "df_financial[\"SMA_20\"] = ta.trend.sma_indicator(df_financial[\"Close\"], window=20)\n",
    "df_financial[\"SMA_50\"] = ta.trend.sma_indicator(df_financial[\"Close\"], window=50)\n",
    "df_financial[\"EMA_20\"] = ta.trend.ema_indicator(df_financial[\"Close\"], window=20)\n",
    "\n",
    "# Relative Strength Index (RSI)\n",
    "df_financial[\"RSI_14\"] = ta.momentum.rsi(df_financial[\"Close\"], window=14)\n",
    "\n",
    "# Moving Average Convergence Divergence (MACD)\n",
    "df_financial[\"MACD\"] = ta.trend.macd(df_financial[\"Close\"])\n",
    "\n",
    "# Bollinger Bands\n",
    "bb = ta.volatility.BollingerBands(df_financial[\"Close\"], window=20)\n",
    "df_financial[\"BB_High\"] = bb.bollinger_hband()\n",
    "df_financial[\"BB_Low\"] = bb.bollinger_lband()\n",
    "\n",
    "# Average True Range (ATR) for Volatility\n",
    "df_financial[\"ATR\"] = ta.volatility.average_true_range(df_financial[\"High\"], df_financial[\"Low\"], df_financial[\"Close\"], window=14)\n",
    "\n",
    "# Rate of Change (ROC) for Trend Strength\n",
    "df_financial[\"ROC_10\"] = ta.momentum.roc(df_financial[\"Close\"], window=10)\n",
    "\n",
    "# Log Returns (daily)\n",
    "df_financial[\"Log_Returns\"] = df_financial[\"Close\"].pct_change().apply(lambda x: np.log(1+x))\n",
    "\n",
    "# Cumulative Returns (to measure total performance)\n",
    "df_financial[\"Cumulative_Returns\"] = (1 + df_financial[\"Log_Returns\"]).cumprod()\n",
    "\n",
    "# Drop rows with NaN values generated by indicators\n",
    "df_financial.dropna(inplace=True)\n",
    "\n",
    "# Save updated financial data\n",
    "df_financial.to_csv(\"enhanced_financial_data.csv\", index=False)\n",
    "\n",
    "print(\"Technical indicators added\")'''\n"
   ]
  },
  {
   "cell_type": "code",
   "execution_count": 11,
   "metadata": {},
   "outputs": [
    {
     "name": "stdout",
     "output_type": "stream",
     "text": [
      "Quantile regression features added\n"
     ]
    }
   ],
   "source": [
    "import pandas as pd\n",
    "import numpy as np\n",
    "from sklearn.linear_model import QuantileRegressor\n",
    "from sklearn.preprocessing import StandardScaler\n",
    "\n",
    "# Load enhanced financial data\n",
    "df_financial = pd.read_csv(\"processed_financial_data.csv\", parse_dates=[\"Date\"])\n",
    "\n",
    "# Define predictors (all technical indicators) and target (Close price)\n",
    "feature_cols = [\"Open\", \"High\", \"Low\", \"Volume\"]\n",
    "\n",
    "X = df_financial[feature_cols]\n",
    "y = df_financial[\"Close\"]\n",
    "\n",
    "# Normalize features\n",
    "scaler = StandardScaler()\n",
    "X_scaled = scaler.fit_transform(X)\n",
    "\n",
    "# Define quantiles for prediction (10%, 50%, 90%)\n",
    "quantiles = [0.1, 0.5, 0.9]\n",
    "\n",
    "# Dictionary to store quantile predictions\n",
    "quantile_preds = {}\n",
    "\n",
    "for q in quantiles:\n",
    "    q_model = QuantileRegressor(quantile=q, alpha=0)  # alpha=0 means no regularization\n",
    "    q_model.fit(X_scaled, y)\n",
    "    quantile_preds[f\"Quantile_{int(q * 100)}\"] = q_model.predict(X_scaled)\n",
    "\n",
    "# Convert predictions to DataFrame and merge with the original dataset\n",
    "df_quantiles = pd.DataFrame(quantile_preds)\n",
    "df_financial = pd.concat([df_financial, df_quantiles], axis=1)\n",
    "\n",
    "# Save updated dataset\n",
    "df_financial.to_csv(\"enhanced_financial_data.csv\", index=False)\n",
    "\n",
    "print(\"Quantile regression features added\")\n"
   ]
  },
  {
   "cell_type": "code",
   "execution_count": null,
   "metadata": {},
   "outputs": [
    {
     "name": "stdout",
     "output_type": "stream",
     "text": [
      "Data Prepared: 1228 train samples, 308 test samples\n"
     ]
    }
   ],
   "source": [
    "import pandas as pd\n",
    "import numpy as np\n",
    "from sklearn.model_selection import train_test_split\n",
    "from sklearn.ensemble import RandomForestRegressor\n",
    "from sklearn.metrics import mean_squared_error, r2_score\n",
    "import matplotlib.pyplot as plt\n",
    "\n",
    "# Load enhanced dataset\n",
    "df = pd.read_csv(\"enhanced_financial_data.csv\", parse_dates=[\"Date\"])\n",
    "\n",
    "# Define input features (excluding Date & Target)\n",
    "feature_cols = [col for col in df.columns if col not in [\"Date\", \"Close\"]]\n",
    "\n",
    "# Convert to numpy arrays\n",
    "X = df[feature_cols].values\n",
    "y = df[\"Close\"].values  # Target\n",
    "\n",
    "# Split data (80% train, 20% test)\n",
    "X_train, X_test, y_train, y_test = train_test_split(X, y, test_size=0.2, random_state=42, shuffle=False)\n",
    "\n",
    "print(f\"Data Prepared: {X_train.shape[0]} train samples, {X_test.shape[0]} test samples\")\n"
   ]
  },
  {
   "cell_type": "code",
   "execution_count": 17,
   "metadata": {},
   "outputs": [
    {
     "name": "stdout",
     "output_type": "stream",
     "text": [
      "Random Forest Model Trained!\n"
     ]
    }
   ],
   "source": [
    "# Initialize Random Forest Regressor\n",
    "rf_model = RandomForestRegressor(\n",
    "    n_estimators=2000,  # Number of trees\n",
    "    max_depth=100,      # Limit tree depth for better generalization\n",
    "    random_state=42,\n",
    "    n_jobs=-1  # Use all CPU cores for faster training\n",
    ")\n",
    "\n",
    "# Train the model\n",
    "rf_model.fit(X_train, y_train)\n",
    "\n",
    "print(\"Random Forest Model Trained!\")\n"
   ]
  },
  {
   "cell_type": "code",
   "execution_count": 18,
   "metadata": {},
   "outputs": [
    {
     "name": "stdout",
     "output_type": "stream",
     "text": [
      "\n",
      "Random Forest Performance:\n",
      "MSE: 3029.18\n",
      "R² Score: -2.3635\n"
     ]
    }
   ],
   "source": [
    "# Make predictions\n",
    "y_pred_rf = rf_model.predict(X_test)\n",
    "\n",
    "# Compute Metrics\n",
    "mse = mean_squared_error(y_test, y_pred_rf)\n",
    "r2 = r2_score(y_test, y_pred_rf)\n",
    "\n",
    "print(f\"\\nRandom Forest Performance:\")\n",
    "print(f\"MSE: {mse:.2f}\")\n",
    "print(f\"R² Score: {r2:.4f}\")"
   ]
  },
  {
   "cell_type": "code",
   "execution_count": 19,
   "metadata": {},
   "outputs": [
    {
     "data": {
      "image/png": "[encoded data removed]",
      "text/plain": [
       "<Figure size 1000x600 with 1 Axes>"
      ]
     },
     "metadata": {},
     "output_type": "display_data"
    }
   ],
   "source": [
    "# Get feature importance from the trained model\n",
    "feature_importance = rf_model.feature_importances_\n",
    "\n",
    "# Create DataFrame for sorting\n",
    "importance_df = pd.DataFrame({'Feature': feature_cols, 'Importance': feature_importance})\n",
    "importance_df = importance_df.sort_values(by=\"Importance\", ascending=False).head(20)  # Show top 20\n",
    "\n",
    "# Plot feature importance\n",
    "plt.figure(figsize=(10, 6))\n",
    "plt.barh(importance_df['Feature'], importance_df['Importance'], color=\"purple\")\n",
    "plt.xlabel(\"Feature Importance Score\")\n",
    "plt.ylabel(\"Feature Name\")\n",
    "plt.title(\"Top 20 Important Features (Random Forest)\")\n",
    "plt.gca().invert_yaxis()\n",
    "plt.show()\n"
   ]
  },
  {
   "cell_type": "code",
   "execution_count": 15,
   "metadata": {},
   "outputs": [
    {
     "name": "stdout",
     "output_type": "stream",
     "text": [
      "News data cleaned Shape: (5851, 5)\n"
     ]
    }
   ],
   "source": [
    "import pandas as pd\n",
    "import re\n",
    "\n",
    "# Load raw news dataset\n",
    "df_news_raw = pd.read_csv(\"entity_news_paged.csv\")\n",
    "\n",
    "# Extract only the author's name from the 'author' column\n",
    "def extract_author_name(author_text):\n",
    "    match = re.search(r\"'name': '([^']+)'\", author_text)\n",
    "    return match.group(1) if match else \"Unknown\"\n",
    "\n",
    "df_news_raw[\"author\"] = df_news_raw[\"author\"].apply(extract_author_name)\n",
    "\n",
    "# Convert published_at to date format (remove time)\n",
    "df_news_raw[\"published_at\"] = pd.to_datetime(df_news_raw[\"published_at\"]).dt.date\n",
    "\n",
    "# Drop 'url' column\n",
    "df_news_raw.drop(columns=[\"url\"], inplace=True)\n",
    "\n",
    "# Save cleaned dataset\n",
    "df_news_raw.to_csv(\"cleaned_news_data.csv\", index=False)\n",
    "\n",
    "print(f\"News data cleaned Shape: {df_news_raw.shape}\")\n"
   ]
  }
 ],
 "metadata": {
  "kernelspec": {
   "display_name": "news-signals",
   "language": "python",
   "name": "python3"
  },
  "language_info": {
   "codemirror_mode": {
    "name": "ipython",
    "version": 3
   },
   "file_extension": ".py",
   "mimetype": "text/x-python",
   "name": "python",
   "nbconvert_exporter": "python",
   "pygments_lexer": "ipython3",
   "version": "3.10.16"
  }
 },
 "nbformat": 4,
 "nbformat_minor": 2
}
