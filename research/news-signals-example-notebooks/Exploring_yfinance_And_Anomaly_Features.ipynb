{
 "cells": [
  {
   "cell_type": "markdown",
   "metadata": {},
   "source": [
    "This notebook showcases the yfinance timeseries feature as well as the BollingerBand anomaly detection features in news-signals library added in v0.8.0."
   ]
  },
  {
   "cell_type": "markdown",
   "metadata": {},
   "source": [
    "Lets get necessary non news-signals imports for this notebook"
   ]
  },
  {
   "cell_type": "code",
   "execution_count": null,
   "metadata": {},
   "outputs": [],
   "source": [
    "import copy\n",
    "import requests\n",
    "import json\n",
    "import datetime\n",
    "import matplotlib.pyplot as plt"
   ]
  },
  {
   "cell_type": "markdown",
   "metadata": {},
   "source": [
    "Lets import the needed news-signals features. \n",
    "\n",
    "Put your NewsAPI Key and ID in **NEWSAPI_APP_KEY** and **NEWSAPI_APP_ID**. \n",
    "\n",
    "Although it is not necessary and you can comment out building a pre-existing news-volume signal and just get the finance timeseries further down in the notebook."
   ]
  },
  {
   "cell_type": "code",
   "execution_count": null,
   "metadata": {},
   "outputs": [],
   "source": [
    "from news_signals import signals\n",
    "NEWSAPI_APP_KEY= \"\"\n",
    "NEWSAPI_APP_ID= \"\"\n",
    "from news_signals import signals, newsapi, wikidata_utils\n",
    "newsapi.set_headers(NEWSAPI_APP_ID, NEWSAPI_APP_KEY)\n",
    "from news_signals.anomaly_detection import SigmaAnomalyDetector, BollingerAnomalyDetector"
   ]
  },
  {
   "cell_type": "code",
   "execution_count": null,
   "metadata": {},
   "outputs": [],
   "source": [
    "# utility function for getting a wikidata id from an entity name\n",
    "\n",
    "WIKIDATA_SEARCH_URL = \"https://www.wikidata.org/w/api.php\"\n",
    "DEFAULT_SEARCH_PARAMS = {\n",
    "    \"action\": \"wbsearchentities\",\n",
    "    \"format\": \"json\",\n",
    "    \"errorformat\": \"plaintext\",\n",
    "    \"language\": \"en\",\n",
    "    \"uselang\": \"en\",\n",
    "    \"type\": \"item\",\n",
    "    \"limit\": 1\n",
    "}\n",
    "WD_ENTITY_BASE_URL = 'https://www.wikidata.org/wiki/Special:EntityData'\n",
    "    \n",
    "\n",
    "def search_wikidata(surface_form, min_length=3):\n",
    "    params = copy.deepcopy(DEFAULT_SEARCH_PARAMS)\n",
    "    params[\"search\"] = surface_form\n",
    "    result = []\n",
    "    try:\n",
    "        print(f'querying wikidata with params: {params}')\n",
    "        r = requests.get(url=WIKIDATA_SEARCH_URL, params=params)\n",
    "        data = json.loads(r.text)\n",
    "        if 'search' in data:\n",
    "            result = data['search']\n",
    "            result = result[0:min(100, len(result))]\n",
    "    except Exception as e:\n",
    "        print(f'Error searching wikidata for surface form: {surface_form}')\n",
    "        print(e)\n",
    "    return result"
   ]
  },
  {
   "cell_type": "markdown",
   "metadata": {},
   "source": [
    "This is setting up to get the news volume signals. \n",
    "\n",
    "Feel free to modify **entity_name** !"
   ]
  },
  {
   "cell_type": "code",
   "execution_count": null,
   "metadata": {},
   "outputs": [],
   "source": [
    "# let's setup the entity we want to work with\n",
    "\n",
    "entity_name = 'Twitter'\n",
    "\n",
    "entity_id_candidates = search_wikidata(entity_name)\n",
    "test_entity = entity_id_candidates[0]"
   ]
  },
  {
   "cell_type": "markdown",
   "metadata": {},
   "source": [
    "Here we instantiate the AylienSignal class. \n",
    "\n",
    "If you do not have an NewsAPI key, you can blank instantiate the class and just add the yfinance timeseries later on."
   ]
  },
  {
   "cell_type": "code",
   "execution_count": null,
   "metadata": {},
   "outputs": [],
   "source": [
    "\n",
    "signal = signals.AylienSignal(\n",
    "    name=test_entity['label'],\n",
    "    params={\"entity_ids\": [test_entity['id']]}\n",
    ")"
   ]
  },
  {
   "cell_type": "markdown",
   "metadata": {},
   "source": [
    "Here we define the start to end dates for the news volume timeseries and get the signal. Feel free to modify this too !"
   ]
  },
  {
   "cell_type": "code",
   "execution_count": null,
   "metadata": {},
   "outputs": [],
   "source": [
    "start = '2023-01-01'\n",
    "end = '2024-02-21'\n",
    "\n",
    "timeseries_signal = signal(start, end)"
   ]
  },
  {
   "cell_type": "markdown",
   "metadata": {},
   "source": [
    "Now we can plot our news volume timeseries"
   ]
  },
  {
   "cell_type": "code",
   "execution_count": null,
   "metadata": {},
   "outputs": [],
   "source": [
    "signal.plot()"
   ]
  },
  {
   "cell_type": "markdown",
   "metadata": {},
   "source": [
    "Now we can finally add our yfinance market timeseries.\n",
    "\n",
    "About the function:\n",
    "\n",
    "The date range is determined from self.start and self.end (if available),\n",
    "or from the minimum and maximum dates of self.timeseries_df's index.\n",
    "\n",
    "Parameters:\n",
    "- **ticker (str)**: The stock ticker symbol to retrieve (required).\n",
    "- **columns (str or list of str, optional)**: The column(s) to extract from the yfinance data.\n",
    "    Defaults to [\"Close\"] if rsi is False, or [\"Close\", \"RSI\"] if rsi is True.\n",
    "- **rsi (bool)**: Whether to request RSI data. The underlying retrieval function uses this flag.\n",
    "- **overwrite_existing (bool)**: Whether to overwrite existing yfinance data if already present.\n",
    "- **append_dates (bool)**:\n",
    "    If True, any dates present in the yfinance data that are not already in self.timeseries_df\n",
    "    will be appended (the DataFrame is reindexed to the union of dates).\n",
    "    If False, only rows with dates common to both DataFrames are updated.\n",
    "\n",
    "Returns:\n",
    "- self: The signal instance with the new timeseries data."
   ]
  },
  {
   "cell_type": "code",
   "execution_count": null,
   "metadata": {},
   "outputs": [],
   "source": [
    "timeseries_signal.add_yfinance_market_timeseries(\n",
    "    ticker=\"AAPL\",\n",
    "    columns=[\"Open\",\"Close\",\"RSI\"],\n",
    "    rsi=True,\n",
    ")\n",
    "\n",
    "print(timeseries_signal.timeseries_df)"
   ]
  },
  {
   "cell_type": "markdown",
   "metadata": {},
   "source": [
    "Now finally, lets do Bollinger Band Anomaly Detection on our retrived yfinance data"
   ]
  },
  {
   "cell_type": "code",
   "execution_count": null,
   "metadata": {},
   "outputs": [],
   "source": [
    "# Drop unnecessary columns\n",
    "filtered_df = timeseries_signal.timeseries_df.drop(columns=[\"count\", \"published_at\"])\n",
    "\n",
    "# Drop rows where 'open' and 'close' are NaN\n",
    "filtered_df = filtered_df.dropna(subset=[\"open\", \"close\"])\n",
    "\n",
    "# Initialize Bollinger anomaly detector\n",
    "bollinger_detector = BollingerAnomalyDetector(window=20, num_std=2.0)\n",
    "\n",
    "# Apply Bollinger Anomaly Detection on 'close' prices\n",
    "bollinger_anomalies = bollinger_detector(history=filtered_df[\"close\"], series=filtered_df[\"close\"])\n",
    "\n",
    "# Create a single plot for Bollinger anomalies\n",
    "plt.figure(figsize=(12, 6))\n",
    "\n",
    "# Plot closing prices\n",
    "plt.plot(filtered_df.index, filtered_df[\"close\"], label=\"Closing Price\", color=\"blue\")\n",
    "\n",
    "# Identify and plot anomalies\n",
    "bollinger_anomalies = bollinger_anomalies.reindex(filtered_df.index)\n",
    "anomaly_points = filtered_df[\"close\"][bollinger_anomalies > 0]\n",
    "\n",
    "plt.scatter(anomaly_points.index, anomaly_points, color=\"green\", label=\"Bollinger Anomalies\", marker=\"o\")\n",
    "\n",
    "# Labels and legend\n",
    "plt.title(\"Bollinger Band Anomaly Detection\")\n",
    "plt.xlabel(\"Date\")\n",
    "plt.ylabel(\"Price\")\n",
    "plt.legend()\n",
    "\n",
    "plt.show()\n"
   ]
  }
 ],
 "metadata": {
  "kernelspec": {
   "display_name": "news-signals",
   "language": "python",
   "name": "python3"
  },
  "language_info": {
   "codemirror_mode": {
    "name": "ipython",
    "version": 3
   },
   "file_extension": ".py",
   "mimetype": "text/x-python",
   "name": "python",
   "nbconvert_exporter": "python",
   "pygments_lexer": "ipython3",
   "version": "3.10.16"
  }
 },
 "nbformat": 4,
 "nbformat_minor": 2
}
