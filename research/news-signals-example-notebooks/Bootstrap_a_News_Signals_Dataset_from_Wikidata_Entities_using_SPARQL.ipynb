{
 "cells": [
  {
   "cell_type": "code",
   "execution_count": null,
   "id": "ee22a61a",
   "metadata": {},
   "outputs": [],
   "source": [
    "# in this notebook, we show how to query Wikidata with SPARQL, getting back a list of entities that we will use to\n",
    "# create a News Signals dataset\n",
    "\n",
    "# (1) get a list of US politicians from Wikidata\n",
    "# (2) query for current news volumes and rank by anomalies\n",
    "# (3) understand the main stories for current trending politicians"
   ]
  },
  {
   "cell_type": "code",
   "execution_count": null,
   "id": "2bac1895",
   "metadata": {},
   "outputs": [],
   "source": [
    "import requests\n",
    "import pandas as pd\n",
    "import requests\n",
    "import datetime\n",
    "import tqdm \n",
    "\n",
    "from news_signals import signals\n",
    "from collections import OrderedDict"
   ]
  },
  {
   "cell_type": "code",
   "execution_count": null,
   "id": "b09220c7",
   "metadata": {},
   "outputs": [],
   "source": [
    "# SPARQL Query for living US politicians\n",
    "sparql_query = \"\"\"\n",
    "SELECT DISTINCT ?politician ?label ?aliases ?desc\n",
    "WHERE {\n",
    "  ?politician wdt:P31 wd:Q5; # Human\n",
    "              wdt:P106 wd:Q82955; # Occupation: Politician\n",
    "              wdt:P27 wd:Q30; # Country of citizenship: United States\n",
    "              wdt:P39 ?position. # Position held\n",
    "\n",
    "  # National-level positions\n",
    "  VALUES ?position {\n",
    "    wd:Q11696 # President of the United States\n",
    "    wd:Q11699 # Vice President of the United States\n",
    "    wd:Q13218630 # Member of the United States House of Representatives\n",
    "    wd:Q4416090 # United States Senator\n",
    "  }\n",
    "\n",
    "  FILTER NOT EXISTS { ?politician wdt:P570 ?deathDate. } # Filter out politicians with a death date\n",
    "\n",
    "  SERVICE wikibase:label { bd:serviceParam wikibase:language \"en\".\n",
    "      ?politician rdfs:label ?label.\n",
    "      ?politician skos:altLabel ?aliases.\n",
    "      ?politician schema:description ?desc.\n",
    "  }\n",
    "}\n",
    "ORDER BY ?label\n",
    "\n",
    "\"\"\""
   ]
  },
  {
   "cell_type": "code",
   "execution_count": null,
   "id": "3ff7cc51",
   "metadata": {},
   "outputs": [],
   "source": [
    "RESULT_POSTPROCESSORS = {\n",
    "    'politician': lambda uri: uri.replace(\"http://www.wikidata.org/entity/\",\"\"),\n",
    "    'aliases': lambda aliases: [a.strip() for a in aliases.split(', ')]\n",
    "}\n",
    "\n",
    "UNIQUE_FIELDS = ['politician']\n",
    "\n",
    "\n",
    "def sparql2df(sparql_query, endpoint=\"https://query.wikidata.org/sparql?format=json\"):\n",
    "    res = requests.get(\n",
    "        endpoint,\n",
    "        params={\"query\": sparql_query}\n",
    "    ).json()\n",
    "    \n",
    "    # parse results\n",
    "    rows = []\n",
    "    for r in res['results']['bindings']:\n",
    "        row = {}\n",
    "        for k, v in r.items():\n",
    "            postprocess = RESULT_POSTPROCESSORS.get(k, lambda x: x)\n",
    "            v = postprocess(v['value'])\n",
    "            row[k] = v\n",
    "            rows.append(row)\n",
    "    \n",
    "    return pd.DataFrame.from_records(rows).drop_duplicates(UNIQUE_FIELDS).reset_index()"
   ]
  },
  {
   "cell_type": "code",
   "execution_count": null,
   "id": "2688823c",
   "metadata": {},
   "outputs": [],
   "source": [
    "# Ok let's get a dataframe of entities from the Wikidata Query Service\n",
    "entity_df = sparql2df(sparql_query)\n",
    "entity_df"
   ]
  },
  {
   "cell_type": "code",
   "execution_count": null,
   "id": "5ebbc9df",
   "metadata": {},
   "outputs": [],
   "source": [
    "# Aliases for Barack Obama\n",
    "print([a for a in entity_df[entity_df['label'] == 'Barack Obama']['aliases']])"
   ]
  },
  {
   "cell_type": "code",
   "execution_count": null,
   "id": "747e15b2",
   "metadata": {},
   "outputs": [],
   "source": [
    "def entity2signal(entity):\n",
    "    surface_forms = set([entity['label']])\n",
    "    if type(entity['aliases']) is list:\n",
    "        surface_forms.update(entity['aliases'])\n",
    "    surface_forms = list(surface_forms)\n",
    "    \n",
    "    return signals.AylienSignal(\n",
    "        name=entity['label'],\n",
    "        params={\n",
    "            'entity_surface_forms_text': surface_forms,\n",
    "            'min_prominence_score': 0.7\n",
    "        }\n",
    "    )\n"
   ]
  },
  {
   "cell_type": "code",
   "execution_count": null,
   "id": "a805f9c2",
   "metadata": {},
   "outputs": [],
   "source": [
    "label2signal = OrderedDict()\n",
    "\n",
    "for record in entity_df.to_dict(orient='records'):\n",
    "    label2signal[record['label']] = entity2signal(record)"
   ]
  },
  {
   "cell_type": "code",
   "execution_count": null,
   "id": "cf85e7a6",
   "metadata": {},
   "outputs": [],
   "source": [
    "# from this cell you need to have Aylien NewsAPI credentials set up\n",
    "\n",
    "start = '2023-02-01'\n",
    "end = '2023-04-03'\n",
    "\n",
    "anomaly_detection_start = '2023-03-24'\n",
    "\n",
    "# which politicians are currently anomalous with respect to news volume?\n",
    "# init anomaly signals\n",
    "# querying for ~1600 signals will take around 15 minutes\n",
    "cutoff = 10\n",
    "for label, signal in tqdm.tqdm(list(label2signal.items())[:cutoff]):\n",
    "    label2signal[label] = signal(start, end).anomaly_signal(anomaly_detection_start, end)"
   ]
  },
  {
   "cell_type": "code",
   "execution_count": null,
   "id": "74caaf5a",
   "metadata": {},
   "outputs": [],
   "source": [
    "list(label2signal.keys())[:cutoff]"
   ]
  },
  {
   "cell_type": "code",
   "execution_count": null,
   "id": "f5f260a3",
   "metadata": {},
   "outputs": [],
   "source": [
    "def investigate_signal(signal):\n",
    "    if signal[signal.ts_column].sum() == 0:\n",
    "        print('Signal timeseries is always zero, nothing to investigate')\n",
    "        return\n",
    "    most_anomalous_day = signal['anomalies'].idxmax()\n",
    "    _ = signal.sample_stories_in_window(\n",
    "        start=most_anomalous_day,\n",
    "        end=most_anomalous_day + datetime.timedelta(days=1)\n",
    "    )\n",
    "    daily_stories = signal.feeds_df['stories']\n",
    "    title_dedup = set()\n",
    "    for stories in daily_stories:\n",
    "        if type(stories) is list:\n",
    "            for s in stories:\n",
    "                if s['title'] not in title_dedup:\n",
    "                    print(s['title'])\n",
    "                    # try to find a place where the entity was mentioned\n",
    "                    sf_idx = s['body'].find(signal.name)\n",
    "                    if sf_idx > -1:\n",
    "                        sf_end_idx = len(signal.name) + sf_idx\n",
    "                        print(f'{s[\"body\"][sf_idx-50:sf_idx]} __{s[\"body\"][sf_idx:sf_end_idx]}__ {s[\"body\"][sf_end_idx:sf_end_idx+50]}')\n",
    "                    title_dedup.update(s['title'])\n"
   ]
  },
  {
   "cell_type": "code",
   "execution_count": null,
   "id": "e5850126",
   "metadata": {},
   "outputs": [],
   "source": [
    "for politician_name in list(label2signal.keys())[:cutoff]:\n",
    "    print()\n",
    "    print(f'Investigating {politician_name}')\n",
    "    print(entity_df[entity_df['label'] == politician_name])\n",
    "    investigate_signal(label2signal[politician_name])"
   ]
  },
  {
   "cell_type": "code",
   "execution_count": null,
   "id": "92694902",
   "metadata": {},
   "outputs": [],
   "source": [
    "from news_signals.signals_dataset import SignalsDataset\n",
    "\n",
    "\n",
    "politicians_dataset = SignalsDataset(label2signal.values())"
   ]
  },
  {
   "cell_type": "code",
   "execution_count": null,
   "id": "b8857c34",
   "metadata": {},
   "outputs": [],
   "source": [
    "dataset_path = 'wikidata_US_politicians'\n",
    "politicians_dataset.save(dataset_path)"
   ]
  },
  {
   "cell_type": "code",
   "execution_count": null,
   "id": "43044f7e",
   "metadata": {},
   "outputs": [],
   "source": []
  }
 ],
 "metadata": {
  "kernelspec": {
   "display_name": "Python 3 (ipykernel)",
   "language": "python",
   "name": "python3"
  },
  "language_info": {
   "codemirror_mode": {
    "name": "ipython",
    "version": 3
   },
   "file_extension": ".py",
   "mimetype": "text/x-python",
   "name": "python",
   "nbconvert_exporter": "python",
   "pygments_lexer": "ipython3",
   "version": "3.8.16"
  }
 },
 "nbformat": 4,
 "nbformat_minor": 5
}
