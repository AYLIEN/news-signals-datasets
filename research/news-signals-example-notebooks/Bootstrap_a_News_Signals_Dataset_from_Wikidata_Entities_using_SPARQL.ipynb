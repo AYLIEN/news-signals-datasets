{
 "cells": [
  {
   "cell_type": "code",
   "execution_count": null,
   "id": "ee22a61a",
   "metadata": {},
   "outputs": [],
   "source": [
    "# in this notebook, we show how to query Wikidata with SPARQL, getting back a list of entities that we will use to\n",
    "# create a News Signals dataset\n",
    "\n",
    "# (1) get a list of US politicians from Wikidata\n",
    "# (2) query for current news volumes and rank by anomalies\n",
    "# (3) understand the main stories for current trending politicians"
   ]
  },
  {
   "cell_type": "code",
   "execution_count": 1,
   "id": "2bac1895",
   "metadata": {},
   "outputs": [],
   "source": [
    "import requests\n",
    "import pandas as pd\n",
    "import requests\n",
    "import datetime\n",
    "import tqdm \n",
    "\n",
    "from news_signals import signals\n",
    "from collections import OrderedDict"
   ]
  },
  {
   "cell_type": "code",
   "execution_count": 2,
   "id": "b09220c7",
   "metadata": {},
   "outputs": [],
   "source": [
    "# SPARQL Query for living US politicians\n",
    "sparql_query = \"\"\"\n",
    "SELECT DISTINCT ?politician ?label ?aliases ?desc\n",
    "WHERE {\n",
    "  ?politician wdt:P31 wd:Q5; # Human\n",
    "              wdt:P106 wd:Q82955; # Occupation: Politician\n",
    "              wdt:P27 wd:Q30; # Country of citizenship: United States\n",
    "              wdt:P39 ?position. # Position held\n",
    "\n",
    "  # National-level positions\n",
    "  VALUES ?position {\n",
    "    wd:Q11696 # President of the United States\n",
    "    wd:Q11699 # Vice President of the United States\n",
    "    wd:Q13218630 # Member of the United States House of Representatives\n",
    "    wd:Q4416090 # United States Senator\n",
    "  }\n",
    "\n",
    "  FILTER NOT EXISTS { ?politician wdt:P570 ?deathDate. } # Filter out politicians with a death date\n",
    "\n",
    "  SERVICE wikibase:label { bd:serviceParam wikibase:language \"en\".\n",
    "      ?politician rdfs:label ?label.\n",
    "      ?politician skos:altLabel ?aliases.\n",
    "      ?politician schema:description ?desc.\n",
    "  }\n",
    "}\n",
    "ORDER BY ?label\n",
    "\n",
    "\"\"\""
   ]
  },
  {
   "cell_type": "code",
   "execution_count": 3,
   "id": "3ff7cc51",
   "metadata": {},
   "outputs": [],
   "source": [
    "RESULT_POSTPROCESSORS = {\n",
    "    'politician': lambda uri: uri.replace(\"http://www.wikidata.org/entity/\",\"\"),\n",
    "    'aliases': lambda aliases: [a.strip() for a in aliases.split(', ')]\n",
    "}\n",
    "\n",
    "UNIQUE_FIELDS = ['politician']\n",
    "\n",
    "\n",
    "def sparql2df(sparql_query, endpoint=\"https://query.wikidata.org/sparql?format=json\"):\n",
    "    res = requests.get(\n",
    "        endpoint,\n",
    "        params={\"query\": sparql_query}\n",
    "    ).json()\n",
    "    \n",
    "    # parse results\n",
    "    rows = []\n",
    "    for r in res['results']['bindings']:\n",
    "        row = {}\n",
    "        for k, v in r.items():\n",
    "            postprocess = RESULT_POSTPROCESSORS.get(k, lambda x: x)\n",
    "            v = postprocess(v['value'])\n",
    "            row[k] = v\n",
    "            rows.append(row)\n",
    "    \n",
    "    return pd.DataFrame.from_records(rows).drop_duplicates(UNIQUE_FIELDS).reset_index()"
   ]
  },
  {
   "cell_type": "code",
   "execution_count": 4,
   "id": "2688823c",
   "metadata": {},
   "outputs": [
    {
     "data": {
      "text/html": [
       "<div>\n",
       "<style scoped>\n",
       "    .dataframe tbody tr th:only-of-type {\n",
       "        vertical-align: middle;\n",
       "    }\n",
       "\n",
       "    .dataframe tbody tr th {\n",
       "        vertical-align: top;\n",
       "    }\n",
       "\n",
       "    .dataframe thead th {\n",
       "        text-align: right;\n",
       "    }\n",
       "</style>\n",
       "<table border=\"1\" class=\"dataframe\">\n",
       "  <thead>\n",
       "    <tr style=\"text-align: right;\">\n",
       "      <th></th>\n",
       "      <th>index</th>\n",
       "      <th>politician</th>\n",
       "      <th>label</th>\n",
       "      <th>aliases</th>\n",
       "      <th>desc</th>\n",
       "    </tr>\n",
       "  </thead>\n",
       "  <tbody>\n",
       "    <tr>\n",
       "      <th>0</th>\n",
       "      <td>0</td>\n",
       "      <td>Q302659</td>\n",
       "      <td>Aaron Schock</td>\n",
       "      <td>[Aaron Jon Schock, Aaron Shock]</td>\n",
       "      <td>American politician</td>\n",
       "    </tr>\n",
       "    <tr>\n",
       "      <th>1</th>\n",
       "      <td>4</td>\n",
       "      <td>Q24435337</td>\n",
       "      <td>Abby Finkenauer</td>\n",
       "      <td>[Abby Lea Finkenauer]</td>\n",
       "      <td>American politician</td>\n",
       "    </tr>\n",
       "    <tr>\n",
       "      <th>2</th>\n",
       "      <td>8</td>\n",
       "      <td>Q55603085</td>\n",
       "      <td>Abigail Spanberger</td>\n",
       "      <td>[Abigail Anne Spanberger]</td>\n",
       "      <td>American politician</td>\n",
       "    </tr>\n",
       "    <tr>\n",
       "      <th>3</th>\n",
       "      <td>12</td>\n",
       "      <td>Q349955</td>\n",
       "      <td>Adam Kinzinger</td>\n",
       "      <td>[Adam Daniel Kinzinger]</td>\n",
       "      <td>American politician</td>\n",
       "    </tr>\n",
       "    <tr>\n",
       "      <th>4</th>\n",
       "      <td>16</td>\n",
       "      <td>Q350663</td>\n",
       "      <td>Adam Putnam</td>\n",
       "      <td>[Adam Hughes Putnam]</td>\n",
       "      <td>American politician</td>\n",
       "    </tr>\n",
       "    <tr>\n",
       "      <th>...</th>\n",
       "      <td>...</td>\n",
       "      <td>...</td>\n",
       "      <td>...</td>\n",
       "      <td>...</td>\n",
       "      <td>...</td>\n",
       "    </tr>\n",
       "    <tr>\n",
       "      <th>1593</th>\n",
       "      <td>6111</td>\n",
       "      <td>Q16225780</td>\n",
       "      <td>Yvette Herrell</td>\n",
       "      <td>[Stella Yvette Herrell]</td>\n",
       "      <td>American politician, businesswoman, and real e...</td>\n",
       "    </tr>\n",
       "    <tr>\n",
       "      <th>1594</th>\n",
       "      <td>6115</td>\n",
       "      <td>Q538206</td>\n",
       "      <td>Yvonne Brathwaite Burke</td>\n",
       "      <td>NaN</td>\n",
       "      <td>American politician</td>\n",
       "    </tr>\n",
       "    <tr>\n",
       "      <th>1595</th>\n",
       "      <td>6118</td>\n",
       "      <td>Q139389</td>\n",
       "      <td>Zach Wamp</td>\n",
       "      <td>[Zachary Paul Wamp]</td>\n",
       "      <td>American politician</td>\n",
       "    </tr>\n",
       "    <tr>\n",
       "      <th>1596</th>\n",
       "      <td>6122</td>\n",
       "      <td>Q139887</td>\n",
       "      <td>Zack Space</td>\n",
       "      <td>NaN</td>\n",
       "      <td>American politician</td>\n",
       "    </tr>\n",
       "    <tr>\n",
       "      <th>1597</th>\n",
       "      <td>6125</td>\n",
       "      <td>Q218217</td>\n",
       "      <td>Zoe Lofgren</td>\n",
       "      <td>[Susan Ellen Lofgren]</td>\n",
       "      <td>American politician</td>\n",
       "    </tr>\n",
       "  </tbody>\n",
       "</table>\n",
       "<p>1598 rows × 5 columns</p>\n",
       "</div>"
      ],
      "text/plain": [
       "      index politician                    label  \\\n",
       "0         0    Q302659             Aaron Schock   \n",
       "1         4  Q24435337          Abby Finkenauer   \n",
       "2         8  Q55603085       Abigail Spanberger   \n",
       "3        12    Q349955           Adam Kinzinger   \n",
       "4        16    Q350663              Adam Putnam   \n",
       "...     ...        ...                      ...   \n",
       "1593   6111  Q16225780           Yvette Herrell   \n",
       "1594   6115    Q538206  Yvonne Brathwaite Burke   \n",
       "1595   6118    Q139389                Zach Wamp   \n",
       "1596   6122    Q139887               Zack Space   \n",
       "1597   6125    Q218217              Zoe Lofgren   \n",
       "\n",
       "                              aliases  \\\n",
       "0     [Aaron Jon Schock, Aaron Shock]   \n",
       "1               [Abby Lea Finkenauer]   \n",
       "2           [Abigail Anne Spanberger]   \n",
       "3             [Adam Daniel Kinzinger]   \n",
       "4                [Adam Hughes Putnam]   \n",
       "...                               ...   \n",
       "1593          [Stella Yvette Herrell]   \n",
       "1594                              NaN   \n",
       "1595              [Zachary Paul Wamp]   \n",
       "1596                              NaN   \n",
       "1597            [Susan Ellen Lofgren]   \n",
       "\n",
       "                                                   desc  \n",
       "0                                   American politician  \n",
       "1                                   American politician  \n",
       "2                                   American politician  \n",
       "3                                   American politician  \n",
       "4                                   American politician  \n",
       "...                                                 ...  \n",
       "1593  American politician, businesswoman, and real e...  \n",
       "1594                                American politician  \n",
       "1595                                American politician  \n",
       "1596                                American politician  \n",
       "1597                                American politician  \n",
       "\n",
       "[1598 rows x 5 columns]"
      ]
     },
     "execution_count": 4,
     "metadata": {},
     "output_type": "execute_result"
    }
   ],
   "source": [
    "# Ok let's get a dataframe of entities from the Wikidata Query Service\n",
    "entity_df = sparql2df(sparql_query)\n",
    "entity_df"
   ]
  },
  {
   "cell_type": "code",
   "execution_count": 5,
   "id": "5ebbc9df",
   "metadata": {},
   "outputs": [
    {
     "name": "stdout",
     "output_type": "stream",
     "text": [
      "[['Obama', 'BHO', 'President Barack Obama', 'Barack', 'Barack H. Obama', 'Barack Hussein Obama', 'Barack Hussein Obama II', 'Barack Obama II', 'Barak Obama', 'Barry Obama', 'President Obama', 'Honorable Barack Obama']]\n"
     ]
    }
   ],
   "source": [
    "# Aliases for Barack Obama\n",
    "print([a for a in entity_df[entity_df['label'] == 'Barack Obama']['aliases']])"
   ]
  },
  {
   "cell_type": "code",
   "execution_count": 6,
   "id": "13f44758",
   "metadata": {},
   "outputs": [],
   "source": [
    "def entity2signal(entity):\n",
    "    surface_forms = set([entity['label']])\n",
    "    if type(entity['aliases']) is list:\n",
    "        surface_forms.update(entity['aliases'])\n",
    "    surface_forms = list(surface_forms)\n",
    "    \n",
    "    return signals.AylienSignal(\n",
    "        name=entity['label'],\n",
    "        params={\n",
    "            'entity_surface_forms_text': surface_forms,\n",
    "            'min_prominence_score': 0.7\n",
    "        }\n",
    "    )\n"
   ]
  },
  {
   "cell_type": "code",
   "execution_count": 7,
   "id": "896ef786",
   "metadata": {},
   "outputs": [],
   "source": [
    "label2signal = OrderedDict()\n",
    "\n",
    "for record in entity_df.to_dict(orient='records'):\n",
    "    label2signal[record['label']] = entity2signal(record)"
   ]
  },
  {
   "cell_type": "code",
   "execution_count": 8,
   "id": "3301815b",
   "metadata": {},
   "outputs": [
    {
     "name": "stderr",
     "output_type": "stream",
     "text": [
      "100%|███████████████████████████████████████████| 10/10 [00:19<00:00,  1.90s/it]\n"
     ]
    }
   ],
   "source": [
    "# from this cell you need to have Aylien NewsAPI credentials set up\n",
    "\n",
    "start = '2023-02-01'\n",
    "end = '2023-04-03'\n",
    "\n",
    "anomaly_detection_start = '2023-03-24'\n",
    "\n",
    "# which politicians are currently anomalous with respect to news volume?\n",
    "# init anomaly signals\n",
    "# querying for ~1600 signals will take around 15 minutes\n",
    "cutoff = 10\n",
    "for label, signal in tqdm.tqdm(list(label2signal.items())[:cutoff]):\n",
    "    label2signal[label] = signal(start, end).anomaly_signal(anomaly_detection_start, end)"
   ]
  },
  {
   "cell_type": "code",
   "execution_count": 9,
   "id": "ff3159f8",
   "metadata": {},
   "outputs": [
    {
     "data": {
      "text/plain": [
       "['Aaron Schock',\n",
       " 'Abby Finkenauer',\n",
       " 'Abigail Spanberger',\n",
       " 'Adam Kinzinger',\n",
       " 'Adam Putnam',\n",
       " 'Adam Schiff',\n",
       " 'Adam Smith',\n",
       " 'Adrian Smith',\n",
       " 'Adriano Espaillat',\n",
       " \"Al D'Amato\"]"
      ]
     },
     "execution_count": 9,
     "metadata": {},
     "output_type": "execute_result"
    }
   ],
   "source": [
    "list(label2signal.keys())[:cutoff]"
   ]
  },
  {
   "cell_type": "code",
   "execution_count": 11,
   "id": "8603c5d6",
   "metadata": {},
   "outputs": [
    {
     "data": {
      "text/plain": [
       "<Axes: xlabel='date'>"
      ]
     },
     "execution_count": 11,
     "metadata": {},
     "output_type": "execute_result"
    },
    {
     "data": {
      "image/png": "[encoded data removed]",
      "text/plain": [
       "<Figure size 640x480 with 1 Axes>"
      ]
     },
     "metadata": {},
     "output_type": "display_data"
    }
   ],
   "source": [
    "label2signal['Adam Schiff'].plot()"
   ]
  },
  {
   "cell_type": "code",
   "execution_count": 12,
   "id": "a03d892e",
   "metadata": {},
   "outputs": [],
   "source": [
    "def investigate_signal(signal):\n",
    "    if signal[signal.ts_column].sum() == 0:\n",
    "        print('Signal timeseries is always zero, nothing to investigate')\n",
    "        return\n",
    "    most_anomalous_day = signal['anomalies'].idxmax()\n",
    "    _ = signal.sample_stories_in_window(\n",
    "        start=most_anomalous_day,\n",
    "        end=most_anomalous_day + datetime.timedelta(days=1)\n",
    "    )\n",
    "    daily_stories = signal.feeds_df['stories']\n",
    "    title_dedup = set()\n",
    "    for stories in daily_stories:\n",
    "        if type(stories) is list:\n",
    "            for s in stories:\n",
    "                if s['title'] not in title_dedup:\n",
    "                    print(s['title'])\n",
    "                    # try to find a place where the entity was mentioned\n",
    "                    sf_idx = s['body'].find(signal.name)\n",
    "                    if sf_idx > -1:\n",
    "                        sf_end_idx = len(signal.name) + sf_idx\n",
    "                        print(f'{s[\"body\"][sf_idx-50:sf_idx]} __{s[\"body\"][sf_idx:sf_end_idx]}__ {s[\"body\"][sf_end_idx:sf_end_idx+50]}')\n",
    "                    title_dedup.update(s['title'])\n"
   ]
  },
  {
   "cell_type": "code",
   "execution_count": 13,
   "id": "78ca13b9",
   "metadata": {},
   "outputs": [
    {
     "name": "stdout",
     "output_type": "stream",
     "text": [
      "\n",
      "Investigating Aaron Schock\n",
      "   index politician         label                          aliases  \\\n",
      "0      0    Q302659  Aaron Schock  [Aaron Jon Schock, Aaron Shock]   \n",
      "\n",
      "                  desc  \n",
      "0  American politician  \n",
      "Signal timeseries is always zero, nothing to investigate\n",
      "\n",
      "Investigating Abby Finkenauer\n",
      "   index politician            label                aliases  \\\n",
      "1      4  Q24435337  Abby Finkenauer  [Abby Lea Finkenauer]   \n",
      "\n",
      "                  desc  \n",
      "1  American politician  \n"
     ]
    },
    {
     "name": "stderr",
     "output_type": "stream",
     "text": [
      "100%|█████████████████████████████████████████████| 1/1 [00:00<00:00,  1.79it/s]\n"
     ]
    },
    {
     "name": "stdout",
     "output_type": "stream",
     "text": [
      "US midterm elections: A look at the House's 'firsts'\n",
      "0 PM | Last Updated: 07th November 2018 07:11 PM\n",
      "  __Abby Finkenauer__  (First congresswoman from Iowa): Abby Finkenauer \n",
      "\n",
      "Investigating Abigail Spanberger\n",
      "   index politician               label                    aliases  \\\n",
      "2      8  Q55603085  Abigail Spanberger  [Abigail Anne Spanberger]   \n",
      "\n",
      "                  desc  \n",
      "2  American politician  \n"
     ]
    },
    {
     "name": "stderr",
     "output_type": "stream",
     "text": [
      "100%|█████████████████████████████████████████████| 1/1 [00:01<00:00,  1.07s/it]\n"
     ]
    },
    {
     "name": "stdout",
     "output_type": "stream",
     "text": [
      "After serving in CIA, lawmaker now has role overseeing it\n",
      " __Abigail Spanberger__ , D-Va., arrives as Democrats hold elections for t\n",
      "After serving in CIA, lawmaker now has role overseeing it\n",
      " __Abigail Spanberger__ , D-Va., arrives as Democrats hold elections for t\n",
      "After serving in CIA, lawmaker now has role overseeing it\n",
      " __Abigail Spanberger__ , D-Va., arrives as Democrats hold elections for t\n",
      "After serving in CIA, lawmaker now has role overseeing it\n",
      " an officer running spies for the CIA\n",
      "FILE - Rep.  __Abigail Spanberger__ , D-Va., arrives as Democrats hold elections for t\n",
      "After serving in CIA, lawmaker now has role overseeing it\n",
      " an officer running spies for the CIA\n",
      "FILE - Rep.  __Abigail Spanberger__ , D-Va., arrives as Democrats hold elections for t\n",
      "After serving in CIA, lawmaker now has role overseeing it\n",
      "By NOMAAN MERCHANT - Associated Press\n",
      "FILE - Rep.  __Abigail Spanberger__ , D-Va., arrives as Democrats hold elections for t\n",
      "Amid Ongoing Staffing Shortages, Spanberger Relaunches U.S. Postal Service Survey to Collect Experiences of Virginians Facing Delays\n",
      " __Abigail Spanberger__ , D-Virginia, issued the following news release on\n",
      "Spanberger Puts More Pressure on DEA to Address Adderall Shortage Following Silence from Federal Agencies\n",
      " __Abigail Spanberger__ , D-Virginia, issued the following news release an\n",
      "After Serving in CIA, Lawmaker Now Has Role Overseeing It\n",
      "oversees the work of America's spy agencies.\n",
      "Rep.  __Abigail Spanberger__ , D-VA, speaks about her past work as a Central In\n",
      "After serving in CIA, Rep. Spanberger now has role overseeing it\n",
      " Associated Press • Feb 17, 2023 at 11:36 am\n",
      "Rep.  __Abigail Spanberger__ , D-Va., speaks about her past work as a Central I\n",
      "\n",
      "Investigating Adam Kinzinger\n",
      "   index politician           label                  aliases  \\\n",
      "3     12    Q349955  Adam Kinzinger  [Adam Daniel Kinzinger]   \n",
      "\n",
      "                  desc  \n",
      "3  American politician  \n"
     ]
    },
    {
     "name": "stderr",
     "output_type": "stream",
     "text": [
      "100%|█████████████████████████████████████████████| 1/1 [00:00<00:00,  1.40it/s]\n"
     ]
    },
    {
     "name": "stdout",
     "output_type": "stream",
     "text": [
      "Former US Rep. Adam Kinzinger to release book in October\n",
      " __Adam Kinzinger__ , R-Ill., speaks as the House select committee inv\n",
      "Former US Rep. Adam Kinzinger to release book in October\n",
      "al\n",
      "\n",
      "NEW YORK -- NEW YORK (AP) —\n",
      "\n",
      "Former U.S. Rep.  __Adam Kinzinger__ , the Illinois Republican who broke with his party\n",
      "Former US Rep. Adam Kinzinger to release book in October\n",
      "W YORK (AP) —\n",
      "\n",
      "                  Former U.S. Rep.  __Adam Kinzinger__ , the Illinois Republican who broke with his party\n",
      "Former US Rep. Adam Kinzinger to release book in October\n",
      "again later {{ /verifyErrors }}\n",
      "\n",
      "Former U.S. Rep.  __Adam Kinzinger__ , the Illinois Republican who broke with his party\n",
      "Former US Rep. Adam Kinzinger to release book in October\n",
      " __Adam Kinzinger__ , R-Ill., speaks as the House select committee inv\n",
      "Former US Rep. Adam Kinzinger to release book in October\n",
      " __Adam Kinzinger__ , R-Ill., speaks as the House select committee inv\n",
      "Former US Rep. Adam Kinzinger to release book in October\n",
      " __Adam Kinzinger__ , the Illinois Republican who broke with his party\n",
      "Former US Rep. Adam Kinzinger to release book in October | Merced Sun-Star    Former US Rep. Adam Kinzinger to release book in October\n",
      " __Adam Kinzinger__ , R-Ill., speaks as the House select committee inv\n",
      "Former US Rep. Adam Kinzinger to release book in October      The Illinois Republican who broke with his party two years ago after the Jan. 6 siege of the U.S. Capitol has a book deal    By HILLEL ITALIE - AP National Writer    Feb 21, 2023    Feb 21, 2023    Updated    4 min ago\n",
      " __Adam Kinzinger__ , the Illinois Republican who broke with his party\n",
      "Former US Rep. Adam Kinzinger to release book in October\n",
      "\n",
      "Investigating Adam Putnam\n",
      "   index politician        label               aliases                 desc\n",
      "4     16    Q350663  Adam Putnam  [Adam Hughes Putnam]  American politician\n"
     ]
    },
    {
     "name": "stderr",
     "output_type": "stream",
     "text": [
      "100%|█████████████████████████████████████████████| 1/1 [00:00<00:00,  1.82it/s]\n"
     ]
    },
    {
     "name": "stdout",
     "output_type": "stream",
     "text": [
      "PEOPLE Pours Out Tub of Goo for Young Socialist Congressman Maxwell Frost\n",
      "ell Frost (D-Fla.), elected at age 25.\n",
      "\n",
      "When Rep.  __Adam Putnam__  (R-Fla.) was elected at age 26 in 2000, no libera\n",
      "\n",
      "Investigating Adam Schiff\n",
      "   index politician        label                                aliases  \\\n",
      "5     20    Q350843  Adam Schiff  [Adam B. Schiff, Adam Bennett Schiff]   \n",
      "\n",
      "                  desc  \n",
      "5  American politician  \n"
     ]
    },
    {
     "name": "stderr",
     "output_type": "stream",
     "text": [
      "100%|█████████████████████████████████████████████| 1/1 [00:01<00:00,  1.42s/it]\n"
     ]
    },
    {
     "name": "stdout",
     "output_type": "stream",
     "text": [
      "'They increase the level of hate and violence': Adam Schiff blasts the GOP's 'demonization' of immigrants\n",
      " __Adam Schiff__  (D-California) on Wednesday refuted Republican vi\n",
      "Opinion | New Hope for Russiagate Truths\n",
      " __Adam Schiff__ 's speculations are correct, the FBI was bamboozle\n",
      "Adam Schiff to run for Feinstein’s Senate seat\n",
      " __Adam Schiff__ , who chaired the House Intelligence Committee dur\n",
      "Nancy Pelosi endorses Adam Schiff in California Senate race\n",
      "cy Pelosi, D-San Francisco, speaks alongside Rep.  __Adam Schiff__ , D-Burbank, at a news conference at the U.S. Capi\n",
      "Pelosi backs Schiff for California Senate seat if Feinstein doesn’t run\n",
      " be supporting House Intelligence Committee Chair  __Adam Schiff__ , who knows well the nexus between a strong Democr\n",
      "Pelosi endorses Schiff in California Senate race if Feinstein retires\n",
      " Nancy Pelosi has endorsed fellow Democratic Rep.  __Adam Schiff__  for the U.S. Senate if Sen. Dianne Feinstein of C\n",
      "Pelosi backing Schiff if Feinstein retires\n",
      "ancy Pelosi (D-Calif.) said she will support Rep.  __Adam Schiff__  (D-Calif.) for Senate in California if Sen. Diann\n",
      "Nancy Pelosi Endorses Adam Schiff in California Senate Race If Sen. Dianne Feinstein Doesn't Run\n",
      "mer House Speaker Rep. Nancy Pelosi endorsed Rep.  __Adam Schiff__  in the 2024 Senate race in California.\n",
      "\n",
      "But Pelos\n",
      "Pelosi backing Schiff in Senate race in California if Feinstein retires\n",
      "rting [former] House Intelligence Committee Chair  __Adam Schiff__ , who knows well the nexus between a strong democr\n",
      "Nancy Pelosi endorses Adam Schiff in California Senate race if Sen. Dianne Feinstein doesn't run\n",
      "Pelosi endorsed fellow California Democratic Rep.  __Adam Schiff__  on Thursday in the already-competitive 2024 Senat\n",
      "\n",
      "Investigating Adam Smith\n",
      "   index politician       label             aliases  \\\n",
      "6     24    Q350916  Adam Smith  [David Adam Smith]   \n",
      "\n",
      "                                  desc  \n",
      "6  American politician from Washington  \n"
     ]
    },
    {
     "name": "stderr",
     "output_type": "stream",
     "text": [
      "100%|█████████████████████████████████████████████| 1/1 [00:01<00:00,  1.23s/it]\n"
     ]
    },
    {
     "name": "stdout",
     "output_type": "stream",
     "text": [
      "Adam Smith Institute Nab Ex-Treasury SpAd as New Executive Director\n",
      " __Adam Smith__  Institute Nab Ex-Treasury SpAd as New Director\n",
      "\n",
      "\n",
      "\n",
      "USA: Rep. Smith Statement on House Republican Resolution Denouncing Socialism\n",
      "ted States House of Representatives – Congressman  __Adam Smith__  (9th District of Washington)\n",
      "\n",
      "WASHINGTON, D.C. – \n",
      "USA: Rep. Smith Statement on the Select Committee on the Strategic Competition Between the United States and the Chinese Communist Party\n",
      "ted States House of Representatives – Congressman  __Adam Smith__  (9th District of Washington)\n",
      "\n",
      "WASHINGTON, D.C. – \n",
      "USA: Rep. Smith Statement on the Terrorist Attack in Jerusalem\n",
      "ted States House of Representatives – Congressman  __Adam Smith__  (9th District of Washington)\n",
      "\n",
      "WASHINGTON, D.C. – \n",
      "USA: U.S. Treasury Under Secretary Brian E. Nelson Visits 9th District for Roundtable with Local Money Service Businesses Hosted by Congressman Smith\n",
      "ted States House of Representatives – Congressman  __Adam Smith__  (9th District of Washington)\n",
      "\n",
      "SEATTLE, WA – On Tu\n",
      "Mike Rogers and Adam Smith announce subcommittee rosters on House Armed Services Committee\n",
      "ed Services Committee Chairman and Ranking Member  __Adam Smith__  announced the following Chairmen, Ranking Members\n",
      "Rep. Adam Smith, D-Wash., on concerns over 'MAGA extremists' in Congress        Rep. Bill Huizenga, R-Mich., on the Credit Union Board Modernization Act        Rep. Bill Huizenga, R-Mich., on the Credit Union Board Modernization Act\n",
      " __Adam Smith__ , D-Wash., talks with The National Desk about his \n",
      "Rep. Adam Smith, D-Wash., on concerns over 'MAGA extremists' in Congress      Rep. Bill Huizenga, R-Mich., on the Credit Union Board Modernization Act\n",
      " __Adam Smith__ , D-Wash., talks with The National Desk about his \n",
      "Rep. Adam Smith, D-Wash., on concerns over 'MAGA extremists' in Congress\n",
      " __Adam Smith__ , D-Wash., talks with The National Desk about his \n",
      "Rep. Adam Smith, D-Wash., on concerns over 'MAGA extremists' in Congress\n",
      " __Adam Smith__ , D-Wash., talks with The National Desk about his \n",
      "\n",
      "Investigating Adrian Smith\n",
      "   index politician         label                 aliases                 desc\n",
      "7     28    Q373443  Adrian Smith  [Adrian Michael Smith]  American politician\n"
     ]
    },
    {
     "name": "stderr",
     "output_type": "stream",
     "text": [
      "100%|█████████████████████████████████████████████| 1/1 [00:00<00:00,  1.21it/s]\n"
     ]
    },
    {
     "name": "stdout",
     "output_type": "stream",
     "text": [
      "Smith Announces Caseworker in your Community Events.\n",
      " __Adrian Smith__  has issued the following news release:\n",
      "\n",
      "\n",
      "Constitu\n",
      "Rep. Adrian Smith (R-NE) News Release\n",
      "D.C. - Constituents of Third District Congressman  __Adrian Smith__  (R-NE) are invited to meet with a congressional c\n",
      "Luxhabitat Sotheby's spearheads sales of SO/ Uptown Dubai residences\n",
      " __Adrian Smith__  and Gordon Gill Architecture, SO/ Uptown Dubai is\n",
      "Congressman Johnson and other midwest lawmakers launch “Biofules Caucus”\n",
      "iofuels Caucus Leadership Dusty Johnson (R-S.D.),  __Adrian Smith__  (R-NE), Angie Craig (D-MN), and Mark Pocan (D-WI)\n",
      "Celebrity birthdays: Feb. 27\n",
      "pall.\n",
      " Adam Baldwin\n",
      "  Actor Adam Baldwin is 61.\n",
      "   __Adrian Smith__ \n",
      "  Rock musician Adrian Smith (Iron Maiden) is 66.\n",
      "Celebrity birthdays: Feb. 27      Feb 27, 2023    7 min ago\n",
      " __Adrian Smith__   Barbara Babcock  Brandon Beemer  Chelsea Clinton\n",
      "Celebrity birthdays: Feb. 27\n",
      " __Adrian Smith__   Barbara Babcock  Brandon Beemer  Chelsea Clinton\n",
      "Celebrity birthdays: Feb. 27\n",
      " __Adrian Smith__   Barbara Babcock  Brandon Beemer  Chelsea Clinton\n",
      "Birthdays – Feb. 27\n",
      " Guitarist Neal Schon of Journey is 69. Guitarist  __Adrian Smith__  of Iron Maiden is 66.\n",
      "Actor Timothy Spall (\"Sween\n",
      "Birthdays – Feb. 27\n",
      " Guitarist Neal Schon of Journey is 69. Guitarist  __Adrian Smith__  of Iron Maiden is 66. Actor Timothy Spall (\"Sween\n",
      "\n",
      "Investigating Adriano Espaillat\n",
      "   index politician              label aliases  \\\n",
      "8     32   Q4685569  Adriano Espaillat     NaN   \n",
      "\n",
      "                                desc  \n",
      "8  U.S. Representative from New York  \n"
     ]
    },
    {
     "name": "stderr",
     "output_type": "stream",
     "text": [
      "100%|█████████████████████████████████████████████| 1/1 [00:00<00:00,  1.03it/s]\n"
     ]
    },
    {
     "name": "stdout",
     "output_type": "stream",
     "text": [
      "Representative Adriano Espaillat Rings NASDAQ Opening Bell.\n",
      " __Adriano Espaillat__  has issued the following news release:\n",
      "\n",
      "\n",
      "Today, R\n",
      "FY24 Appropriations Season Update.\n",
      " __Adriano Espaillat__  has issued the following news release:\n",
      "\n",
      "\n",
      "The seas\n",
      "Democratic Whip Katherine Clark Announces Appointment of Representative Adriano Espaillat as Senior Whip for 118th Congress.\n",
      " __Adriano Espaillat__  has issued the following news release:\n",
      "\n",
      "\n",
      "Today, D\n",
      "USA: Espaillat, Meng, and Morelle Announce Community Project Funding For FY2024 To Help Local Communities\n",
      "ted States House of Representatives – Congressman  __Adriano Espaillat__  (NY-13)\n",
      "Lawmakers Direct Federal Funds to Specifi\n",
      "Espaillat, Meng, and Morelle Announce Community Project Funding For FY2024 To Help Local Communities\n",
      " __Adriano Espaillat__ , D-New York, issued the following news release on\n",
      "LAWMAKERS DIRECT FEDERAL FUNDS TO SPECIFIC PROJECTS IN THEIR CONGRESSIONAL DISTRICTS THROUGH CONGRESSIONAL PROCESS\n",
      " __Adriano Espaillat__  (NY-13), Grace Meng (NY-06), and Joe Morelle (NY-\n",
      "Espaillat, Meng, and Morelle Announce Community Project Funding For FY2024 To Help Local Communities\n",
      "sional Process\n",
      "\n",
      "\n",
      "WASHINGTON, DC - Representatives  __Adriano Espaillat__  (NY-13), Grace Meng (NY-06), and Joe Morelle (NY-\n",
      "Espaillat Announces Community Project Funding, Urges Orgs to Apply\n",
      "nding! Reply\n",
      "\n",
      "Community Project Funding FY24 - 1 ( __Adriano Espaillat__ )\n",
      "\n",
      "WASHINGTON, DC – Representatives Adriano Espail\n",
      "USA: Meng, Espaillat, and Morelle Announce Community Project Funding For FY2024 To Help Local Communities\n",
      "York)\n",
      "\n",
      "WASHINGTON, DC – Reps. Grace Meng (NY-06),  __Adriano Espaillat__  (NY-13), and Joe Morelle (NY-25) the three New Yo\n",
      "\n",
      "Investigating Al D'Amato\n",
      "   index politician       label aliases                 desc\n",
      "9     35   Q2064037  Al D'Amato     NaN  American politician\n"
     ]
    },
    {
     "name": "stderr",
     "output_type": "stream",
     "text": [
      "100%|█████████████████████████████████████████████| 1/1 [00:00<00:00,  1.48it/s]"
     ]
    },
    {
     "name": "stdout",
     "output_type": "stream",
     "text": [
      "Former Senator Has Bad News for Trump About New York Donors\n"
     ]
    },
    {
     "name": "stderr",
     "output_type": "stream",
     "text": [
      "\n"
     ]
    }
   ],
   "source": [
    "for politician_name in list(label2signal.keys())[:cutoff]:\n",
    "    print()\n",
    "    print(f'Investigating {politician_name}')\n",
    "    print(entity_df[entity_df['label'] == politician_name])\n",
    "    investigate_signal(label2signal[politician_name])"
   ]
  },
  {
   "cell_type": "code",
   "execution_count": 14,
   "id": "92694902",
   "metadata": {},
   "outputs": [],
   "source": [
    "from news_signals.signals_dataset import SignalsDataset\n",
    "\n",
    "\n",
    "politicians_dataset = SignalsDataset(label2signal.values())"
   ]
  },
  {
   "cell_type": "code",
   "execution_count": 15,
   "id": "acbdf187",
   "metadata": {},
   "outputs": [
    {
     "name": "stdout",
     "output_type": "stream",
     "text": [
      "2023-04-04 11:23:16,001 news_signals.signals_dataset INFO: Saved compressed dataset to wikidata_US_politicians.tar.gz\n"
     ]
    },
    {
     "data": {
      "text/plain": [
       "'wikidata_US_politicians.tar.gz'"
      ]
     },
     "execution_count": 15,
     "metadata": {},
     "output_type": "execute_result"
    }
   ],
   "source": [
    "dataset_path = 'wikidata_US_politicians'\n",
    "politicians_dataset.save(dataset_path)"
   ]
  },
  {
   "cell_type": "code",
   "execution_count": null,
   "id": "76c880ee",
   "metadata": {},
   "outputs": [],
   "source": []
  }
 ],
 "metadata": {
  "kernelspec": {
   "display_name": "Python 3 (ipykernel)",
   "language": "python",
   "name": "python3"
  },
  "language_info": {
   "codemirror_mode": {
    "name": "ipython",
    "version": 3
   },
   "file_extension": ".py",
   "mimetype": "text/x-python",
   "name": "python",
   "nbconvert_exporter": "python",
   "pygments_lexer": "ipython3",
   "version": "3.8.16"
  }
 },
 "nbformat": 4,
 "nbformat_minor": 5
}
