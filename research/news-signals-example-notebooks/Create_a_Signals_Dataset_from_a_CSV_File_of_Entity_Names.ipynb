{
 "cells": [
  {
   "cell_type": "code",
   "execution_count": null,
   "id": "29df7258-1965-44d2-b03a-2a2074572d54",
   "metadata": {},
   "outputs": [],
   "source": [
    "# This notebook shows how to create a signals dataset from a .csv file"
   ]
  },
  {
   "cell_type": "code",
   "execution_count": null,
   "id": "aac5cb7c-4d7a-476b-ba19-8e4d591d5a94",
   "metadata": {},
   "outputs": [],
   "source": [
    "# not needed if news_signals is already installed\n",
    "# you might see a pip version error but it's grand, don't worry\n",
    "!pip install -q news_signals"
   ]
  },
  {
   "cell_type": "code",
   "execution_count": 1,
   "id": "a7401ba5-68b3-4bb6-bbd6-f997ed5739b8",
   "metadata": {},
   "outputs": [],
   "source": [
    "import argparse\n",
    "import json\n",
    "import logging\n",
    "from pathlib import Path\n",
    "\n",
    "import pandas as pd\n",
    "import arrow\n",
    "\n",
    "from news_signals import newsapi\n",
    "from news_signals.signals import AylienSignal\n",
    "from news_signals.signals_dataset import SignalsDataset, generate_dataset, reduce_aylien_story\n",
    "from news_signals.dataset_transformations import get_dataset_transform\n",
    "from news_signals.log import create_logger"
   ]
  },
  {
   "cell_type": "code",
   "execution_count": null,
   "id": "f9c8ceaa-5a13-43f1-b69d-d375e88b16a8",
   "metadata": {},
   "outputs": [],
   "source": [
    "# create a trial account here: https://aylien.com/news-api-signup\n",
    "# then go to https://app.aylien.com/dashboard to get your credentials\n",
    "\n",
    "# note it's MUCH better to set these as environment variables if you know how, and delete this cell\n",
    "# so that API keys aren't accidentally passed around\n",
    "# but we include this cell for convience -- please be very careful to not share your keys\n",
    "# NEWSAPI_APP_ID='<set-this>'\n",
    "# NEWSAPI_APP_KEY='<set-this>'\n",
    "# newsapi.set_headers(NEWSAPI_APP_ID, NEWSAPI_APP_KEY)"
   ]
  },
  {
   "cell_type": "code",
   "execution_count": 2,
   "id": "c8fa6f0c-7e81-4583-a886-dc116f6f673e",
   "metadata": {},
   "outputs": [
    {
     "data": {
      "text/html": [
       "<div>\n",
       "<style scoped>\n",
       "    .dataframe tbody tr th:only-of-type {\n",
       "        vertical-align: middle;\n",
       "    }\n",
       "\n",
       "    .dataframe tbody tr th {\n",
       "        vertical-align: top;\n",
       "    }\n",
       "\n",
       "    .dataframe thead th {\n",
       "        text-align: right;\n",
       "    }\n",
       "</style>\n",
       "<table border=\"1\" class=\"dataframe\">\n",
       "  <thead>\n",
       "    <tr style=\"text-align: right;\">\n",
       "      <th></th>\n",
       "      <th>Wikidata ID</th>\n",
       "      <th>Wikidata Label</th>\n",
       "    </tr>\n",
       "  </thead>\n",
       "  <tbody>\n",
       "    <tr>\n",
       "      <th>0</th>\n",
       "      <td>Q1024454</td>\n",
       "      <td>CSX Corporation</td>\n",
       "    </tr>\n",
       "    <tr>\n",
       "      <th>1</th>\n",
       "      <td>Q1055390</td>\n",
       "      <td>Cerner</td>\n",
       "    </tr>\n",
       "    <tr>\n",
       "      <th>2</th>\n",
       "      <td>Q1092571</td>\n",
       "      <td>Cintas</td>\n",
       "    </tr>\n",
       "    <tr>\n",
       "      <th>3</th>\n",
       "      <td>Q11463</td>\n",
       "      <td>Adobe</td>\n",
       "    </tr>\n",
       "    <tr>\n",
       "      <th>4</th>\n",
       "      <td>Q1155668</td>\n",
       "      <td>NXP Semiconductors</td>\n",
       "    </tr>\n",
       "    <tr>\n",
       "      <th>5</th>\n",
       "      <td>Q1383669</td>\n",
       "      <td>Exelon</td>\n",
       "    </tr>\n",
       "    <tr>\n",
       "      <th>6</th>\n",
       "      <td>Q14772</td>\n",
       "      <td>Baidu</td>\n",
       "    </tr>\n",
       "    <tr>\n",
       "      <th>7</th>\n",
       "      <td>Q15109865</td>\n",
       "      <td>Dexcom</td>\n",
       "    </tr>\n",
       "    <tr>\n",
       "      <th>8</th>\n",
       "      <td>Q1545076</td>\n",
       "      <td>GARANT</td>\n",
       "    </tr>\n",
       "    <tr>\n",
       "      <th>9</th>\n",
       "      <td>Q17081612</td>\n",
       "      <td>Moderna</td>\n",
       "    </tr>\n",
       "  </tbody>\n",
       "</table>\n",
       "</div>"
      ],
      "text/plain": [
       "  Wikidata ID      Wikidata Label\n",
       "0    Q1024454     CSX Corporation\n",
       "1    Q1055390              Cerner\n",
       "2    Q1092571              Cintas\n",
       "3      Q11463               Adobe\n",
       "4    Q1155668  NXP Semiconductors\n",
       "5    Q1383669              Exelon\n",
       "6      Q14772               Baidu\n",
       "7   Q15109865              Dexcom\n",
       "8    Q1545076              GARANT\n",
       "9   Q17081612             Moderna"
      ]
     },
     "execution_count": 2,
     "metadata": {},
     "output_type": "execute_result"
    }
   ],
   "source": [
    "# let's grab an example csv and load it into a dataframe\n",
    "csv_url = \"https://raw.githubusercontent.com/AYLIEN/news-signals-datasets/main/resources/test/nasdaq100.small.csv\"\n",
    "\n",
    "# Read data from URL\n",
    "entity_data = pd.read_csv(csv_url)\n",
    "csv_path = 'example_csv_data.csv'\n",
    "entity_data.to_csv(csv_path)\n",
    "entity_data"
   ]
  },
  {
   "cell_type": "code",
   "execution_count": 3,
   "id": "60f42cc6-224b-4c0e-9134-993a6611b212",
   "metadata": {},
   "outputs": [
    {
     "name": "stderr",
     "output_type": "stream",
     "text": [
      "  0%|                                                                                                                                                                              | 0/10 [00:00<?, ?it/s]"
     ]
    },
    {
     "name": "stdout",
     "output_type": "stream",
     "text": [
      "2024-01-25 14:14:48,935 news_signals.signals_dataset INFO: signal exists already, skipping to next\n",
      "2024-01-25 14:14:48,936 news_signals.signals_dataset INFO: signal exists already, skipping to next\n",
      "2024-01-25 14:14:48,937 news_signals.signals_dataset INFO: signal exists already, skipping to next\n",
      "2024-01-25 14:14:48,938 news_signals.signals_dataset INFO: signal exists already, skipping to next\n",
      "2024-01-25 14:14:48,939 news_signals.signals_dataset INFO: signal exists already, skipping to next\n",
      "2024-01-25 14:14:48,939 news_signals.signals_dataset INFO: signal exists already, skipping to next\n",
      "2024-01-25 14:14:48,940 news_signals.signals_dataset INFO: signal exists already, skipping to next\n",
      "2024-01-25 14:14:48,941 news_signals.signals_dataset INFO: signal exists already, skipping to next\n",
      "2024-01-25 14:14:48,941 news_signals.signals_dataset INFO: signal exists already, skipping to next\n",
      "2024-01-25 14:14:48,942 news_signals.signals_dataset INFO: signal exists already, skipping to next\n"
     ]
    },
    {
     "name": "stderr",
     "output_type": "stream",
     "text": [
      "100%|███████████████████████████████████████████████████████████████████████████████████████████████████████████████████████████████████████████████████████████████████| 10/10 [00:00<00:00, 1329.25it/s]"
     ]
    },
    {
     "name": "stdout",
     "output_type": "stream",
     "text": [
      "2024-01-25 14:14:48,943 news_signals.signals_dataset INFO: Found decompressed dataset at example_signals_dataset, not decompressing again.\n"
     ]
    },
    {
     "name": "stderr",
     "output_type": "stream",
     "text": [
      "\n"
     ]
    },
    {
     "name": "stdout",
     "output_type": "stream",
     "text": [
      "2024-01-25 14:14:49,404 news_signals.signals_dataset INFO: Saved compressed dataset to example_signals_dataset.tar.gz\n"
     ]
    }
   ],
   "source": [
    "output_dataset_path = Path('example_signals_dataset')\n",
    "config = {\n",
    "    'gcs_bucket': None,\n",
    "    'start': '2023-10-01',\n",
    "    'end': '2023-10-10',\n",
    "    'stories_per_day': 10,\n",
    "    'name_field': 'Wikidata Label',\n",
    "    'id_field': None,\n",
    "    'surface_form_field': 'Wikidata Label',\n",
    "    'overwrite': False\n",
    "}\n",
    "\n",
    "dataset = generate_dataset(\n",
    "    input=Path(csv_path),\n",
    "    output_dataset_dir=output_dataset_path,\n",
    "    gcs_bucket=config['gcs_bucket'],\n",
    "    start=arrow.get(config['start']).datetime,\n",
    "    end=arrow.get(config['end']).datetime,\n",
    "    stories_per_day=config['stories_per_day'],\n",
    "    name_field=config['name_field'],\n",
    "    id_field=config['id_field'],\n",
    "    surface_form_field=config.get(\"surface_form_field\", None),\n",
    "    overwrite=config['overwrite'],\n",
    "    delete_tmp_files=True,\n",
    "    compress=True,\n",
    "    post_process_story=reduce_aylien_story\n",
    ")    "
   ]
  },
  {
   "cell_type": "code",
   "execution_count": null,
   "id": "87a136d4-87e2-4ebd-b918-e63310caefb9",
   "metadata": {},
   "outputs": [],
   "source": [
    "dataset = SignalsDataset.load(output_dataset_path)"
   ]
  },
  {
   "cell_type": "code",
   "execution_count": null,
   "id": "7c74ff42-84f6-4f25-b2f3-c0e80180a3b6",
   "metadata": {},
   "outputs": [],
   "source": [
    "dataset.plot()"
   ]
  },
  {
   "cell_type": "code",
   "execution_count": null,
   "id": "174818e6-071d-4bfb-a6e8-1405a25148f3",
   "metadata": {},
   "outputs": [],
   "source": [
    "signals = sorted(dataset.signals.values(), key=lambda s: s.name)\n",
    "[s.name for s in signals]"
   ]
  },
  {
   "cell_type": "code",
   "execution_count": null,
   "id": "e1607a96-6c15-4e0d-8720-889667b1207a",
   "metadata": {},
   "outputs": [],
   "source": [
    "signal = signals[0]\n",
    "print(f'Signal Name: {signal.name}')\n",
    "signal.plot()"
   ]
  },
  {
   "cell_type": "code",
   "execution_count": null,
   "id": "f2430054-c201-4374-b847-f822628873f8",
   "metadata": {},
   "outputs": [],
   "source": [
    "signal.feeds_df.tail(3)"
   ]
  },
  {
   "cell_type": "code",
   "execution_count": null,
   "id": "9b6f0cd9-a8b4-4a8a-a27e-f42dbb560c5a",
   "metadata": {},
   "outputs": [],
   "source": [
    "for day in signal.feeds_df['stories']:\n",
    "    for story in day:\n",
    "        print(story['title'])"
   ]
  },
  {
   "cell_type": "code",
   "execution_count": null,
   "id": "20cb477d-35e8-4fcc-813b-217fad27c970",
   "metadata": {},
   "outputs": [],
   "source": []
  }
 ],
 "metadata": {
  "kernelspec": {
   "display_name": "Python 3 (ipykernel)",
   "language": "python",
   "name": "python3"
  },
  "language_info": {
   "codemirror_mode": {
    "name": "ipython",
    "version": 3
   },
   "file_extension": ".py",
   "mimetype": "text/x-python",
   "name": "python",
   "nbconvert_exporter": "python",
   "pygments_lexer": "ipython3",
   "version": "3.10.11"
  }
 },
 "nbformat": 4,
 "nbformat_minor": 5
}
