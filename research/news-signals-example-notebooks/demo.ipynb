{
 "cells": [
  {
   "cell_type": "code",
   "execution_count": 3,
   "metadata": {},
   "outputs": [],
   "source": [
    "import news_signals\n",
    "from news_signals.exogenous_signals import WikidataSearch"
   ]
  },
  {
   "cell_type": "code",
   "execution_count": 6,
   "metadata": {},
   "outputs": [
    {
     "name": "stdout",
     "output_type": "stream",
     "text": [
      "Related entities: {'Q5460604': 'Wikipedia:List of articles all languages should have', 'Q435651': 'old Kantonsschule (Albert Einstein House)', 'Q31519': 'Charles University', 'Q21200226': 'Albert Einstein', 'Q42299': 'Bernhard Riemann', 'Q57246': 'Hermann Minkowski', 'Q7213562': 'Category:Albert Einstein', 'Q93996': 'Ernst Mach', 'Q414188': 'Göttingen Academy of Sciences', 'Q2095524': 'Indian National Science Academy', 'Q14708020': 'Louis Round Wilson Library', 'Q991': 'Fyodor Dostoyevsky', 'Q28861731': 'honorary doctor of the Hebrew University of Jerusalem', 'Q72': 'Zurich', 'Q464344': 'Caputh', 'Q253439': 'Royal Netherlands Academy of Arts and Sciences', 'Q310794': 'Karl Pearson', 'Q55594631': 'Lina Einstein', 'Q1729754': 'German University in Prague', 'Q2945826': 'Centre international de synthèse', 'Q88665': 'Hermann Einstein', 'Q685539': 'Swiss Federal Institute of Intellectual Property', 'Q6173448': 'Wikipedia:Vital articles/Level/4', 'Q2370801': 'Academy of Sciences of the USSR', 'Q42309226': 'honorary doctorate from Princeton University', 'Q4397938': 'Russian Academy of Sciences (1917–1925)', 'Q216738': 'Maja Einstein', 'Q4357787': 'Pauline Koch', 'Q15056034': 'Pour le Mérite for Sciences and Arts order', 'Q21578': 'Princeton University', 'Q9095': 'James Clerk Maxwell', 'Q708038': 'Kaiser Wilhelm Society', 'Q64': 'Berlin', 'Q41688': 'Hendrik Lorentz', 'Q1001': 'Mahatma Gandhi', 'Q8092556': 'Template:Einstein', 'Q684415': 'Bavarian Academy of Sciences and Humanities', 'Q97154': 'Heinrich Burkhardt', 'Q191583': 'Royal Swedish Academy of Sciences', 'Q1085': 'Prague', 'Q43287': 'German Empire', 'Q819187': 'Deutsche Physikalische Gesellschaft', 'Q390003': 'Einsteinhaus', 'Q152087': 'Humboldt University of Berlin', 'Q25820': 'Thomas Young', 'Q1726': 'Munich', 'Q123885': 'Royal Society', 'Q183': 'Germany', 'Q41304': 'Weimar Republic', 'Q188771': 'French Academy of Sciences', 'Q103505599': 'WikiProject PCC Wikidata Pilot/Smithsonian Libraries Dibner Library portraits', 'Q168756': 'University of California, Berkeley', 'Q338432': 'Lincean Academy', 'Q270794': 'National Academy of Sciences', 'Q466089': 'American Philosophical Society', 'Q659080': 'University of Bern', 'Q70': 'Bern', 'Q200639': 'Paul Valéry', 'Q26963166': 'Marie Curie: The Courage of Knowledge', 'Q935': 'Isaac Newton', 'Q39': 'Switzerland', 'Q543804': 'German Academy of Sciences Leopoldina', 'Q11942': 'ETH Zurich', 'Q39934978': 'ETH Zurich University Archives', 'Q19185': 'George Bernard Shaw', 'Q76346': 'Mileva Marić', 'Q48835067': 'outline of Albert Einstein', 'Q355245': 'Henry George', 'Q37160': 'David Hume', 'Q533534': 'Cisleithania', 'Q156478': 'Pour le Mérite', 'Q38193': 'Arthur Schopenhauer', 'Q206702': 'University of Zurich', 'Q2497232': 'Brazilian Academy of Sciences', 'Q1309294': 'Einsteinhaus Caputh', 'Q35802': 'Benedictus de Spinoza', 'Q675617': 'Swiss Literary Archives', 'Q153238': 'Leó Szilárd', 'Q942842': 'Smíchov', 'Q463303': 'American Academy of Arts and Sciences', 'Q7322195': 'Riazuddin', 'Q468357': 'Lieserl (Einstein)', 'Q4175282': 'Alfred Kleiner', 'Q138518': 'Princeton', 'Q635642': 'Institute for Advanced Study', 'Q902624': 'National Museum of Health and Medicine', 'Q22095877': 'Albert Einstein Archives', 'Q87554': 'Ernst G. Straus', 'Q328195': 'German Democratic Party', 'Q57193': 'Moritz Schlick', 'Q3603946': 'Accademia Nazionale delle Scienze detta dei XL', 'Q9009': 'Schaffhausen', 'Q123371': 'Hans Albert Einstein', 'Q124500735': 'Unknown', 'Q68761': 'Elsa Einstein', 'Q329464': 'Royal Prussian Academy of Sciences', 'Q1876751': 'Luitpold-Gymnasium', 'Q116635': 'Heinrich Friedrich Weber', 'Q156598': 'Leiden University', 'Q642074': 'Historical Dictionary of Switzerland', 'Q30': 'United States', 'Q118253': 'Eduard Einstein', 'Q3012': 'Ulm', 'Q8487137': 'WikiProject Mathematics', 'Q25696257': 'Unknown'}\n"
     ]
    }
   ],
   "source": [
    "searcher = WikidataSearch()\n",
    "entity_id = searcher.entity_to_wikidata_id(\"Albert Einstein\")\n",
    "if entity_id:\n",
    "    related_ids = searcher.wikidata_related_entities(entity_id, depth=1)\n",
    "    labels = searcher.wikidata_labels_to_ids(related_ids)\n",
    "    print(f\"Related entities: {labels}\")"
   ]
  }
 ],
 "metadata": {
  "kernelspec": {
   "display_name": "news-signals",
   "language": "python",
   "name": "python3"
  },
  "language_info": {
   "codemirror_mode": {
    "name": "ipython",
    "version": 3
   },
   "file_extension": ".py",
   "mimetype": "text/x-python",
   "name": "python",
   "nbconvert_exporter": "python",
   "pygments_lexer": "ipython3",
   "version": "3.10.16"
  }
 },
 "nbformat": 4,
 "nbformat_minor": 2
}
