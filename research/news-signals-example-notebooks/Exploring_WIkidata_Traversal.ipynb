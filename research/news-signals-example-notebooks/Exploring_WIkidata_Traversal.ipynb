{
 "cells": [
  {
   "cell_type": "markdown",
   "metadata": {},
   "source": [
    "This notebook is a demonstration for the new Wikidata traversal based functions."
   ]
  },
  {
   "cell_type": "markdown",
   "metadata": {},
   "source": [
    "The new functions can be accessed by the import show below, from exogenous_signals in the news_signals library, using the **WikidataSearch** object."
   ]
  },
  {
   "cell_type": "code",
   "execution_count": 1,
   "metadata": {},
   "outputs": [],
   "source": [
    "import news_signals\n",
    "from news_signals.exogenous_signals import WikidataSearch"
   ]
  },
  {
   "cell_type": "markdown",
   "metadata": {},
   "source": [
    "First we instantiate the class, Using **entity_to_wikidata**, we can get the wikidataID for a named entity with this function.\n",
    "\n",
    "\n",
    ":param entity_name: Name of the entity to search for\n",
    "\n",
    ":return: Wikidata ID as a string, or None if not found"
   ]
  },
  {
   "cell_type": "code",
   "execution_count": 2,
   "metadata": {},
   "outputs": [
    {
     "name": "stdout",
     "output_type": "stream",
     "text": [
      "Q937\n"
     ]
    }
   ],
   "source": [
    "searcher = WikidataSearch()\n",
    "entity_id = searcher.entity_to_wikidata(\"Albert Einstein\")\n",
    "print(entity_id)"
   ]
  },
  {
   "cell_type": "markdown",
   "metadata": {},
   "source": [
    "**wikidata_related_entities** performs a Breadth-First Search on the outgoing links of an entity's Wikidata page. \n",
    "\n",
    ":param wikidata_id: The starting Wikidata ID.\n",
    "\n",
    ":param depth: The number of hops (levels) to traverse.\n",
    "\n",
    ":param labels: Whether to return Wikidata IDs or human-readable labels.\n",
    "\n",
    ":param query: Optional custom SPARQL query for retrieving related entities.\n",
    "\n",
    ":return: A list of related Wikidata IDs.\n",
    "        \n",
    "For this instance, lets set labels to True, and pass in our previous entity_id into the function"
   ]
  },
  {
   "cell_type": "code",
   "execution_count": 3,
   "metadata": {},
   "outputs": [
    {
     "name": "stdout",
     "output_type": "stream",
     "text": [
      "Related entities: ['Q4397938', 'Q21578', 'Q7213562', 'Q4357787', 'Q116635', 'Q2497232', 'Q1085', 'Q138518', 'Q76346', 'Q200639', 'Q168756', 'Q464344', 'Q9095', 'Q11942', 'Q39934978', 'Q543804', 'Q57246', 'Q25696257', 'Q685539', 'Q15056034', 'Q1726', 'Q72', 'Q28861731', 'Q183', 'Q156478', 'Q2370801', 'Q123371', 'Q191583', 'Q57193', 'Q6173448', 'Q37160', 'Q123885', 'Q4175282', 'Q42309226', 'Q70', 'Q2095524', 'Q2945826', 'Q533534', 'Q30', 'Q43287', 'Q68761', 'Q152087', 'Q942842', 'Q14708020', 'Q270794', 'Q97154', 'Q8487137', 'Q8092556', 'Q41304', 'Q642074', 'Q468357', 'Q118253', 'Q466089', 'Q26963166', 'Q684415', 'Q463303', 'Q124500735', 'Q21200226', 'Q390003', 'Q902624', 'Q35802', 'Q39', 'Q435651', 'Q675617', 'Q1729754', 'Q1001', 'Q103505599', 'Q991', 'Q708038', 'Q819187', 'Q355245', 'Q635642', 'Q19185', 'Q87554', 'Q659080', 'Q156598', 'Q31519', 'Q5460604', 'Q22095877', 'Q329464', 'Q188771', 'Q310794', 'Q88665', 'Q41688', 'Q42299', 'Q7322195', 'Q338432', 'Q935', 'Q48835067', 'Q9009', 'Q55594631', 'Q25820', 'Q1876751', 'Q1309294', 'Q253439', 'Q206702', 'Q414188', 'Q3603946', 'Q3012', 'Q328195', 'Q64', 'Q93996', 'Q216738', 'Q38193', 'Q153238']\n"
     ]
    }
   ],
   "source": [
    "related_ids = searcher.wikidata_related_entities(entity_id, depth=1,labels=True)\n",
    "print(f\"Related entities: {related_ids}\")"
   ]
  },
  {
   "cell_type": "markdown",
   "metadata": {},
   "source": [
    "Now after getting the labels, we can use the function **wikidata_to_ids** to get the list of labels back with their entity names.\n",
    "\n",
    ":param wikidata_ids: List of Wikidata IDs (can include composite IDs).\n",
    "\n",
    ":param language: Language code for labels.\n",
    "\n",
    ":return: Dictionary mapping Wikidata IDs to labels."
   ]
  },
  {
   "cell_type": "code",
   "execution_count": 4,
   "metadata": {},
   "outputs": [
    {
     "name": "stdout",
     "output_type": "stream",
     "text": [
      "Related entities: {'Q4397938': 'Russian Academy of Sciences (1917–1925)', 'Q21578': 'Princeton University', 'Q7213562': 'Category:Albert Einstein', 'Q4357787': 'Pauline Koch', 'Q116635': 'Heinrich Friedrich Weber', 'Q2497232': 'Brazilian Academy of Sciences', 'Q1085': 'Prague', 'Q138518': 'Princeton', 'Q76346': 'Mileva Marić', 'Q200639': 'Paul Valéry', 'Q168756': 'University of California, Berkeley', 'Q464344': 'Caputh', 'Q9095': 'James Clerk Maxwell', 'Q11942': 'ETH Zurich', 'Q39934978': 'ETH Zurich University Archives', 'Q543804': 'German Academy of Sciences Leopoldina', 'Q57246': 'Hermann Minkowski', 'Q25696257': 'Unknown', 'Q685539': 'Swiss Federal Institute of Intellectual Property', 'Q15056034': 'Pour le Mérite for Sciences and Arts order', 'Q1726': 'Munich', 'Q72': 'Zurich', 'Q28861731': 'honorary doctor of the Hebrew University of Jerusalem', 'Q183': 'Germany', 'Q156478': 'Pour le Mérite', 'Q2370801': 'Academy of Sciences of the USSR', 'Q123371': 'Hans Albert Einstein', 'Q191583': 'Royal Swedish Academy of Sciences', 'Q57193': 'Moritz Schlick', 'Q6173448': 'Wikipedia:Vital articles/Level/4', 'Q37160': 'David Hume', 'Q123885': 'Royal Society', 'Q4175282': 'Alfred Kleiner', 'Q42309226': 'honorary doctorate from Princeton University', 'Q70': 'Bern', 'Q2095524': 'Indian National Science Academy', 'Q2945826': 'Centre international de synthèse', 'Q533534': 'Cisleithania', 'Q30': 'United States', 'Q43287': 'German Empire', 'Q152087': 'Humboldt University of Berlin', 'Q942842': 'Smíchov', 'Q14708020': 'Louis Round Wilson Library', 'Q270794': 'National Academy of Sciences', 'Q97154': 'Heinrich Burkhardt', 'Q153238': 'Leó Szilárd', 'Q8487137': 'WikiProject Mathematics', 'Q8092556': 'Template:Einstein', 'Q41304': 'Weimar Republic', 'Q642074': 'Historical Dictionary of Switzerland', 'Q468357': 'Lieserl (Einstein)', 'Q118253': 'Eduard Einstein', 'Q466089': 'American Philosophical Society', 'Q26963166': 'Marie Curie: The Courage of Knowledge', 'Q684415': 'Bavarian Academy of Sciences and Humanities', 'Q463303': 'American Academy of Arts and Sciences', 'Q124500735': 'Unknown', 'Q21200226': 'Albert Einstein', 'Q390003': 'Einsteinhaus', 'Q902624': 'National Museum of Health and Medicine', 'Q35802': 'Benedictus de Spinoza', 'Q39': 'Switzerland', 'Q435651': 'old Kantonsschule (Albert Einstein House)', 'Q675617': 'Swiss Literary Archives', 'Q1729754': 'German University in Prague', 'Q1001': 'Mahatma Gandhi', 'Q103505599': 'WikiProject PCC Wikidata Pilot/Smithsonian Libraries Dibner Library portraits', 'Q991': 'Fyodor Dostoyevsky', 'Q708038': 'Kaiser Wilhelm Society', 'Q819187': 'Deutsche Physikalische Gesellschaft', 'Q355245': 'Henry George', 'Q635642': 'Institute for Advanced Study', 'Q19185': 'George Bernard Shaw', 'Q87554': 'Ernst G. Straus', 'Q659080': 'University of Bern', 'Q156598': 'Leiden University', 'Q31519': 'Charles University', 'Q5460604': 'Wikipedia:List of articles all languages should have', 'Q22095877': 'Albert Einstein Archives', 'Q329464': 'Royal Prussian Academy of Sciences', 'Q188771': 'French Academy of Sciences', 'Q310794': 'Karl Pearson', 'Q88665': 'Hermann Einstein', 'Q41688': 'Hendrik Lorentz', 'Q42299': 'Bernhard Riemann', 'Q7322195': 'Riazuddin', 'Q338432': 'Lincean Academy', 'Q935': 'Isaac Newton', 'Q48835067': 'outline of Albert Einstein', 'Q9009': 'Schaffhausen', 'Q55594631': 'Lina Einstein', 'Q25820': 'Thomas Young', 'Q1876751': 'Luitpold-Gymnasium', 'Q1309294': 'Einsteinhaus Caputh', 'Q253439': 'Royal Netherlands Academy of Arts and Sciences', 'Q206702': 'University of Zurich', 'Q414188': 'Göttingen Academy of Sciences', 'Q3603946': 'Accademia Nazionale delle Scienze detta dei XL', 'Q3012': 'Ulm', 'Q328195': 'German Democratic Party', 'Q64': 'Berlin', 'Q93996': 'Ernst Mach', 'Q216738': 'Maja Einstein', 'Q38193': 'Arthur Schopenhauer', 'Q68761': 'Elsa Einstein'}\n"
     ]
    }
   ],
   "source": [
    "labels = searcher.wikidata_to_labels(related_ids,language=\"en\")\n",
    "print(f\"Related entities: {labels}\")"
   ]
  },
  {
   "cell_type": "markdown",
   "metadata": {},
   "source": [
    "In this instance, we can easily skip the multiple steps above and by not specifying labels parameter as True (or just letting it default to False). \n",
    "\n",
    "We just need to pass in the entity name string now."
   ]
  },
  {
   "cell_type": "code",
   "execution_count": 5,
   "metadata": {},
   "outputs": [
    {
     "name": "stdout",
     "output_type": "stream",
     "text": [
      "Related entities: {'Q4397938': 'Russian Academy of Sciences (1917–1925)', 'Q21578': 'Princeton University', 'Q7213562': 'Category:Albert Einstein', 'Q4357787': 'Pauline Koch', 'Q116635': 'Heinrich Friedrich Weber', 'Q2497232': 'Brazilian Academy of Sciences', 'Q1085': 'Prague', 'Q138518': 'Princeton', 'Q76346': 'Mileva Marić', 'Q200639': 'Paul Valéry', 'Q168756': 'University of California, Berkeley', 'Q464344': 'Caputh', 'Q9095': 'James Clerk Maxwell', 'Q11942': 'ETH Zurich', 'Q39934978': 'ETH Zurich University Archives', 'Q543804': 'German Academy of Sciences Leopoldina', 'Q57246': 'Hermann Minkowski', 'Q25696257': 'Unknown', 'Q685539': 'Swiss Federal Institute of Intellectual Property', 'Q15056034': 'Pour le Mérite for Sciences and Arts order', 'Q1726': 'Munich', 'Q72': 'Zurich', 'Q28861731': 'honorary doctor of the Hebrew University of Jerusalem', 'Q183': 'Germany', 'Q156478': 'Pour le Mérite', 'Q2370801': 'Academy of Sciences of the USSR', 'Q123371': 'Hans Albert Einstein', 'Q191583': 'Royal Swedish Academy of Sciences', 'Q57193': 'Moritz Schlick', 'Q6173448': 'Wikipedia:Vital articles/Level/4', 'Q37160': 'David Hume', 'Q123885': 'Royal Society', 'Q4175282': 'Alfred Kleiner', 'Q42309226': 'honorary doctorate from Princeton University', 'Q70': 'Bern', 'Q2095524': 'Indian National Science Academy', 'Q2945826': 'Centre international de synthèse', 'Q533534': 'Cisleithania', 'Q30': 'United States', 'Q43287': 'German Empire', 'Q152087': 'Humboldt University of Berlin', 'Q942842': 'Smíchov', 'Q14708020': 'Louis Round Wilson Library', 'Q270794': 'National Academy of Sciences', 'Q97154': 'Heinrich Burkhardt', 'Q153238': 'Leó Szilárd', 'Q8487137': 'WikiProject Mathematics', 'Q8092556': 'Template:Einstein', 'Q41304': 'Weimar Republic', 'Q642074': 'Historical Dictionary of Switzerland', 'Q468357': 'Lieserl (Einstein)', 'Q118253': 'Eduard Einstein', 'Q466089': 'American Philosophical Society', 'Q26963166': 'Marie Curie: The Courage of Knowledge', 'Q684415': 'Bavarian Academy of Sciences and Humanities', 'Q463303': 'American Academy of Arts and Sciences', 'Q124500735': 'Unknown', 'Q21200226': 'Albert Einstein', 'Q390003': 'Einsteinhaus', 'Q902624': 'National Museum of Health and Medicine', 'Q35802': 'Benedictus de Spinoza', 'Q39': 'Switzerland', 'Q435651': 'old Kantonsschule (Albert Einstein House)', 'Q675617': 'Swiss Literary Archives', 'Q1729754': 'German University in Prague', 'Q1001': 'Mahatma Gandhi', 'Q103505599': 'WikiProject PCC Wikidata Pilot/Smithsonian Libraries Dibner Library portraits', 'Q991': 'Fyodor Dostoyevsky', 'Q708038': 'Kaiser Wilhelm Society', 'Q819187': 'Deutsche Physikalische Gesellschaft', 'Q355245': 'Henry George', 'Q635642': 'Institute for Advanced Study', 'Q19185': 'George Bernard Shaw', 'Q87554': 'Ernst G. Straus', 'Q659080': 'University of Bern', 'Q156598': 'Leiden University', 'Q31519': 'Charles University', 'Q5460604': 'Wikipedia:List of articles all languages should have', 'Q22095877': 'Albert Einstein Archives', 'Q329464': 'Royal Prussian Academy of Sciences', 'Q188771': 'French Academy of Sciences', 'Q310794': 'Karl Pearson', 'Q88665': 'Hermann Einstein', 'Q41688': 'Hendrik Lorentz', 'Q42299': 'Bernhard Riemann', 'Q7322195': 'Riazuddin', 'Q338432': 'Lincean Academy', 'Q935': 'Isaac Newton', 'Q48835067': 'outline of Albert Einstein', 'Q9009': 'Schaffhausen', 'Q55594631': 'Lina Einstein', 'Q25820': 'Thomas Young', 'Q1876751': 'Luitpold-Gymnasium', 'Q1309294': 'Einsteinhaus Caputh', 'Q253439': 'Royal Netherlands Academy of Arts and Sciences', 'Q206702': 'University of Zurich', 'Q414188': 'Göttingen Academy of Sciences', 'Q3603946': 'Accademia Nazionale delle Scienze detta dei XL', 'Q3012': 'Ulm', 'Q328195': 'German Democratic Party', 'Q64': 'Berlin', 'Q93996': 'Ernst Mach', 'Q216738': 'Maja Einstein', 'Q38193': 'Arthur Schopenhauer', 'Q68761': 'Elsa Einstein'}\n"
     ]
    }
   ],
   "source": [
    "search2 = WikidataSearch()\n",
    "entity = \"Albert Einstein\"\n",
    "related_ids2 = search2.wikidata_related_entities(entity, depth=1)\n",
    "print(f\"Related entities: {related_ids2}\")"
   ]
  },
  {
   "cell_type": "markdown",
   "metadata": {},
   "source": [
    "The default query for the function is\n",
    "\n",
    "        \"\"\"\n",
    "            SELECT ?related ?relatedLabel WHERE {{\n",
    "                wd:{item} ?prop ?related .\n",
    "                FILTER(isIRI(?related))\n",
    "                FILTER EXISTS {{\n",
    "                    ?related wdt:P31/wdt:P279* ?type .\n",
    "                    VALUES ?type {{ wd:Q5 wd:Q43229 wd:Q4830453 wd:Q2424752 wd:Q431289 wd:Q732577 wd:Q11424 wd:Q571 }}\n",
    "                }}\n",
    "                SERVICE wikibase:label {{ bd:serviceParam wikibase:language \\\"[AUTO_LANGUAGE],en\\\" }}\n",
    "            }}\n",
    "        \"\"\""
   ]
  },
  {
   "cell_type": "markdown",
   "metadata": {},
   "source": [
    "However, using the query param, we can pass in our own custom query as well."
   ]
  },
  {
   "cell_type": "code",
   "execution_count": 6,
   "metadata": {},
   "outputs": [
    {
     "name": "stdout",
     "output_type": "stream",
     "text": [
      "Related entities: {'Q310794': 'Karl Pearson', 'Q88665': 'Hermann Einstein', 'Q123371': 'Hans Albert Einstein', 'Q41688': 'Hendrik Lorentz', 'Q4357787': 'Pauline Koch', 'Q116635': 'Heinrich Friedrich Weber', 'Q57193': 'Moritz Schlick', 'Q37160': 'David Hume', 'Q35802': 'Benedictus de Spinoza', 'Q42299': 'Bernhard Riemann', 'Q7322195': 'Riazuddin', 'Q76346': 'Mileva Marić', 'Q4175282': 'Alfred Kleiner', 'Q1001': 'Mahatma Gandhi', 'Q200639': 'Paul Valéry', 'Q935': 'Isaac Newton', 'Q991': 'Fyodor Dostoyevsky', 'Q55594631': 'Lina Einstein', 'Q25820': 'Thomas Young', 'Q9095': 'James Clerk Maxwell', 'Q355245': 'Henry George', 'Q57246': 'Hermann Minkowski', 'Q97154': 'Heinrich Burkhardt', 'Q153238': 'Leó Szilárd', 'Q19185': 'George Bernard Shaw', 'Q87554': 'Ernst G. Straus', 'Q93996': 'Ernst Mach', 'Q468357': 'Lieserl (Einstein)', 'Q216738': 'Maja Einstein', 'Q118253': 'Eduard Einstein', 'Q38193': 'Arthur Schopenhauer', 'Q68761': 'Elsa Einstein'}\n"
     ]
    }
   ],
   "source": [
    "search3 = WikidataSearch()\n",
    "entity = \"Albert Einstein\"\n",
    "#query to retrieve only get entities that are people (only get wd:Q5)\n",
    "new_query = \"\"\"\n",
    "    SELECT ?related ?relatedLabel WHERE {{\n",
    "        wd:{item} ?prop ?related .\n",
    "        FILTER(isIRI(?related))\n",
    "        FILTER EXISTS {{\n",
    "            ?related wdt:P31/wdt:P279* wd:Q5 .\n",
    "        }}\n",
    "        SERVICE wikibase:label {{ bd:serviceParam wikibase:language \"[AUTO_LANGUAGE],en\" }}\n",
    "    }}\n",
    "\"\"\"\n",
    "related_ids3 = search3.wikidata_related_entities(entity, depth=1,labels=False,query=new_query)\n",
    "print(f\"Related entities: {related_ids3}\")"
   ]
  }
 ],
 "metadata": {
  "kernelspec": {
   "display_name": "news-signals",
   "language": "python",
   "name": "python3"
  },
  "language_info": {
   "codemirror_mode": {
    "name": "ipython",
    "version": 3
   },
   "file_extension": ".py",
   "mimetype": "text/x-python",
   "name": "python",
   "nbconvert_exporter": "python",
   "pygments_lexer": "ipython3",
   "version": "3.10.16"
  }
 },
 "nbformat": 4,
 "nbformat_minor": 2
}
