{
 "cells": [
  {
   "cell_type": "markdown",
   "metadata": {},
   "source": [
    "This notebook is a demonstration for the new Wikidata traversal based functions."
   ]
  },
  {
   "cell_type": "markdown",
   "metadata": {},
   "source": [
    "The new functions can be accessed by the import show below, from exogenous_signals in the news_signals library, using the **WikidataSearch** object."
   ]
  },
  {
   "cell_type": "code",
   "execution_count": 1,
   "metadata": {},
   "outputs": [],
   "source": [
    "import news_signals\n",
    "from news_signals.exogenous_signals import entity_name_to_wikidata_id, WikidataRelatedEntitiesSearcher, wikidata_ids_to_labels"
   ]
  },
  {
   "cell_type": "markdown",
   "metadata": {},
   "source": [
    "Using **entity_name_to_wikidata_id**, we can get the wikidataID for a named entity with this function.\n",
    "\n",
    "\n",
    ":param entity_name: Name of the entity to search for\n",
    "\n",
    ":return: Wikidata ID as a string, or None if not found"
   ]
  },
  {
   "cell_type": "code",
   "execution_count": 3,
   "metadata": {},
   "outputs": [
    {
     "name": "stdout",
     "output_type": "stream",
     "text": [
      "Q937\n"
     ]
    }
   ],
   "source": [
    "entity_id = entity_name_to_wikidata_id(\"Albert Einstein\")\n",
    "print(entity_id)"
   ]
  },
  {
   "cell_type": "markdown",
   "metadata": {},
   "source": [
    "**WikidataRelatedEntitiesSearcher** performs a Breadth-First Search on the outgoing links of an entity's Wikidata page. \n",
    "\n",
    ":param wikidata_id: The starting Wikidata ID.\n",
    "\n",
    ":param depth: The number of hops (levels) to traverse.\n",
    "\n",
    ":param return_labels: Whether to return Wikidata IDs or human-readable labels.\n",
    "\n",
    ":param query: Optional custom SPARQL query for retrieving related entities.\n",
    "\n",
    ":return: A list of related Wikidata IDs.\n",
    "        \n",
    "For this instance, lets set return_labels to True, and pass in our previous entity_id into the function"
   ]
  },
  {
   "cell_type": "code",
   "execution_count": 5,
   "metadata": {},
   "outputs": [
    {
     "name": "stdout",
     "output_type": "stream",
     "text": [
      "Related entities: ['Q48835067', 'Q1001', 'Q2497232', 'Q659080', 'Q11942', 'Q153238', 'Q6173448', 'Q435651', 'Q118253', 'Q270794', 'Q7322195', 'Q200639', 'Q355245', 'Q8487137', 'Q39', 'Q4397938', 'Q55594631', 'Q188771', 'Q463303', 'Q64', 'Q216738', 'Q22095877', 'Q87554', 'Q37160', 'Q338432', 'Q468357', 'Q123885', 'Q708038', 'Q902624', 'Q70', 'Q26963166', 'Q103505599', 'Q414188', 'Q38193', 'Q68761', 'Q328195', 'Q2945826', 'Q76346', 'Q3603946', 'Q28861731', 'Q533534', 'Q206702', 'Q21200226', 'Q15056034', 'Q43287', 'Q684415', 'Q9095', 'Q42299', 'Q21578', 'Q35802', 'Q9009', 'Q191583', 'Q635642', 'Q253439', 'Q2095524', 'Q72', 'Q168756', 'Q1876751', 'Q685539', 'Q152087', 'Q390003', 'Q3012', 'Q25820', 'Q1726', 'Q30', 'Q1729754', 'Q675617', 'Q543804', 'Q31519', 'Q19185', 'Q942842', 'Q2370801', 'Q464344', 'Q39934978', 'Q183', 'Q57193', 'Q5460604', 'Q14708020', 'Q466089', 'Q156598', 'Q42309226', 'Q7213562', 'Q4175282', 'Q1085', 'Q138518', 'Q310794', 'Q41688', 'Q124500735', 'Q116635', 'Q93996', 'Q88665', 'Q1309294', 'Q41304', 'Q4357787', 'Q819187', 'Q123371', 'Q97154', 'Q156478', 'Q991', 'Q642074', 'Q57246', 'Q8092556', 'Q935', 'Q329464', 'Q25696257']\n"
     ]
    }
   ],
   "source": [
    "related_ids = WikidataRelatedEntitiesSearcher(entity_id, depth=1,return_labels=True)\n",
    "print(f\"Related entities: {related_ids}\")"
   ]
  },
  {
   "cell_type": "markdown",
   "metadata": {},
   "source": [
    "Now after getting the labels, we can use the function **wikidata_to_ids** to get the list of labels back with their entity names.\n",
    "\n",
    ":param wikidata_ids: List of Wikidata IDs (can include composite IDs).\n",
    "\n",
    ":param language: Language code for labels.\n",
    "\n",
    ":return: Dictionary mapping Wikidata IDs to labels."
   ]
  },
  {
   "cell_type": "code",
   "execution_count": 7,
   "metadata": {},
   "outputs": [
    {
     "name": "stdout",
     "output_type": "stream",
     "text": [
      "Related entities: {'Q48835067': 'outline of Albert Einstein', 'Q1001': 'Mahatma Gandhi', 'Q659080': 'University of Bern', 'Q2497232': 'Brazilian Academy of Sciences', 'Q11942': 'ETH Zurich', 'Q153238': 'Leó Szilárd', 'Q6173448': 'Wikipedia:Vital articles/Level/4', 'Q435651': 'old Kantonsschule (Albert Einstein House)', 'Q118253': 'Eduard Einstein', 'Q270794': 'National Academy of Sciences', 'Q7322195': 'Riazuddin', 'Q200639': 'Paul Valéry', 'Q355245': 'Henry George', 'Q329464': 'Royal Prussian Academy of Sciences', 'Q8487137': 'WikiProject Mathematics', 'Q39': 'Switzerland', 'Q4397938': 'Russian Academy of Sciences (1917–1925)', 'Q55594631': 'Lina Einstein', 'Q188771': 'French Academy of Sciences', 'Q463303': 'American Academy of Arts and Sciences', 'Q64': 'Berlin', 'Q216738': 'Maja Einstein', 'Q22095877': 'Albert Einstein Archives', 'Q87554': 'Ernst G. Straus', 'Q37160': 'David Hume', 'Q338432': 'Lincean Academy', 'Q468357': 'Lieserl (Einstein)', 'Q123885': 'Royal Society', 'Q708038': 'Kaiser Wilhelm Society', 'Q902624': 'National Museum of Health and Medicine', 'Q70': 'Bern', 'Q26963166': 'Marie Curie: The Courage of Knowledge', 'Q103505599': 'WikiProject PCC Wikidata Pilot/Smithsonian Libraries Dibner Library portraits', 'Q414188': 'Göttingen Academy of Sciences', 'Q38193': 'Arthur Schopenhauer', 'Q68761': 'Elsa Einstein', 'Q328195': 'German Democratic Party', 'Q2945826': 'Centre international de synthèse', 'Q76346': 'Mileva Marić', 'Q3603946': 'Accademia Nazionale delle Scienze detta dei XL', 'Q28861731': 'honorary doctor of the Hebrew University of Jerusalem', 'Q533534': 'Cisleithania', 'Q206702': 'University of Zurich', 'Q15056034': 'Pour le Mérite for Sciences and Arts order', 'Q21200226': 'Albert Einstein', 'Q43287': 'German Empire', 'Q684415': 'Bavarian Academy of Sciences and Humanities', 'Q9095': 'James Clerk Maxwell', 'Q42299': 'Bernhard Riemann', 'Q21578': 'Princeton University', 'Q35802': 'Benedictus de Spinoza', 'Q9009': 'Schaffhausen', 'Q635642': 'Institute for Advanced Study', 'Q253439': 'Royal Netherlands Academy of Arts and Sciences', 'Q2095524': 'Indian National Science Academy', 'Q72': 'Zurich', 'Q168756': 'University of California, Berkeley', 'Q1876751': 'Luitpold-Gymnasium', 'Q685539': 'Swiss Federal Institute of Intellectual Property', 'Q152087': 'Humboldt University of Berlin', 'Q390003': 'Einsteinhaus', 'Q3012': 'Ulm', 'Q25820': 'Thomas Young', 'Q1726': 'Munich', 'Q30': 'United States', 'Q1729754': 'German University in Prague', 'Q675617': 'Swiss Literary Archives', 'Q543804': 'German Academy of Sciences Leopoldina', 'Q31519': 'Charles University', 'Q19185': 'George Bernard Shaw', 'Q942842': 'Smíchov', 'Q2370801': 'Academy of Sciences of the USSR', 'Q464344': 'Caputh', 'Q39934978': 'ETH Zurich University Archives', 'Q183': 'Germany', 'Q57193': 'Moritz Schlick', 'Q5460604': 'Wikipedia:List of articles all languages should have', 'Q14708020': 'Louis Round Wilson Library', 'Q466089': 'American Philosophical Society', 'Q156598': 'Leiden University', 'Q42309226': 'honorary doctorate from Princeton University', 'Q7213562': 'Category:Albert Einstein', 'Q4175282': 'Alfred Kleiner', 'Q1085': 'Prague', 'Q138518': 'Princeton', 'Q310794': 'Karl Pearson', 'Q41688': 'Hendrik Lorentz', 'Q124500735': 'Unknown', 'Q116635': 'Heinrich Friedrich Weber', 'Q93996': 'Ernst Mach', 'Q88665': 'Hermann Einstein', 'Q1309294': 'Einsteinhaus Caputh', 'Q41304': 'Weimar Republic', 'Q4357787': 'Pauline Koch', 'Q819187': 'Deutsche Physikalische Gesellschaft', 'Q123371': 'Hans Albert Einstein', 'Q97154': 'Heinrich Burkhardt', 'Q156478': 'Pour le Mérite', 'Q991': 'Fyodor Dostoyevsky', 'Q642074': 'Historical Dictionary of Switzerland', 'Q57246': 'Hermann Minkowski', 'Q8092556': 'Template:Einstein', 'Q935': 'Isaac Newton', 'Q191583': 'Royal Swedish Academy of Sciences', 'Q25696257': 'Unknown'}\n"
     ]
    }
   ],
   "source": [
    "labels = wikidata_ids_to_labels(related_ids,language=\"en\")\n",
    "print(f\"Related entities: {labels}\")"
   ]
  },
  {
   "cell_type": "markdown",
   "metadata": {},
   "source": [
    "In this instance, we can easily skip the multiple steps above and by not specifying labels parameter as True (or just letting it default to False). \n",
    "\n",
    "We just need to pass in the entity name string now."
   ]
  },
  {
   "cell_type": "code",
   "execution_count": 8,
   "metadata": {},
   "outputs": [
    {
     "name": "stdout",
     "output_type": "stream",
     "text": [
      "Related entities: {'Q48835067': 'outline of Albert Einstein', 'Q1001': 'Mahatma Gandhi', 'Q659080': 'University of Bern', 'Q2497232': 'Brazilian Academy of Sciences', 'Q11942': 'ETH Zurich', 'Q153238': 'Leó Szilárd', 'Q6173448': 'Wikipedia:Vital articles/Level/4', 'Q435651': 'old Kantonsschule (Albert Einstein House)', 'Q118253': 'Eduard Einstein', 'Q270794': 'National Academy of Sciences', 'Q7322195': 'Riazuddin', 'Q200639': 'Paul Valéry', 'Q355245': 'Henry George', 'Q329464': 'Royal Prussian Academy of Sciences', 'Q8487137': 'WikiProject Mathematics', 'Q39': 'Switzerland', 'Q4397938': 'Russian Academy of Sciences (1917–1925)', 'Q55594631': 'Lina Einstein', 'Q188771': 'French Academy of Sciences', 'Q463303': 'American Academy of Arts and Sciences', 'Q64': 'Berlin', 'Q216738': 'Maja Einstein', 'Q22095877': 'Albert Einstein Archives', 'Q87554': 'Ernst G. Straus', 'Q37160': 'David Hume', 'Q338432': 'Lincean Academy', 'Q468357': 'Lieserl (Einstein)', 'Q123885': 'Royal Society', 'Q708038': 'Kaiser Wilhelm Society', 'Q902624': 'National Museum of Health and Medicine', 'Q70': 'Bern', 'Q26963166': 'Marie Curie: The Courage of Knowledge', 'Q103505599': 'WikiProject PCC Wikidata Pilot/Smithsonian Libraries Dibner Library portraits', 'Q414188': 'Göttingen Academy of Sciences', 'Q38193': 'Arthur Schopenhauer', 'Q68761': 'Elsa Einstein', 'Q328195': 'German Democratic Party', 'Q2945826': 'Centre international de synthèse', 'Q76346': 'Mileva Marić', 'Q3603946': 'Accademia Nazionale delle Scienze detta dei XL', 'Q28861731': 'honorary doctor of the Hebrew University of Jerusalem', 'Q533534': 'Cisleithania', 'Q206702': 'University of Zurich', 'Q15056034': 'Pour le Mérite for Sciences and Arts order', 'Q21200226': 'Albert Einstein', 'Q43287': 'German Empire', 'Q684415': 'Bavarian Academy of Sciences and Humanities', 'Q9095': 'James Clerk Maxwell', 'Q42299': 'Bernhard Riemann', 'Q21578': 'Princeton University', 'Q35802': 'Benedictus de Spinoza', 'Q9009': 'Schaffhausen', 'Q635642': 'Institute for Advanced Study', 'Q253439': 'Royal Netherlands Academy of Arts and Sciences', 'Q2095524': 'Indian National Science Academy', 'Q72': 'Zurich', 'Q168756': 'University of California, Berkeley', 'Q1876751': 'Luitpold-Gymnasium', 'Q685539': 'Swiss Federal Institute of Intellectual Property', 'Q152087': 'Humboldt University of Berlin', 'Q390003': 'Einsteinhaus', 'Q3012': 'Ulm', 'Q25820': 'Thomas Young', 'Q1726': 'Munich', 'Q30': 'United States', 'Q1729754': 'German University in Prague', 'Q675617': 'Swiss Literary Archives', 'Q543804': 'German Academy of Sciences Leopoldina', 'Q31519': 'Charles University', 'Q19185': 'George Bernard Shaw', 'Q942842': 'Smíchov', 'Q2370801': 'Academy of Sciences of the USSR', 'Q464344': 'Caputh', 'Q39934978': 'ETH Zurich University Archives', 'Q183': 'Germany', 'Q57193': 'Moritz Schlick', 'Q5460604': 'Wikipedia:List of articles all languages should have', 'Q14708020': 'Louis Round Wilson Library', 'Q466089': 'American Philosophical Society', 'Q156598': 'Leiden University', 'Q42309226': 'honorary doctorate from Princeton University', 'Q7213562': 'Category:Albert Einstein', 'Q4175282': 'Alfred Kleiner', 'Q1085': 'Prague', 'Q138518': 'Princeton', 'Q310794': 'Karl Pearson', 'Q41688': 'Hendrik Lorentz', 'Q124500735': 'Unknown', 'Q116635': 'Heinrich Friedrich Weber', 'Q93996': 'Ernst Mach', 'Q88665': 'Hermann Einstein', 'Q1309294': 'Einsteinhaus Caputh', 'Q41304': 'Weimar Republic', 'Q4357787': 'Pauline Koch', 'Q819187': 'Deutsche Physikalische Gesellschaft', 'Q123371': 'Hans Albert Einstein', 'Q97154': 'Heinrich Burkhardt', 'Q156478': 'Pour le Mérite', 'Q991': 'Fyodor Dostoyevsky', 'Q642074': 'Historical Dictionary of Switzerland', 'Q57246': 'Hermann Minkowski', 'Q8092556': 'Template:Einstein', 'Q935': 'Isaac Newton', 'Q191583': 'Royal Swedish Academy of Sciences', 'Q25696257': 'Unknown'}\n"
     ]
    }
   ],
   "source": [
    "entity = \"Albert Einstein\"\n",
    "related_ids2 = WikidataRelatedEntitiesSearcher(entity, depth=1)\n",
    "print(f\"Related entities: {related_ids2}\")"
   ]
  },
  {
   "cell_type": "markdown",
   "metadata": {},
   "source": [
    "The default query for the function is\n",
    "\n",
    "        \"\"\"\n",
    "            SELECT ?related ?relatedLabel WHERE {{\n",
    "                wd:{item} ?prop ?related .\n",
    "                FILTER(isIRI(?related))\n",
    "                FILTER EXISTS {{\n",
    "                    ?related wdt:P31/wdt:P279* ?type .\n",
    "                    VALUES ?type {{ wd:Q5 wd:Q43229 wd:Q4830453 wd:Q2424752 wd:Q431289 wd:Q732577 wd:Q11424 wd:Q571 }}\n",
    "                }}\n",
    "                SERVICE wikibase:label {{ bd:serviceParam wikibase:language \\\"[AUTO_LANGUAGE],en\\\" }}\n",
    "            }}\n",
    "        \"\"\""
   ]
  },
  {
   "cell_type": "markdown",
   "metadata": {},
   "source": [
    "However, using the query param, we can pass in our own custom query as well."
   ]
  },
  {
   "cell_type": "code",
   "execution_count": 10,
   "metadata": {},
   "outputs": [
    {
     "name": "stdout",
     "output_type": "stream",
     "text": [
      "Related entities: {'Q87554': 'Ernst G. Straus', 'Q216738': 'Maja Einstein', 'Q37160': 'David Hume', 'Q9095': 'James Clerk Maxwell', 'Q468357': 'Lieserl (Einstein)', 'Q1001': 'Mahatma Gandhi', 'Q42299': 'Bernhard Riemann', 'Q57193': 'Moritz Schlick', 'Q35802': 'Benedictus de Spinoza', 'Q4175282': 'Alfred Kleiner', 'Q153238': 'Leó Szilárd', 'Q310794': 'Karl Pearson', 'Q41688': 'Hendrik Lorentz', 'Q116635': 'Heinrich Friedrich Weber', 'Q93996': 'Ernst Mach', 'Q118253': 'Eduard Einstein', 'Q7322195': 'Riazuddin', 'Q38193': 'Arthur Schopenhauer', 'Q88665': 'Hermann Einstein', 'Q68761': 'Elsa Einstein', 'Q25820': 'Thomas Young', 'Q200639': 'Paul Valéry', 'Q355245': 'Henry George', 'Q4357787': 'Pauline Koch', 'Q76346': 'Mileva Marić', 'Q55594631': 'Lina Einstein', 'Q19185': 'George Bernard Shaw', 'Q123371': 'Hans Albert Einstein', 'Q97154': 'Heinrich Burkhardt', 'Q991': 'Fyodor Dostoyevsky', 'Q57246': 'Hermann Minkowski', 'Q935': 'Isaac Newton'}\n"
     ]
    }
   ],
   "source": [
    "entity = \"Albert Einstein\"\n",
    "#query to retrieve only get entities that are people (only get wd:Q5)\n",
    "new_query = \"\"\"\n",
    "    SELECT ?related ?relatedLabel WHERE {{\n",
    "        wd:{item} ?prop ?related .\n",
    "        FILTER(isIRI(?related))\n",
    "        FILTER EXISTS {{\n",
    "            ?related wdt:P31/wdt:P279* wd:Q5 .\n",
    "        }}\n",
    "        SERVICE wikibase:label {{ bd:serviceParam wikibase:language \"[AUTO_LANGUAGE],en\" }}\n",
    "    }}\n",
    "\"\"\"\n",
    "related_ids3 = WikidataRelatedEntitiesSearcher(entity, depth=1,return_labels=False,query=new_query)\n",
    "print(f\"Related entities: {related_ids3}\")"
   ]
  }
 ],
 "metadata": {
  "kernelspec": {
   "display_name": "news-signals",
   "language": "python",
   "name": "python3"
  },
  "language_info": {
   "codemirror_mode": {
    "name": "ipython",
    "version": 3
   },
   "file_extension": ".py",
   "mimetype": "text/x-python",
   "name": "python",
   "nbconvert_exporter": "python",
   "pygments_lexer": "ipython3",
   "version": "3.10.16"
  }
 },
 "nbformat": 4,
 "nbformat_minor": 2
}
