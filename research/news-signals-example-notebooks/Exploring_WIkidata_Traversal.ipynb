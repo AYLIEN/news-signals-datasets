{
 "cells": [
  {
   "cell_type": "markdown",
   "metadata": {},
   "source": [
    "This notebook is a demonstration for the new Wikidata traversal based functions."
   ]
  },
  {
   "cell_type": "markdown",
   "metadata": {},
   "source": [
    "The new functions can be accessed by the import show below, from exogenous_signals in the news_signals library, using the **WikidataSearch** object."
   ]
  },
  {
   "cell_type": "code",
   "execution_count": 1,
   "metadata": {},
   "outputs": [],
   "source": [
    "import news_signals\n",
    "from news_signals.exogenous_signals import WikidataSearch"
   ]
  },
  {
   "cell_type": "markdown",
   "metadata": {},
   "source": [
    "First we instantiate the class, Using **entity_to_wikidata**, we can get the wikidataID for a named entity with this function.\n",
    "\n",
    "\n",
    ":param entity_name: Name of the entity to search for\n",
    "\n",
    ":return: Wikidata ID as a string, or None if not found"
   ]
  },
  {
   "cell_type": "code",
   "execution_count": 2,
   "metadata": {},
   "outputs": [
    {
     "name": "stdout",
     "output_type": "stream",
     "text": [
      "Q937\n"
     ]
    }
   ],
   "source": [
    "searcher = WikidataSearch()\n",
    "entity_id = searcher.entity_to_wikidata(\"Albert Einstein\")\n",
    "print(entity_id)"
   ]
  },
  {
   "cell_type": "markdown",
   "metadata": {},
   "source": [
    "**wikidata_related_entities** performs a Breadth-First Search on the outgoing links of an entity's Wikidata page. \n",
    "\n",
    ":param wikidata_id: The starting Wikidata ID.\n",
    "\n",
    ":param depth: The number of hops (levels) to traverse.\n",
    "\n",
    ":param labels: Whether to return Wikidata IDs or human-readable labels.\n",
    "\n",
    ":param query: Optional custom SPARQL query for retrieving related entities.\n",
    "\n",
    ":return: A list of related Wikidata IDs.\n",
    "        \n",
    "For this instance, lets set labels to True, and pass in our previous entity_id into the function"
   ]
  },
  {
   "cell_type": "code",
   "execution_count": 3,
   "metadata": {},
   "outputs": [
    {
     "name": "stdout",
     "output_type": "stream",
     "text": [
      "Related entities: ['Q57193', 'Q543804', 'Q5460604', 'Q21578', 'Q21200226', 'Q76346', 'Q2370801', 'Q635642', 'Q15056034', 'Q463303', 'Q206702', 'Q55594631', 'Q93996', 'Q153238', 'Q42309226', 'Q310794', 'Q1729754', 'Q97154', 'Q72', 'Q3012', 'Q138518', 'Q390003', 'Q25696257', 'Q464344', 'Q152087', 'Q42299', 'Q156478', 'Q355245', 'Q28861731', 'Q4357787', 'Q684415', 'Q87554', 'Q116635', 'Q642074', 'Q468357', 'Q708038', 'Q30', 'Q123885', 'Q39934978', 'Q216738', 'Q200639', 'Q43287', 'Q88665', 'Q8487137', 'Q156598', 'Q466089', 'Q414188', 'Q435651', 'Q37160', 'Q123371', 'Q1085', 'Q48835067', 'Q7213562', 'Q8092556', 'Q19185', 'Q57246', 'Q39', 'Q14708020', 'Q41304', 'Q9095', 'Q270794', 'Q942842', 'Q991', 'Q675617', 'Q68761', 'Q935', 'Q2497232', 'Q1876751', 'Q902624', 'Q819187', 'Q7322195', 'Q38193', 'Q26963166', 'Q533534', 'Q1309294', 'Q103505599', 'Q31519', 'Q64', 'Q4397938', 'Q2095524', 'Q338432', 'Q4175282', 'Q328195', 'Q70', 'Q2945826', 'Q329464', 'Q41688', 'Q6173448', 'Q253439', 'Q188771', 'Q25820', 'Q118253', 'Q124500735', 'Q35802', 'Q191583', 'Q685539', 'Q183', 'Q168756', 'Q22095877', 'Q1001', 'Q659080', 'Q1726', 'Q9009', 'Q11942', 'Q3603946']\n"
     ]
    }
   ],
   "source": [
    "related_ids = searcher.wikidata_related_entities(entity_id, depth=1,labels=True)\n",
    "print(f\"Related entities: {related_ids}\")"
   ]
  },
  {
   "cell_type": "markdown",
   "metadata": {},
   "source": [
    "Now after getting the labels, we can use the function **wikidata_to_ids** to get the list of labels back with their entity names.\n",
    "\n",
    ":param wikidata_ids: List of Wikidata IDs (can include composite IDs).\n",
    "\n",
    ":param language: Language code for labels.\n",
    "\n",
    ":return: Dictionary mapping Wikidata IDs to labels."
   ]
  },
  {
   "cell_type": "code",
   "execution_count": null,
   "metadata": {},
   "outputs": [
    {
     "name": "stdout",
     "output_type": "stream",
     "text": [
      "Related entities: {'Q57193': 'Moritz Schlick', 'Q543804': 'German Academy of Sciences Leopoldina', 'Q5460604': 'Wikipedia:List of articles all languages should have', 'Q21578': 'Princeton University', 'Q21200226': 'Albert Einstein', 'Q76346': 'Mileva Marić', 'Q2370801': 'Academy of Sciences of the USSR', 'Q635642': 'Institute for Advanced Study', 'Q15056034': 'Pour le Mérite for Sciences and Arts order', 'Q463303': 'American Academy of Arts and Sciences', 'Q206702': 'University of Zurich', 'Q55594631': 'Lina Einstein', 'Q93996': 'Ernst Mach', 'Q153238': 'Leó Szilárd', 'Q42309226': 'honorary doctorate from Princeton University', 'Q310794': 'Karl Pearson', 'Q1729754': 'German University in Prague', 'Q97154': 'Heinrich Burkhardt', 'Q72': 'Zurich', 'Q3012': 'Ulm', 'Q138518': 'Princeton', 'Q390003': 'Einsteinhaus', 'Q25696257': 'Unknown', 'Q464344': 'Caputh', 'Q152087': 'Humboldt University of Berlin', 'Q42299': 'Bernhard Riemann', 'Q156478': 'Pour le Mérite', 'Q355245': 'Henry George', 'Q28861731': 'honorary doctor of the Hebrew University of Jerusalem', 'Q4357787': 'Pauline Koch', 'Q684415': 'Bavarian Academy of Sciences and Humanities', 'Q87554': 'Ernst G. Straus', 'Q116635': 'Heinrich Friedrich Weber', 'Q642074': 'Historical Dictionary of Switzerland', 'Q468357': 'Lieserl (Einstein)', 'Q708038': 'Kaiser Wilhelm Society', 'Q30': 'United States', 'Q123885': 'Royal Society', 'Q39934978': 'ETH Zurich University Archives', 'Q216738': 'Maja Einstein', 'Q200639': 'Paul Valéry', 'Q43287': 'German Empire', 'Q88665': 'Hermann Einstein', 'Q8487137': 'WikiProject Mathematics', 'Q156598': 'Leiden University', 'Q466089': 'American Philosophical Society', 'Q414188': 'Göttingen Academy of Sciences', 'Q435651': 'old Kantonsschule (Albert Einstein House)', 'Q37160': 'David Hume', 'Q123371': 'Hans Albert Einstein', 'Q1085': 'Prague', 'Q48835067': 'outline of Albert Einstein', 'Q7213562': 'Category:Albert Einstein', 'Q8092556': 'Template:Einstein', 'Q19185': 'George Bernard Shaw', 'Q57246': 'Hermann Minkowski', 'Q39': 'Switzerland', 'Q14708020': 'Louis Round Wilson Library', 'Q41304': 'Weimar Republic', 'Q9095': 'James Clerk Maxwell', 'Q270794': 'National Academy of Sciences', 'Q942842': 'Smíchov', 'Q991': 'Fyodor Dostoyevsky', 'Q675617': 'Swiss Literary Archives', 'Q68761': 'Elsa Einstein', 'Q935': 'Isaac Newton', 'Q2497232': 'Brazilian Academy of Sciences', 'Q1876751': 'Luitpold-Gymnasium', 'Q902624': 'National Museum of Health and Medicine', 'Q819187': 'Deutsche Physikalische Gesellschaft', 'Q7322195': 'Riazuddin', 'Q38193': 'Arthur Schopenhauer', 'Q26963166': 'Marie Curie: The Courage of Knowledge', 'Q533534': 'Cisleithania', 'Q1309294': 'Einsteinhaus Caputh', 'Q103505599': 'WikiProject PCC Wikidata Pilot/Smithsonian Libraries Dibner Library portraits', 'Q31519': 'Charles University', 'Q64': 'Berlin', 'Q4397938': 'Russian Academy of Sciences (1917–1925)', 'Q2095524': 'Indian National Science Academy', 'Q3603946': 'Accademia Nazionale delle Scienze detta dei XL', 'Q338432': 'Lincean Academy', 'Q4175282': 'Alfred Kleiner', 'Q328195': 'German Democratic Party', 'Q70': 'Bern', 'Q2945826': 'Centre international de synthèse', 'Q329464': 'Royal Prussian Academy of Sciences', 'Q41688': 'Hendrik Lorentz', 'Q6173448': 'Wikipedia:Vital articles/Level/4', 'Q253439': 'Royal Netherlands Academy of Arts and Sciences', 'Q188771': 'French Academy of Sciences', 'Q25820': 'Thomas Young', 'Q118253': 'Eduard Einstein', 'Q124500735': 'Unknown', 'Q35802': 'Benedictus de Spinoza', 'Q191583': 'Royal Swedish Academy of Sciences', 'Q685539': 'Swiss Federal Institute of Intellectual Property', 'Q183': 'Germany', 'Q168756': 'University of California, Berkeley', 'Q22095877': 'Albert Einstein Archives', 'Q1001': 'Mahatma Gandhi', 'Q659080': 'University of Bern', 'Q9009': 'Schaffhausen', 'Q11942': 'ETH Zurich', 'Q1726': 'Munich'}\n"
     ]
    }
   ],
   "source": [
    "labels = searcher.wikidata_to_labels(related_ids,language=\"en\")\n",
    "print(f\"Related entities: {labels}\")"
   ]
  },
  {
   "cell_type": "markdown",
   "metadata": {},
   "source": [
    "In this instance, we can easily skip the multiple steps above and by not specifying labels parameter as True (or just letting it default to False). \n",
    "\n",
    "We just need to pass in the entity name string now."
   ]
  },
  {
   "cell_type": "code",
   "execution_count": 5,
   "metadata": {},
   "outputs": [
    {
     "name": "stdout",
     "output_type": "stream",
     "text": [
      "Related entities: {'Q57193': 'Moritz Schlick', 'Q543804': 'German Academy of Sciences Leopoldina', 'Q5460604': 'Wikipedia:List of articles all languages should have', 'Q21578': 'Princeton University', 'Q21200226': 'Albert Einstein', 'Q76346': 'Mileva Marić', 'Q2370801': 'Academy of Sciences of the USSR', 'Q635642': 'Institute for Advanced Study', 'Q15056034': 'Pour le Mérite for Sciences and Arts order', 'Q463303': 'American Academy of Arts and Sciences', 'Q206702': 'University of Zurich', 'Q55594631': 'Lina Einstein', 'Q93996': 'Ernst Mach', 'Q153238': 'Leó Szilárd', 'Q42309226': 'honorary doctorate from Princeton University', 'Q310794': 'Karl Pearson', 'Q1729754': 'German University in Prague', 'Q97154': 'Heinrich Burkhardt', 'Q72': 'Zurich', 'Q3012': 'Ulm', 'Q138518': 'Princeton', 'Q390003': 'Einsteinhaus', 'Q25696257': 'Unknown', 'Q464344': 'Caputh', 'Q152087': 'Humboldt University of Berlin', 'Q42299': 'Bernhard Riemann', 'Q156478': 'Pour le Mérite', 'Q355245': 'Henry George', 'Q28861731': 'honorary doctor of the Hebrew University of Jerusalem', 'Q4357787': 'Pauline Koch', 'Q684415': 'Bavarian Academy of Sciences and Humanities', 'Q87554': 'Ernst G. Straus', 'Q116635': 'Heinrich Friedrich Weber', 'Q642074': 'Historical Dictionary of Switzerland', 'Q468357': 'Lieserl (Einstein)', 'Q708038': 'Kaiser Wilhelm Society', 'Q30': 'United States', 'Q123885': 'Royal Society', 'Q39934978': 'ETH Zurich University Archives', 'Q216738': 'Maja Einstein', 'Q200639': 'Paul Valéry', 'Q43287': 'German Empire', 'Q88665': 'Hermann Einstein', 'Q8487137': 'WikiProject Mathematics', 'Q156598': 'Leiden University', 'Q466089': 'American Philosophical Society', 'Q414188': 'Göttingen Academy of Sciences', 'Q435651': 'old Kantonsschule (Albert Einstein House)', 'Q37160': 'David Hume', 'Q123371': 'Hans Albert Einstein', 'Q1085': 'Prague', 'Q48835067': 'outline of Albert Einstein', 'Q7213562': 'Category:Albert Einstein', 'Q8092556': 'Template:Einstein', 'Q19185': 'George Bernard Shaw', 'Q57246': 'Hermann Minkowski', 'Q39': 'Switzerland', 'Q14708020': 'Louis Round Wilson Library', 'Q41304': 'Weimar Republic', 'Q9095': 'James Clerk Maxwell', 'Q270794': 'National Academy of Sciences', 'Q942842': 'Smíchov', 'Q991': 'Fyodor Dostoyevsky', 'Q675617': 'Swiss Literary Archives', 'Q68761': 'Elsa Einstein', 'Q935': 'Isaac Newton', 'Q2497232': 'Brazilian Academy of Sciences', 'Q1876751': 'Luitpold-Gymnasium', 'Q902624': 'National Museum of Health and Medicine', 'Q819187': 'Deutsche Physikalische Gesellschaft', 'Q7322195': 'Riazuddin', 'Q38193': 'Arthur Schopenhauer', 'Q26963166': 'Marie Curie: The Courage of Knowledge', 'Q533534': 'Cisleithania', 'Q1309294': 'Einsteinhaus Caputh', 'Q103505599': 'WikiProject PCC Wikidata Pilot/Smithsonian Libraries Dibner Library portraits', 'Q31519': 'Charles University', 'Q64': 'Berlin', 'Q4397938': 'Russian Academy of Sciences (1917–1925)', 'Q2095524': 'Indian National Science Academy', 'Q3603946': 'Accademia Nazionale delle Scienze detta dei XL', 'Q338432': 'Lincean Academy', 'Q4175282': 'Alfred Kleiner', 'Q328195': 'German Democratic Party', 'Q70': 'Bern', 'Q2945826': 'Centre international de synthèse', 'Q329464': 'Royal Prussian Academy of Sciences', 'Q41688': 'Hendrik Lorentz', 'Q6173448': 'Wikipedia:Vital articles/Level/4', 'Q253439': 'Royal Netherlands Academy of Arts and Sciences', 'Q188771': 'French Academy of Sciences', 'Q25820': 'Thomas Young', 'Q118253': 'Eduard Einstein', 'Q124500735': 'Unknown', 'Q35802': 'Benedictus de Spinoza', 'Q191583': 'Royal Swedish Academy of Sciences', 'Q685539': 'Swiss Federal Institute of Intellectual Property', 'Q183': 'Germany', 'Q168756': 'University of California, Berkeley', 'Q22095877': 'Albert Einstein Archives', 'Q1001': 'Mahatma Gandhi', 'Q659080': 'University of Bern', 'Q9009': 'Schaffhausen', 'Q11942': 'ETH Zurich', 'Q1726': 'Munich'}\n"
     ]
    }
   ],
   "source": [
    "search2 = WikidataSearch()\n",
    "entity = \"Albert Einstein\"\n",
    "related_ids2 = search2.wikidata_related_entities(entity, depth=1)\n",
    "print(f\"Related entities: {related_ids2}\")"
   ]
  },
  {
   "cell_type": "markdown",
   "metadata": {},
   "source": [
    "The default query for the function is\n",
    "\n",
    "        \"\"\"\n",
    "            SELECT ?related ?relatedLabel WHERE {{\n",
    "                wd:{item} ?prop ?related .\n",
    "                FILTER(isIRI(?related))\n",
    "                FILTER EXISTS {{\n",
    "                    ?related wdt:P31/wdt:P279* ?type .\n",
    "                    VALUES ?type {{ wd:Q5 wd:Q43229 wd:Q4830453 wd:Q2424752 wd:Q431289 wd:Q732577 wd:Q11424 wd:Q571 }}\n",
    "                }}\n",
    "                SERVICE wikibase:label {{ bd:serviceParam wikibase:language \\\"[AUTO_LANGUAGE],en\\\" }}\n",
    "            }}\n",
    "        \"\"\""
   ]
  },
  {
   "cell_type": "markdown",
   "metadata": {},
   "source": [
    "However, using the query param, we can pass in our own custom query as well."
   ]
  },
  {
   "cell_type": "code",
   "execution_count": 6,
   "metadata": {},
   "outputs": [
    {
     "name": "stdout",
     "output_type": "stream",
     "text": [
      "Related entities: {'Q57193': 'Moritz Schlick', 'Q42299': 'Bernhard Riemann', 'Q4175282': 'Alfred Kleiner', 'Q355245': 'Henry George', 'Q19185': 'George Bernard Shaw', 'Q57246': 'Hermann Minkowski', 'Q76346': 'Mileva Marić', 'Q41688': 'Hendrik Lorentz', 'Q9095': 'James Clerk Maxwell', 'Q4357787': 'Pauline Koch', 'Q87554': 'Ernst G. Straus', 'Q991': 'Fyodor Dostoyevsky', 'Q116635': 'Heinrich Friedrich Weber', 'Q68761': 'Elsa Einstein', 'Q55594631': 'Lina Einstein', 'Q468357': 'Lieserl (Einstein)', 'Q93996': 'Ernst Mach', 'Q153238': 'Leó Szilárd', 'Q935': 'Isaac Newton', 'Q216738': 'Maja Einstein', 'Q25820': 'Thomas Young', 'Q118253': 'Eduard Einstein', 'Q7322195': 'Riazuddin', 'Q35802': 'Benedictus de Spinoza', 'Q38193': 'Arthur Schopenhauer', 'Q200639': 'Paul Valéry', 'Q88665': 'Hermann Einstein', 'Q310794': 'Karl Pearson', 'Q97154': 'Heinrich Burkhardt', 'Q1001': 'Mahatma Gandhi', 'Q37160': 'David Hume', 'Q123371': 'Hans Albert Einstein'}\n"
     ]
    }
   ],
   "source": [
    "search3 = WikidataSearch()\n",
    "entity = \"Albert Einstein\"\n",
    "#query to retrieve only get entities that are people (only get wd:Q5)\n",
    "new_query = \"\"\"\n",
    "    SELECT ?related ?relatedLabel WHERE {{\n",
    "        wd:{item} ?prop ?related .\n",
    "        FILTER(isIRI(?related))\n",
    "        FILTER EXISTS {{\n",
    "            ?related wdt:P31/wdt:P279* wd:Q5 .\n",
    "        }}\n",
    "        SERVICE wikibase:label {{ bd:serviceParam wikibase:language \"[AUTO_LANGUAGE],en\" }}\n",
    "    }}\n",
    "\"\"\"\n",
    "related_ids3 = search3.wikidata_related_entities(entity, depth=1,labels=False,query=new_query)\n",
    "print(f\"Related entities: {related_ids3}\")"
   ]
  }
 ],
 "metadata": {
  "kernelspec": {
   "display_name": "news-signals",
   "language": "python",
   "name": "python3"
  },
  "language_info": {
   "codemirror_mode": {
    "name": "ipython",
    "version": 3
   },
   "file_extension": ".py",
   "mimetype": "text/x-python",
   "name": "python",
   "nbconvert_exporter": "python",
   "pygments_lexer": "ipython3",
   "version": "3.10.16"
  }
 },
 "nbformat": 4,
 "nbformat_minor": 2
}
