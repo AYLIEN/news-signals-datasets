{
 "cells": [
  {
   "cell_type": "markdown",
   "metadata": {
    "id": "BRq8Iu5Hx5Ld"
   },
   "source": [
    "## Setting things up"
   ]
  },
  {
   "cell_type": "markdown",
   "metadata": {
    "id": "nQI7JMIigDUr"
   },
   "source": [
    "Loading the example dataset"
   ]
  },
  {
   "cell_type": "code",
   "execution_count": 1,
   "metadata": {
    "colab": {
     "base_uri": "https://localhost:8080/"
    },
    "id": "8iRU3TBCgF2c",
    "outputId": "016990a9-da78-45d2-8e0a-c76af9018582"
   },
   "outputs": [],
   "source": [
    "from news_signals.signals_dataset import SignalsDataset\n",
    "\n",
    "local_dataset_dir = '../../resources/test/nasdaq100_sample_dataset'\n",
    "dataset = SignalsDataset.load(local_dataset_dir)"
   ]
  },
  {
   "cell_type": "markdown",
   "metadata": {
    "id": "uIKPu312yZzX"
   },
   "source": [
    "# Exploring a News Signals dataset"
   ]
  },
  {
   "cell_type": "markdown",
   "metadata": {
    "id": "3k5Ebm1rgYGH"
   },
   "source": [
    "We can use `print` on the dataset to get some information about it."
   ]
  },
  {
   "cell_type": "code",
   "execution_count": 2,
   "metadata": {
    "colab": {
     "base_uri": "https://localhost:8080/"
    },
    "id": "X_-qTJ_LgXVf",
    "outputId": "93e10ca5-8f78-4983-b8df-ffa1568d64e0"
   },
   "outputs": [
    {
     "name": "stdout",
     "output_type": "stream",
     "text": [
      "SignalsDataset({'eyJuYW1lIjogIlExNTEwOTg2NSIsICJtZXRhZGF0YSI6IHt9fQ==': {\n",
      "  \"type\": \"<class 'news_signals.signals.AylienSignal'>\",\n",
      "  \"name\": \"Q15109865\",\n",
      "  \"metadata\": {},\n",
      "  \"params\": {\n",
      "    \"entity_ids\": [\n",
      "      \"Q15109865\"\n",
      "    ],\n",
      "    \"language\": \"en\",\n",
      "    \"sort_by\": \"relevance\",\n",
      "    \"per_page\": 3\n",
      "  },\n",
      "  \"aql\": \"entities: {{prominence_score:[0.7 TO *] AND  (id:Q15109865) sort_by(overall_prominence)}}\",\n",
      "  \"ts_column\": \"count\",\n",
      "  \"timeseries_df_columns\": \"['count', 'published_at']\",\n",
      "  \"feeds_df_columns\": \"['stories']\"\n",
      "}, 'eyJuYW1lIjogIlExMTQ2MyIsICJtZXRhZGF0YSI6IHt9fQ==': {\n",
      "  \"type\": \"<class 'news_signals.signals.AylienSignal'>\",\n",
      "  \"name\": \"Q11463\",\n",
      "  \"metadata\": {},\n",
      "  \"params\": {\n",
      "    \"entity_ids\": [\n",
      "      \"Q11463\"\n",
      "    ],\n",
      "    \"language\": \"en\",\n",
      "    \"sort_by\": \"relevance\",\n",
      "    \"per_page\": 3\n",
      "  },\n",
      "  \"aql\": \"entities: {{prominence_score:[0.7 TO *] AND  (id:Q11463) sort_by(overall_prominence)}}\",\n",
      "  \"ts_column\": \"count\",\n",
      "  \"timeseries_df_columns\": \"['count', 'published_at']\",\n",
      "  \"feeds_df_columns\": \"['stories']\"\n",
      "}, 'eyJuYW1lIjogIlExNzA4MTYxMiIsICJtZXRhZGF0YSI6IHt9fQ==': {\n",
      "  \"type\": \"<class 'news_signals.signals.AylienSignal'>\",\n",
      "  \"name\": \"Q17081612\",\n",
      "  \"metadata\": {},\n",
      "  \"params\": {\n",
      "    \"entity_ids\": [\n",
      "      \"Q17081612\"\n",
      "    ],\n",
      "    \"language\": \"en\",\n",
      "    \"sort_by\": \"relevance\",\n",
      "    \"per_page\": 3\n",
      "  },\n",
      "  \"aql\": \"entities: {{prominence_score:[0.7 TO *] AND  (id:Q17081612) sort_by(overall_prominence)}}\",\n",
      "  \"ts_column\": \"count\",\n",
      "  \"timeseries_df_columns\": \"['count', 'published_at']\",\n",
      "  \"feeds_df_columns\": \"['stories']\"\n",
      "}, 'eyJuYW1lIjogIlExMDkyNTcxIiwgIm1ldGFkYXRhIjoge319': {\n",
      "  \"type\": \"<class 'news_signals.signals.AylienSignal'>\",\n",
      "  \"name\": \"Q1092571\",\n",
      "  \"metadata\": {},\n",
      "  \"params\": {\n",
      "    \"entity_ids\": [\n",
      "      \"Q1092571\"\n",
      "    ],\n",
      "    \"language\": \"en\",\n",
      "    \"sort_by\": \"relevance\",\n",
      "    \"per_page\": 3\n",
      "  },\n",
      "  \"aql\": \"entities: {{prominence_score:[0.7 TO *] AND  (id:Q1092571) sort_by(overall_prominence)}}\",\n",
      "  \"ts_column\": \"count\",\n",
      "  \"timeseries_df_columns\": \"['count', 'published_at']\",\n",
      "  \"feeds_df_columns\": \"['stories']\"\n",
      "}, 'eyJuYW1lIjogIlExMTU1NjY4IiwgIm1ldGFkYXRhIjoge319': {\n",
      "  \"type\": \"<class 'news_signals.signals.AylienSignal'>\",\n",
      "  \"name\": \"Q1155668\",\n",
      "  \"metadata\": {},\n",
      "  \"params\": {\n",
      "    \"entity_ids\": [\n",
      "      \"Q1155668\"\n",
      "    ],\n",
      "    \"language\": \"en\",\n",
      "    \"sort_by\": \"relevance\",\n",
      "    \"per_page\": 3\n",
      "  },\n",
      "  \"aql\": \"entities: {{prominence_score:[0.7 TO *] AND  (id:Q1155668) sort_by(overall_prominence)}}\",\n",
      "  \"ts_column\": \"count\",\n",
      "  \"timeseries_df_columns\": \"['count', 'published_at']\",\n",
      "  \"feeds_df_columns\": \"['stories']\"\n",
      "}, 'eyJuYW1lIjogIlExNDc3MiIsICJtZXRhZGF0YSI6IHt9fQ==': {\n",
      "  \"type\": \"<class 'news_signals.signals.AylienSignal'>\",\n",
      "  \"name\": \"Q14772\",\n",
      "  \"metadata\": {},\n",
      "  \"params\": {\n",
      "    \"entity_ids\": [\n",
      "      \"Q14772\"\n",
      "    ],\n",
      "    \"language\": \"en\",\n",
      "    \"sort_by\": \"relevance\",\n",
      "    \"per_page\": 3\n",
      "  },\n",
      "  \"aql\": \"entities: {{prominence_score:[0.7 TO *] AND  (id:Q14772) sort_by(overall_prominence)}}\",\n",
      "  \"ts_column\": \"count\",\n",
      "  \"timeseries_df_columns\": \"['count', 'published_at']\",\n",
      "  \"feeds_df_columns\": \"['stories']\"\n",
      "}, 'eyJuYW1lIjogIlExMDI0NDU0IiwgIm1ldGFkYXRhIjoge319': {\n",
      "  \"type\": \"<class 'news_signals.signals.AylienSignal'>\",\n",
      "  \"name\": \"Q1024454\",\n",
      "  \"metadata\": {},\n",
      "  \"params\": {\n",
      "    \"entity_ids\": [\n",
      "      \"Q1024454\"\n",
      "    ],\n",
      "    \"language\": \"en\",\n",
      "    \"sort_by\": \"relevance\",\n",
      "    \"per_page\": 3\n",
      "  },\n",
      "  \"aql\": \"entities: {{prominence_score:[0.7 TO *] AND  (id:Q1024454) sort_by(overall_prominence)}}\",\n",
      "  \"ts_column\": \"count\",\n",
      "  \"timeseries_df_columns\": \"['count', 'published_at']\",\n",
      "  \"feeds_df_columns\": \"['stories']\"\n",
      "}, 'eyJuYW1lIjogIlExNTQ1MDc2IiwgIm1ldGFkYXRhIjoge319': {\n",
      "  \"type\": \"<class 'news_signals.signals.AylienSignal'>\",\n",
      "  \"name\": \"Q1545076\",\n",
      "  \"metadata\": {},\n",
      "  \"params\": {\n",
      "    \"entity_ids\": [\n",
      "      \"Q1545076\"\n",
      "    ],\n",
      "    \"language\": \"en\",\n",
      "    \"sort_by\": \"relevance\",\n",
      "    \"per_page\": 3\n",
      "  },\n",
      "  \"aql\": \"entities: {{prominence_score:[0.7 TO *] AND  (id:Q1545076) sort_by(overall_prominence)}}\",\n",
      "  \"ts_column\": \"count\",\n",
      "  \"timeseries_df_columns\": \"['count', 'published_at']\",\n",
      "  \"feeds_df_columns\": \"['stories']\"\n",
      "}, 'eyJuYW1lIjogIlExMzgzNjY5IiwgIm1ldGFkYXRhIjoge319': {\n",
      "  \"type\": \"<class 'news_signals.signals.AylienSignal'>\",\n",
      "  \"name\": \"Q1383669\",\n",
      "  \"metadata\": {},\n",
      "  \"params\": {\n",
      "    \"entity_ids\": [\n",
      "      \"Q1383669\"\n",
      "    ],\n",
      "    \"language\": \"en\",\n",
      "    \"sort_by\": \"relevance\",\n",
      "    \"per_page\": 3\n",
      "  },\n",
      "  \"aql\": \"entities: {{prominence_score:[0.7 TO *] AND  (id:Q1383669) sort_by(overall_prominence)}}\",\n",
      "  \"ts_column\": \"count\",\n",
      "  \"timeseries_df_columns\": \"['count', 'published_at']\",\n",
      "  \"feeds_df_columns\": \"['stories']\"\n",
      "}, 'eyJuYW1lIjogIlExMDU1MzkwIiwgIm1ldGFkYXRhIjoge319': {\n",
      "  \"type\": \"<class 'news_signals.signals.AylienSignal'>\",\n",
      "  \"name\": \"Q1055390\",\n",
      "  \"metadata\": {},\n",
      "  \"params\": {\n",
      "    \"entity_ids\": [\n",
      "      \"Q1055390\"\n",
      "    ],\n",
      "    \"language\": \"en\",\n",
      "    \"sort_by\": \"relevance\",\n",
      "    \"per_page\": 3\n",
      "  },\n",
      "  \"aql\": \"entities: {{prominence_score:[0.7 TO *] AND  (id:Q1055390) sort_by(overall_prominence)}}\",\n",
      "  \"ts_column\": \"count\",\n",
      "  \"timeseries_df_columns\": \"['count', 'published_at']\",\n",
      "  \"feeds_df_columns\": \"['stories']\"\n",
      "}})\n"
     ]
    }
   ],
   "source": [
    "print(dataset)"
   ]
  },
  {
   "cell_type": "markdown",
   "metadata": {
    "id": "PSzjvWOvgk7a"
   },
   "source": [
    "A signals dataset contains multiple `Signal` objects. In this dataset, each of these signals corresponds to one company of the first 10 entries in the Nasdaq-100 index."
   ]
  },
  {
   "cell_type": "code",
   "execution_count": 3,
   "metadata": {
    "colab": {
     "base_uri": "https://localhost:8080/"
    },
    "id": "r7_xZa7pegPJ",
    "outputId": "ee4ebaf1-bbd2-4257-b252-3eb4348296e7"
   },
   "outputs": [
    {
     "data": {
      "text/plain": [
       "['Q1024454',\n",
       " 'Q1055390',\n",
       " 'Q1092571',\n",
       " 'Q11463',\n",
       " 'Q1155668',\n",
       " 'Q1383669',\n",
       " 'Q14772',\n",
       " 'Q15109865',\n",
       " 'Q1545076',\n",
       " 'Q17081612']"
      ]
     },
     "execution_count": 3,
     "metadata": {},
     "output_type": "execute_result"
    }
   ],
   "source": [
    "signals = sorted(dataset.signals.values(), key=lambda s: s.name)\n",
    "[s.name for s in signals]"
   ]
  },
  {
   "cell_type": "markdown",
   "metadata": {},
   "source": [
    "## Semantic Filtering"
   ]
  },
  {
   "cell_type": "markdown",
   "metadata": {},
   "source": [
    "### Keyword Filter\n",
    "\n",
    "Find all stories where the keyword \"Million\" is present in the title."
   ]
  },
  {
   "cell_type": "code",
   "execution_count": 71,
   "metadata": {},
   "outputs": [
    {
     "name": "stdout",
     "output_type": "stream",
     "text": [
      "Van ECK Associates Corp Has $4.45 Million Holdings in CSX Co. (NASDAQ:CSX)\n",
      "RSM US Wealth Management LLC Invests $1.69 Million in CSX Co. (NASDAQ:CSX)\n",
      "Rothschild & Co. Asset Management US Inc. Takes $75.18 Million Position in CSX Co. (NASDAQ:CSX)\n",
      "O Shaughnessy Asset Management LLC Has $8.55 Million Holdings in CSX Co. (NASDAQ:CSX)\n",
      "Healthcare of Ontario Pension Plan Trust Fund Has $13.38 Million Stock Position in CSX Co. (NASDAQ:CSX)\n"
     ]
    }
   ],
   "source": [
    "from news_signals.semantic_filters import StoryKeywordMatchFilter\n",
    "\n",
    "dataset = SignalsDataset.load(local_dataset_dir)\n",
    "signals = sorted(dataset.signals.values(), key=lambda s: s.name)\n",
    "signal = signals[0]\n",
    "\n",
    "keywords = ['Million']\n",
    "filter_model = StoryKeywordMatchFilter(keywords=keywords)\n",
    "filtered_signal = signal.filter_stories(filter_model=filter_model)\n",
    "filtered_stories_per_tick = [len(tick) for tick in filtered_signal['stories']]\n",
    "\n",
    "for tick_stories in filtered_signal['stories']:\n",
    "    for s in tick_stories:\n",
    "        assert any(kw in s['title'] for kw in keywords)\n",
    "        print(s['title'])"
   ]
  },
  {
   "cell_type": "markdown",
   "metadata": {},
   "source": [
    "### Let's make our own Semantic Filter\n",
    "\n",
    "The `SemanticFilter` class is very flexible...\n",
    "\n",
    "We can go beyond keywords and filter for stories that align with a given phrase.\n",
    "\n",
    "See the example below, where we use a [Sentence Transformers](https://sbert.net/index.html) model to filter base on article titles."
   ]
  },
  {
   "cell_type": "code",
   "execution_count": 72,
   "metadata": {},
   "outputs": [],
   "source": [
    "from news_signals.semantic_filters import SemanticFilter\n",
    "from sentence_transformers import SentenceTransformer, util\n",
    "\n",
    "\n",
    "class SemanticMatchFilter(SemanticFilter):\n",
    "    \n",
    "    def __init__(self, \n",
    "                 keywords: list[str], \n",
    "                 model_name: str = \"sentence-transformers/all-MiniLM-L6-v2\",\n",
    "                 threshold: float = 0.5, \n",
    "                 verbose: bool = False\n",
    "    ):\n",
    "        \"\"\"\n",
    "        Initializes the semantic filter with a list of keywords, a sentence transformer model, and a similarity threshold.\n",
    "        \n",
    "        :param keywords: List of phrases or keywords for semantic matching.\n",
    "        :param model_name: The name of the sentence transformer model to use.\n",
    "        :param threshold: The cosine similarity threshold above which a story matches the filter.\n",
    "        \"\"\"\n",
    "        self.keywords = keywords\n",
    "        self.model = SentenceTransformer(model_name)\n",
    "        self.keyword_embeddings = self.model.encode(\n",
    "            self.keywords, convert_to_tensor=True, \n",
    "        )\n",
    "        self.threshold = threshold\n",
    "        self.verbose = verbose\n",
    "    \n",
    "    def __call__(self, item: dict) -> bool:\n",
    "        \"\"\"\n",
    "        Filters a story by computing the cosine similarity between the story title and the keywords.\n",
    "        \n",
    "        :param item: A dictionary representing a news story, which should contain the 'title' key.\n",
    "        :return: True if the story's title has a similarity above the threshold with any keyword embedding, False otherwise.\n",
    "        \"\"\"\n",
    "        title_embedding = self.model.encode(\n",
    "            item['title'], convert_to_tensor=True, \n",
    "        )\n",
    "        similarities = util.cos_sim(title_embedding, self.keyword_embeddings)\n",
    "        if self.verbose:\n",
    "            print(f\"Title: {item['title']}\")\n",
    "            for keyword, score in zip(self.keywords, similarities[0]):\n",
    "                print(f\"Keyword: {keyword}, Similarity: {score}\")\n",
    "        \n",
    "        return any(score > self.threshold for score in similarities[0])\n"
   ]
  },
  {
   "cell_type": "code",
   "execution_count": 73,
   "metadata": {},
   "outputs": [],
   "source": [
    "dataset = SignalsDataset.load(local_dataset_dir)\n",
    "signals = sorted(dataset.signals.values(), key=lambda s: s.name)\n",
    "signal = signals[0]\n",
    "\n",
    "semantic_phrases = [\n",
    "    'company stock position has changed significantly', \n",
    "    'billionaire investor goes bankrupt', \n",
    "    'company shares are bought', \n",
    "    'family goes on annual ski trip',  \n",
    "    'i went grocery shopping but forgot to buy eggs'\n",
    "]\n",
    "filter_model = SemanticMatchFilter(keywords=semantic_phrases, threshold=0.5, verbose=False)\n",
    "filtered_signal = signal.filter_stories(filter_model=filter_model)"
   ]
  },
  {
   "cell_type": "code",
   "execution_count": 74,
   "metadata": {},
   "outputs": [
    {
     "name": "stdout",
     "output_type": "stream",
     "text": [
      "PNC Financial Services Group Inc. Sells 16,836 Shares of CSX Co. (NASDAQ:CSX)\n",
      "Proquility Private Wealth Partners LLC Buys 1,909 Shares of CSX Co. (NASDAQ:CSX)\n",
      "CSX Co. (NASDAQ:CSX) Stock Position Reduced by Lincoln National Corp\n",
      "Marcum Wealth LLC Buys 8,231 Shares of CSX Co. (NASDAQ:CSX)\n",
      "CSX Co. (NASDAQ:CSX) Shares Purchased by First National Trust Co\n",
      "CSX Co. (NASDAQ:CSX) Shares Acquired by Ceredex Value Advisors LLC\n",
      "Bank of Hawaii Reduces Stock Position in CSX Co. (NASDAQ:CSX)\n",
      "MEMBERS Trust Co Purchases 13,200 Shares of CSX Co. (NASDAQ:CSX)\n",
      "FUKOKU MUTUAL LIFE INSURANCE Co Raises Stock Holdings in CSX Co. (NASDAQ:CSX)\n",
      "CSX Co. (NASDAQ:CSX) Stock Holdings Increased by Ieq Capital LLC\n",
      "What Is The Deal With CSX Corporation (NASDAQ: CSX) Stock?\n",
      "Sawtooth Solutions LLC Increases Stock Position in CSX Co. (NASDAQ:CSX)\n",
      "Ally Financial Inc. Buys Shares of 40,000 CSX Co. (NASDAQ:CSX)\n",
      "Jupiter Asset Management Ltd. Buys 1,576 Shares of CSX Co. (NASDAQ:CSX)\n",
      "CX Institutional Acquires 47,590 Shares of CSX Co. (NASDAQ:CSX)\n",
      "CSX Co. (NASDAQ:CSX) Shares Acquired by People s United Financial Inc.\n",
      "Aviva PLC Sells 40,654 Shares of CSX Co. (NASDAQ:CSX)\n",
      "CSX Co. (NASDAQ:CSX) Shares Sold by The Manufacturers Life Insurance Company\n",
      "De Burlo Group Inc Buys CSX Corp, Advanced Micro Devices Inc, Berkshire Hathaway Inc, Sells ...\n",
      "Rockefeller Capital Management L.P. Purchases 20,911 Shares of CSX Co. (NASDAQ:CSX)\n"
     ]
    }
   ],
   "source": [
    "for tick_stories in filtered_signal['stories']:\n",
    "    for s in tick_stories:\n",
    "        print(s['title'])"
   ]
  },
  {
   "cell_type": "code",
   "execution_count": null,
   "metadata": {},
   "outputs": [],
   "source": []
  }
 ],
 "metadata": {
  "colab": {
   "provenance": []
  },
  "kernelspec": {
   "display_name": "news",
   "language": "python",
   "name": "python3"
  },
  "language_info": {
   "codemirror_mode": {
    "name": "ipython",
    "version": 3
   },
   "file_extension": ".py",
   "mimetype": "text/x-python",
   "name": "python",
   "nbconvert_exporter": "python",
   "pygments_lexer": "ipython3",
   "version": "3.10.15"
  }
 },
 "nbformat": 4,
 "nbformat_minor": 1
}
