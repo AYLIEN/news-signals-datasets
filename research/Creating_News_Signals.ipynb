{
 "cells": [
  {
   "cell_type": "code",
   "execution_count": null,
   "id": "d441a561",
   "metadata": {},
   "outputs": [],
   "source": [
    "import copy\n",
    "import requests\n",
    "import json\n",
    "import datetime\n",
    "\n",
    "from news_signals import signals"
   ]
  },
  {
   "cell_type": "code",
   "execution_count": null,
   "id": "3077de10",
   "metadata": {},
   "outputs": [],
   "source": [
    "# utility function for getting a wikidata id from an entity name\n",
    "WIKIDATA_SEARCH_URL = \"https://www.wikidata.org/w/api.php\"\n",
    "DEFAULT_SEARCH_PARAMS = {\n",
    "    \"action\": \"wbsearchentities\",\n",
    "    \"format\": \"json\",\n",
    "    \"errorformat\": \"plaintext\",\n",
    "    \"language\": \"en\",\n",
    "    \"uselang\": \"en\",\n",
    "    \"type\": \"item\",\n",
    "    \"limit\": 1\n",
    "}\n",
    "WD_ENTITY_BASE_URL = 'https://www.wikidata.org/wiki/Special:EntityData'\n",
    "    \n",
    "\n",
    "def search_wikidata(surface_form, min_length=3):\n",
    "    params = copy.deepcopy(DEFAULT_SEARCH_PARAMS)\n",
    "    params[\"search\"] = surface_form\n",
    "    result = []\n",
    "    try:\n",
    "        print(f'querying wikidata with params: {params}')\n",
    "        r = requests.get(url=WIKIDATA_SEARCH_URL, params=params)\n",
    "        data = json.loads(r.text)\n",
    "        if 'search' in data:\n",
    "            result = data['search']\n",
    "            result = result[0:min(100, len(result))]\n",
    "    except Exception as e:\n",
    "        print(f'Error searching wikidata for surface form: {surface_form}')\n",
    "        print(e)\n",
    "    return result"
   ]
  },
  {
   "cell_type": "code",
   "execution_count": null,
   "id": "cd37f0e2",
   "metadata": {},
   "outputs": [],
   "source": [
    "entity_name = 'Twitter'\n",
    "\n",
    "entity_id_candidates = search_wikidata(entity_name)\n",
    "test_entity = entity_id_candidates[0]"
   ]
  },
  {
   "cell_type": "code",
   "execution_count": null,
   "id": "00f6ab7f",
   "metadata": {},
   "outputs": [],
   "source": [
    "test_entity"
   ]
  },
  {
   "cell_type": "code",
   "execution_count": null,
   "id": "1448c044",
   "metadata": {},
   "outputs": [],
   "source": [
    "signal = signals.AylienSignal(\n",
    "    name=test_entity['label'],\n",
    "    params={\"entity_ids\": [test_entity['id']]}\n",
    ")"
   ]
  },
  {
   "cell_type": "code",
   "execution_count": null,
   "id": "6ff26869",
   "metadata": {},
   "outputs": [],
   "source": [
    "start = '2023-01-01'\n",
    "end = '2023-02-21'\n",
    "\n",
    "timeseries_signal = signal(start, end)"
   ]
  },
  {
   "cell_type": "code",
   "execution_count": null,
   "id": "60cd8639",
   "metadata": {},
   "outputs": [],
   "source": [
    "signal.plot()"
   ]
  },
  {
   "cell_type": "code",
   "execution_count": null,
   "id": "9631e7a8",
   "metadata": {},
   "outputs": [],
   "source": [
    "highest_anomaly_day = signal.anomaly_signal().anomalies.idxmax()"
   ]
  },
  {
   "cell_type": "code",
   "execution_count": null,
   "id": "0dfda11a",
   "metadata": {},
   "outputs": [],
   "source": [
    "highest_anomaly_day"
   ]
  },
  {
   "cell_type": "code",
   "execution_count": null,
   "id": "8b9e789c",
   "metadata": {},
   "outputs": [],
   "source": [
    "stories_df = signal.sample_stories_in_window(\n",
    "    start=highest_anomaly_day,\n",
    "    end=highest_anomaly_day + datetime.timedelta(days=1)\n",
    ")"
   ]
  },
  {
   "cell_type": "code",
   "execution_count": null,
   "id": "1dcbd842",
   "metadata": {},
   "outputs": [],
   "source": [
    "for s in stories_df.stories[0]:\n",
    "    print(s['title'])"
   ]
  }
 ],
 "metadata": {
  "kernelspec": {
   "display_name": "Python 3 (ipykernel)",
   "language": "python",
   "name": "python3"
  },
  "language_info": {
   "codemirror_mode": {
    "name": "ipython",
    "version": 3
   },
   "file_extension": ".py",
   "mimetype": "text/x-python",
   "name": "python",
   "nbconvert_exporter": "python",
   "pygments_lexer": "ipython3",
   "version": "3.8.16"
  }
 },
 "nbformat": 4,
 "nbformat_minor": 5
}
