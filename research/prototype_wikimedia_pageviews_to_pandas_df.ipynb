{
 "cells": [
  {
   "cell_type": "code",
   "execution_count": 2,
   "id": "7c7d58ab",
   "metadata": {},
   "outputs": [],
   "source": [
    "# Wikimedia metrics"
   ]
  },
  {
   "cell_type": "code",
   "execution_count": 3,
   "id": "8a254c6c",
   "metadata": {},
   "outputs": [],
   "source": [
    "import json\n",
    "from pathlib import Path\n",
    "import arrow\n",
    "import requests\n",
    "\n",
    "from collections import defaultdict"
   ]
  },
  {
   "cell_type": "code",
   "execution_count": 4,
   "id": "f96d152f",
   "metadata": {},
   "outputs": [],
   "source": [
    "datadir = Path('sample_wikimedia_pageviews_data/')\n",
    "sample_resp = datadir / 'sample_ukraine_pageviews_resp.json'\n",
    "resp = json.load(open(sample_resp))\n",
    "wm_ts_items = resp['items']"
   ]
  },
  {
   "cell_type": "code",
   "execution_count": 5,
   "id": "a3f56896",
   "metadata": {},
   "outputs": [],
   "source": [
    "def parse_wikimedia_timestamp(timestamp):\n",
    "    assert len(timestamp) == 10, 'expecting YYYYMMDDHH datetime string'\n",
    "    # cuts off hours suffix (HH)\n",
    "    return timestamp[:-2]"
   ]
  },
  {
   "cell_type": "code",
   "execution_count": 6,
   "id": "718c9208",
   "metadata": {},
   "outputs": [],
   "source": [
    "def datetime_to_aylien_str(dt):\n",
    "    \"\"\"\n",
    "    Convert python datetime object to the string format\n",
    "    used by Aylien newsAPI\n",
    "    \"\"\"\n",
    "    \n",
    "    dt_str = dt.isoformat().split('+')[0]\n",
    "    if 'T' not in dt_str:\n",
    "        dt_str = f'{dt_str}T00:00:00.0'\n",
    "    dt_str = f'{dt_str}Z'\n",
    "\n",
    "    return dt_str"
   ]
  },
  {
   "cell_type": "code",
   "execution_count": 13,
   "id": "f1fc7663",
   "metadata": {},
   "outputs": [],
   "source": [
    "def wikimedia_ts_to_aylien_ts(wikimedia_ts_items):\n",
    "    ts_columns = defaultdict(list)\n",
    "    for entry in wikimedia_ts_items:\n",
    "        col_name = f'{entry[\"project\"]}-{entry[\"article\"]}-pageviews'\n",
    "        dt = datetime_to_aylien_str(\n",
    "            arrow.get(parse_wikimedia_timestamp(entry[\"timestamp\"])).datetime)\n",
    "        ts_columns[col_name].append(\n",
    "            {\n",
    "                'date': dt,\n",
    "                col_name: entry['views']\n",
    "            }\n",
    "        )\n",
    "    return ts_columns"
   ]
  },
  {
   "cell_type": "code",
   "execution_count": 14,
   "id": "f9d2a22b",
   "metadata": {},
   "outputs": [],
   "source": [
    "raw_column_data = wikimedia_ts_to_aylien_ts(wm_ts_items)"
   ]
  },
  {
   "cell_type": "code",
   "execution_count": 17,
   "id": "7f5528dc",
   "metadata": {},
   "outputs": [],
   "source": [
    "import pandas as pd"
   ]
  },
  {
   "cell_type": "code",
   "execution_count": 20,
   "id": "4e05b877",
   "metadata": {},
   "outputs": [],
   "source": [
    "def ts_records_to_ts_df(ts_records, ts_field='date'):\n",
    "    df = pd.DataFrame(ts_records)\n",
    "    index_col = f'datetime-{ts_field}'\n",
    "    df[index_col] = pd.to_datetime(df[ts_field])\n",
    "    df.set_index(index_col, inplace=True)\n",
    "    return df"
   ]
  },
  {
   "cell_type": "code",
   "execution_count": 21,
   "id": "2b9b9811",
   "metadata": {},
   "outputs": [],
   "source": [
    "ts_dfs = [ts_records_to_ts_df(recs) for _, recs in raw_column_data.items()]"
   ]
  },
  {
   "cell_type": "code",
   "execution_count": 24,
   "id": "795391b6",
   "metadata": {},
   "outputs": [],
   "source": [
    "%matplotlib inline\n",
    "\n",
    "import matplotlib\n",
    "import numpy as np\n",
    "import matplotlib.pyplot as plt"
   ]
  },
  {
   "cell_type": "code",
   "execution_count": 25,
   "id": "532c378b",
   "metadata": {},
   "outputs": [
    {
     "data": {
      "text/plain": [
       "<AxesSubplot:xlabel='datetime-date'>"
      ]
     },
     "execution_count": 25,
     "metadata": {},
     "output_type": "execute_result"
    },
    {
     "data": {
      "image/png": "[encoded data removed]",
      "text/plain": [
       "<Figure size 432x288 with 1 Axes>"
      ]
     },
     "metadata": {
      "needs_background": "light"
     },
     "output_type": "display_data"
    }
   ],
   "source": [
    "ts_dfs[0].plot()"
   ]
  },
  {
   "cell_type": "code",
   "execution_count": 12,
   "id": "a190c202",
   "metadata": {},
   "outputs": [
    {
     "name": "stdout",
     "output_type": "stream",
     "text": [
      "{\n",
      "  \"en.wikipedia-Ukraine-pageviews\": [\n",
      "    {\n",
      "      \"date\": \"2022-04-19T00:00:00Z\",\n",
      "      \"count\": 48916\n",
      "    },\n",
      "    {\n",
      "      \"date\": \"2022-04-20T00:00:00Z\",\n",
      "      \"count\": 43014\n",
      "    },\n",
      "    {\n",
      "      \"date\": \"2022-04-21T00:00:00Z\",\n",
      "      \"count\": 41964\n",
      "    },\n",
      "    {\n",
      "      \"date\": \"2022-04-22T00:00:00Z\",\n",
      "      \"count\": 42269\n",
      "    },\n",
      "    {\n",
      "      \"date\": \"2022-04-23T00:00:00Z\",\n",
      "      \"count\": 39804\n",
      "    },\n",
      "    {\n",
      "      \"date\": \"2022-04-24T00:00:00Z\",\n",
      "      \"count\": 39448\n",
      "    },\n",
      "    {\n",
      "      \"date\": \"2022-04-25T00:00:00Z\",\n",
      "      \"count\": 40054\n",
      "    },\n",
      "    {\n",
      "      \"date\": \"2022-04-26T00:00:00Z\",\n",
      "      \"count\": 39348\n",
      "    },\n",
      "    {\n",
      "      \"date\": \"2022-04-27T00:00:00Z\",\n",
      "      \"count\": 37419\n",
      "    },\n",
      "    {\n",
      "      \"date\": \"2022-04-28T00:00:00Z\",\n",
      "      \"count\": 37441\n",
      "    },\n",
      "    {\n",
      "      \"date\": \"2022-04-29T00:00:00Z\",\n",
      "      \"count\": 35173\n",
      "    },\n",
      "    {\n",
      "      \"date\": \"2022-04-30T00:00:00Z\",\n",
      "      \"count\": 33331\n",
      "    },\n",
      "    {\n",
      "      \"date\": \"2022-05-01T00:00:00Z\",\n",
      "      \"count\": 35064\n",
      "    },\n",
      "    {\n",
      "      \"date\": \"2022-05-02T00:00:00Z\",\n",
      "      \"count\": 38781\n",
      "    },\n",
      "    {\n",
      "      \"date\": \"2022-05-03T00:00:00Z\",\n",
      "      \"count\": 37190\n",
      "    },\n",
      "    {\n",
      "      \"date\": \"2022-05-04T00:00:00Z\",\n",
      "      \"count\": 35376\n",
      "    },\n",
      "    {\n",
      "      \"date\": \"2022-05-05T00:00:00Z\",\n",
      "      \"count\": 32594\n",
      "    },\n",
      "    {\n",
      "      \"date\": \"2022-05-06T00:00:00Z\",\n",
      "      \"count\": 31576\n",
      "    },\n",
      "    {\n",
      "      \"date\": \"2022-05-07T00:00:00Z\",\n",
      "      \"count\": 29497\n",
      "    },\n",
      "    {\n",
      "      \"date\": \"2022-05-08T00:00:00Z\",\n",
      "      \"count\": 31098\n",
      "    },\n",
      "    {\n",
      "      \"date\": \"2022-05-09T00:00:00Z\",\n",
      "      \"count\": 36470\n",
      "    }\n",
      "  ]\n",
      "}\n"
     ]
    }
   ],
   "source": [
    "print(json.dumps(raw_column_data, indent=2))"
   ]
  },
  {
   "cell_type": "code",
   "execution_count": null,
   "id": "ae7cd533",
   "metadata": {},
   "outputs": [],
   "source": [
    "entries"
   ]
  },
  {
   "cell_type": "code",
   "execution_count": null,
   "id": "1b5c9c0b",
   "metadata": {},
   "outputs": [],
   "source": [
    "https://wikimedia.org/api/rest_v1/metrics/pageviews/per-article/en.wikipedia/all-access/all-agents/Ukraine/daily/2022041900/2022050900\n",
    "    \n",
    "https://pageviews.wmcloud.org/?project=en.wikipedia.org&platform=all-access&agent=user&redirects=0&range=latest-20&pages=GameStop|Bitcoin\n",
    "    "
   ]
  },
  {
   "cell_type": "markdown",
   "id": "565fcdd3",
   "metadata": {},
   "source": [
    "datetime_to_aylien_str(arrow.get(date).shift(days=-1).datetime)\n",
    "\n",
    "'start_date': arrow.get(query_template['published_at.start']).datetime,\n",
    "\n",
    "\n",
    "wikimedia timestampFormat: 'YYYYMMDD00',\n",
    " https://github.com/MusikAnimal/pageviews/blob/3426d27c46ac2f3a683e26e0bdeb873166fb45cd/javascripts/redirectviews/config.js\n",
    " \n",
    " "
   ]
  }
 ],
 "metadata": {
  "kernelspec": {
   "display_name": "Python 3 (ipykernel)",
   "language": "python",
   "name": "python3"
  },
  "language_info": {
   "codemirror_mode": {
    "name": "ipython",
    "version": 3
   },
   "file_extension": ".py",
   "mimetype": "text/x-python",
   "name": "python",
   "nbconvert_exporter": "python",
   "pygments_lexer": "ipython3",
   "version": "3.7.13"
  }
 },
 "nbformat": 4,
 "nbformat_minor": 5
}
