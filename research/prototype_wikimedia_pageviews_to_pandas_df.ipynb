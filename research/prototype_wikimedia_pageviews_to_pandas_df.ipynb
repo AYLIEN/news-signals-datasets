{
 "cells": [
  {
   "cell_type": "code",
   "execution_count": null,
   "id": "a25b4b8a",
   "metadata": {},
   "outputs": [],
   "source": [
    "# Wikimedia metrics\n",
    "# "
   ]
  },
  {
   "cell_type": "code",
   "execution_count": 20,
   "id": "b016f76f",
   "metadata": {},
   "outputs": [],
   "source": [
    "import json\n",
    "from pathlib import Path\n",
    "import arrow"
   ]
  },
  {
   "cell_type": "code",
   "execution_count": 21,
   "id": "7aeab3e5",
   "metadata": {},
   "outputs": [],
   "source": [
    "import requests"
   ]
  },
  {
   "cell_type": "code",
   "execution_count": 22,
   "id": "add45995",
   "metadata": {},
   "outputs": [],
   "source": [
    "datadir = Path('sample_wikimedia_pageviews_data/')\n",
    "sample_resp = datadir / 'sample_ukraine_pageviews_resp.json'"
   ]
  },
  {
   "cell_type": "code",
   "execution_count": 23,
   "id": "5f78d475",
   "metadata": {},
   "outputs": [],
   "source": [
    "resp = json.load(open(sample_resp))"
   ]
  },
  {
   "cell_type": "code",
   "execution_count": 24,
   "id": "6f8fc6fa",
   "metadata": {},
   "outputs": [],
   "source": [
    "wm_ts_items = resp['items']"
   ]
  },
  {
   "cell_type": "code",
   "execution_count": 25,
   "id": "d43899cf",
   "metadata": {},
   "outputs": [],
   "source": [
    "from collections import defaultdict"
   ]
  },
  {
   "cell_type": "code",
   "execution_count": 28,
   "id": "fe452645",
   "metadata": {},
   "outputs": [],
   "source": [
    "def parse_wikimedia_timestamp(timestamp):\n",
    "    # cuts off hours\n",
    "    return timestamp[:-2]"
   ]
  },
  {
   "cell_type": "code",
   "execution_count": 29,
   "id": "868f74c7",
   "metadata": {},
   "outputs": [
    {
     "data": {
      "text/plain": [
       "<Arrow [2022-04-19T00:00:00+00:00]>"
      ]
     },
     "execution_count": 29,
     "metadata": {},
     "output_type": "execute_result"
    }
   ],
   "source": [
    "arrow.get(parse_wikimedia_timestamp('2022041900'))"
   ]
  },
  {
   "cell_type": "code",
   "execution_count": 47,
   "id": "836489b6",
   "metadata": {},
   "outputs": [],
   "source": [
    "def datetime_to_aylien_str(dt):\n",
    "    \"\"\"\n",
    "    Convert python datetime object to the string format\n",
    "    used by Aylien newsAPI\n",
    "    \"\"\"\n",
    "    dt_str = dt.isoformat().split('+')[0]\n",
    "    if 'T' not in dt_str:\n",
    "        dt_str = f'{dt_str}T00:00:00.0'\n",
    "    dt_str = f'{dt_str}Z'\n",
    "\n",
    "    return dt_str"
   ]
  },
  {
   "cell_type": "code",
   "execution_count": 55,
   "id": "38457738",
   "metadata": {},
   "outputs": [],
   "source": [
    "def wikimedia_ts_to_columns(wikimedia_ts_items):\n",
    "    ts_columns = defaultdict(list)\n",
    "    for entry in wikimedia_ts_items:\n",
    "        col_name = f'{entry[\"project\"]}-{entry[\"article\"]}'\n",
    "        dt = datetime_to_aylien_str(arrow.get(parse_wikimedia_timestamp(entry[\"timestamp\"])).datetime)\n",
    "        ts_columns[col_name].append((dt, entry['views']))\n",
    "    return ts_columns"
   ]
  },
  {
   "cell_type": "code",
   "execution_count": 56,
   "id": "dbac0b30",
   "metadata": {},
   "outputs": [],
   "source": [
    "raw_column_data = wikimedia_ts_to_columns(wm_ts_items)"
   ]
  },
  {
   "cell_type": "code",
   "execution_count": 57,
   "id": "b56b1f42",
   "metadata": {},
   "outputs": [
    {
     "name": "stdout",
     "output_type": "stream",
     "text": [
      "{\n",
      "  \"en.wikipedia-Ukraine\": [\n",
      "    [\n",
      "      \"2022-04-19T00:00:00Z\",\n",
      "      48916\n",
      "    ],\n",
      "    [\n",
      "      \"2022-04-20T00:00:00Z\",\n",
      "      43014\n",
      "    ],\n",
      "    [\n",
      "      \"2022-04-21T00:00:00Z\",\n",
      "      41964\n",
      "    ],\n",
      "    [\n",
      "      \"2022-04-22T00:00:00Z\",\n",
      "      42269\n",
      "    ],\n",
      "    [\n",
      "      \"2022-04-23T00:00:00Z\",\n",
      "      39804\n",
      "    ],\n",
      "    [\n",
      "      \"2022-04-24T00:00:00Z\",\n",
      "      39448\n",
      "    ],\n",
      "    [\n",
      "      \"2022-04-25T00:00:00Z\",\n",
      "      40054\n",
      "    ],\n",
      "    [\n",
      "      \"2022-04-26T00:00:00Z\",\n",
      "      39348\n",
      "    ],\n",
      "    [\n",
      "      \"2022-04-27T00:00:00Z\",\n",
      "      37419\n",
      "    ],\n",
      "    [\n",
      "      \"2022-04-28T00:00:00Z\",\n",
      "      37441\n",
      "    ],\n",
      "    [\n",
      "      \"2022-04-29T00:00:00Z\",\n",
      "      35173\n",
      "    ],\n",
      "    [\n",
      "      \"2022-04-30T00:00:00Z\",\n",
      "      33331\n",
      "    ],\n",
      "    [\n",
      "      \"2022-05-01T00:00:00Z\",\n",
      "      35064\n",
      "    ],\n",
      "    [\n",
      "      \"2022-05-02T00:00:00Z\",\n",
      "      38781\n",
      "    ],\n",
      "    [\n",
      "      \"2022-05-03T00:00:00Z\",\n",
      "      37190\n",
      "    ],\n",
      "    [\n",
      "      \"2022-05-04T00:00:00Z\",\n",
      "      35376\n",
      "    ],\n",
      "    [\n",
      "      \"2022-05-05T00:00:00Z\",\n",
      "      32594\n",
      "    ],\n",
      "    [\n",
      "      \"2022-05-06T00:00:00Z\",\n",
      "      31576\n",
      "    ],\n",
      "    [\n",
      "      \"2022-05-07T00:00:00Z\",\n",
      "      29497\n",
      "    ],\n",
      "    [\n",
      "      \"2022-05-08T00:00:00Z\",\n",
      "      31098\n",
      "    ],\n",
      "    [\n",
      "      \"2022-05-09T00:00:00Z\",\n",
      "      36470\n",
      "    ]\n",
      "  ]\n",
      "}\n"
     ]
    }
   ],
   "source": [
    "print(json.dumps(raw_column_data, indent=2))"
   ]
  },
  {
   "cell_type": "code",
   "execution_count": 8,
   "id": "3d5c8b67",
   "metadata": {},
   "outputs": [
    {
     "data": {
      "text/plain": [
       "[{'project': 'en.wikipedia',\n",
       "  'article': 'Ukraine',\n",
       "  'granularity': 'daily',\n",
       "  'timestamp': '2022041900',\n",
       "  'access': 'all-access',\n",
       "  'agent': 'all-agents',\n",
       "  'views': 48916},\n",
       " {'project': 'en.wikipedia',\n",
       "  'article': 'Ukraine',\n",
       "  'granularity': 'daily',\n",
       "  'timestamp': '2022042000',\n",
       "  'access': 'all-access',\n",
       "  'agent': 'all-agents',\n",
       "  'views': 43014},\n",
       " {'project': 'en.wikipedia',\n",
       "  'article': 'Ukraine',\n",
       "  'granularity': 'daily',\n",
       "  'timestamp': '2022042100',\n",
       "  'access': 'all-access',\n",
       "  'agent': 'all-agents',\n",
       "  'views': 41964},\n",
       " {'project': 'en.wikipedia',\n",
       "  'article': 'Ukraine',\n",
       "  'granularity': 'daily',\n",
       "  'timestamp': '2022042200',\n",
       "  'access': 'all-access',\n",
       "  'agent': 'all-agents',\n",
       "  'views': 42269},\n",
       " {'project': 'en.wikipedia',\n",
       "  'article': 'Ukraine',\n",
       "  'granularity': 'daily',\n",
       "  'timestamp': '2022042300',\n",
       "  'access': 'all-access',\n",
       "  'agent': 'all-agents',\n",
       "  'views': 39804},\n",
       " {'project': 'en.wikipedia',\n",
       "  'article': 'Ukraine',\n",
       "  'granularity': 'daily',\n",
       "  'timestamp': '2022042400',\n",
       "  'access': 'all-access',\n",
       "  'agent': 'all-agents',\n",
       "  'views': 39448},\n",
       " {'project': 'en.wikipedia',\n",
       "  'article': 'Ukraine',\n",
       "  'granularity': 'daily',\n",
       "  'timestamp': '2022042500',\n",
       "  'access': 'all-access',\n",
       "  'agent': 'all-agents',\n",
       "  'views': 40054},\n",
       " {'project': 'en.wikipedia',\n",
       "  'article': 'Ukraine',\n",
       "  'granularity': 'daily',\n",
       "  'timestamp': '2022042600',\n",
       "  'access': 'all-access',\n",
       "  'agent': 'all-agents',\n",
       "  'views': 39348},\n",
       " {'project': 'en.wikipedia',\n",
       "  'article': 'Ukraine',\n",
       "  'granularity': 'daily',\n",
       "  'timestamp': '2022042700',\n",
       "  'access': 'all-access',\n",
       "  'agent': 'all-agents',\n",
       "  'views': 37419},\n",
       " {'project': 'en.wikipedia',\n",
       "  'article': 'Ukraine',\n",
       "  'granularity': 'daily',\n",
       "  'timestamp': '2022042800',\n",
       "  'access': 'all-access',\n",
       "  'agent': 'all-agents',\n",
       "  'views': 37441},\n",
       " {'project': 'en.wikipedia',\n",
       "  'article': 'Ukraine',\n",
       "  'granularity': 'daily',\n",
       "  'timestamp': '2022042900',\n",
       "  'access': 'all-access',\n",
       "  'agent': 'all-agents',\n",
       "  'views': 35173},\n",
       " {'project': 'en.wikipedia',\n",
       "  'article': 'Ukraine',\n",
       "  'granularity': 'daily',\n",
       "  'timestamp': '2022043000',\n",
       "  'access': 'all-access',\n",
       "  'agent': 'all-agents',\n",
       "  'views': 33331},\n",
       " {'project': 'en.wikipedia',\n",
       "  'article': 'Ukraine',\n",
       "  'granularity': 'daily',\n",
       "  'timestamp': '2022050100',\n",
       "  'access': 'all-access',\n",
       "  'agent': 'all-agents',\n",
       "  'views': 35064},\n",
       " {'project': 'en.wikipedia',\n",
       "  'article': 'Ukraine',\n",
       "  'granularity': 'daily',\n",
       "  'timestamp': '2022050200',\n",
       "  'access': 'all-access',\n",
       "  'agent': 'all-agents',\n",
       "  'views': 38781},\n",
       " {'project': 'en.wikipedia',\n",
       "  'article': 'Ukraine',\n",
       "  'granularity': 'daily',\n",
       "  'timestamp': '2022050300',\n",
       "  'access': 'all-access',\n",
       "  'agent': 'all-agents',\n",
       "  'views': 37190},\n",
       " {'project': 'en.wikipedia',\n",
       "  'article': 'Ukraine',\n",
       "  'granularity': 'daily',\n",
       "  'timestamp': '2022050400',\n",
       "  'access': 'all-access',\n",
       "  'agent': 'all-agents',\n",
       "  'views': 35376},\n",
       " {'project': 'en.wikipedia',\n",
       "  'article': 'Ukraine',\n",
       "  'granularity': 'daily',\n",
       "  'timestamp': '2022050500',\n",
       "  'access': 'all-access',\n",
       "  'agent': 'all-agents',\n",
       "  'views': 32594},\n",
       " {'project': 'en.wikipedia',\n",
       "  'article': 'Ukraine',\n",
       "  'granularity': 'daily',\n",
       "  'timestamp': '2022050600',\n",
       "  'access': 'all-access',\n",
       "  'agent': 'all-agents',\n",
       "  'views': 31576},\n",
       " {'project': 'en.wikipedia',\n",
       "  'article': 'Ukraine',\n",
       "  'granularity': 'daily',\n",
       "  'timestamp': '2022050700',\n",
       "  'access': 'all-access',\n",
       "  'agent': 'all-agents',\n",
       "  'views': 29497},\n",
       " {'project': 'en.wikipedia',\n",
       "  'article': 'Ukraine',\n",
       "  'granularity': 'daily',\n",
       "  'timestamp': '2022050800',\n",
       "  'access': 'all-access',\n",
       "  'agent': 'all-agents',\n",
       "  'views': 31098},\n",
       " {'project': 'en.wikipedia',\n",
       "  'article': 'Ukraine',\n",
       "  'granularity': 'daily',\n",
       "  'timestamp': '2022050900',\n",
       "  'access': 'all-access',\n",
       "  'agent': 'all-agents',\n",
       "  'views': 36470}]"
      ]
     },
     "execution_count": 8,
     "metadata": {},
     "output_type": "execute_result"
    }
   ],
   "source": [
    "entries"
   ]
  },
  {
   "cell_type": "code",
   "execution_count": null,
   "id": "1b62d76f",
   "metadata": {},
   "outputs": [],
   "source": [
    "https://wikimedia.org/api/rest_v1/metrics/pageviews/per-article/en.wikipedia/all-access/all-agents/Ukraine/daily/2022041900/2022050900\n",
    "    \n",
    "https://pageviews.wmcloud.org/?project=en.wikipedia.org&platform=all-access&agent=user&redirects=0&range=latest-20&pages=GameStop|Bitcoin\n",
    "    "
   ]
  },
  {
   "cell_type": "markdown",
   "id": "79b23482",
   "metadata": {},
   "source": [
    "datetime_to_aylien_str(arrow.get(date).shift(days=-1).datetime)\n",
    "\n",
    "'start_date': arrow.get(query_template['published_at.start']).datetime,\n",
    "\n",
    "\n",
    "wikimedia timestampFormat: 'YYYYMMDD00',\n",
    " https://github.com/MusikAnimal/pageviews/blob/3426d27c46ac2f3a683e26e0bdeb873166fb45cd/javascripts/redirectviews/config.js\n",
    " \n",
    " "
   ]
  }
 ],
 "metadata": {
  "kernelspec": {
   "display_name": "Python 3 (ipykernel)",
   "language": "python",
   "name": "python3"
  },
  "language_info": {
   "codemirror_mode": {
    "name": "ipython",
    "version": 3
   },
   "file_extension": ".py",
   "mimetype": "text/x-python",
   "name": "python",
   "nbconvert_exporter": "python",
   "pygments_lexer": "ipython3",
   "version": "3.7.13"
  }
 },
 "nbformat": 4,
 "nbformat_minor": 5
}
