{
 "cells": [
  {
   "attachments": {},
   "cell_type": "markdown",
   "metadata": {},
   "source": [
    "## Entity -> Wikipedia Current Events Pages"
   ]
  },
  {
   "cell_type": "code",
   "execution_count": 57,
   "metadata": {},
   "outputs": [],
   "source": [
    "import requests\n",
    "import calendar\n",
    "from bs4 import BeautifulSoup\n",
    "\n",
    "\n",
    "MONTH_NAMES = list(calendar.month_name)[1:]\n",
    "\n",
    "\n",
    "def is_valid_monthly_wcep_url(url):\n",
    "    '''\n",
    "    good example: https://en.wikipedia.org/wiki/Portal:Current_events/October_2003\n",
    "    bad examples:\n",
    "    https://en.wikipedia.org/wiki/Portal:Current_events/2005_December_29\n",
    "    https://en.wikipedia.org/wiki/Portal:Current_events/Middle_East/August_2006_in_the_Middle_East\n",
    "    '''\n",
    "    tail = url.split('Portal:Current_events')[-1]\n",
    "    if len(tail.split('/')) != 2:\n",
    "        return False\n",
    "    parts = url.split('/')[-1].split('_')\n",
    "    if len(parts) != 2:\n",
    "        return False\n",
    "    month, year = parts\n",
    "    return month in MONTH_NAMES and year.isnumeric()\n",
    "\n",
    "\n",
    "def get_wcep_links_linking_here(wikipedia_id):\n",
    "    page = wikipedia_id.replace('_', '+')\n",
    "    url = f'https://en.wikipedia.org/wiki/Special:WhatLinksHere?target={page}&namespace=100&limit=100000'\n",
    "    response = requests.get(url)\n",
    "    soup = BeautifulSoup(response.text, 'html.parser')\n",
    "    ul_element = soup.find('ul', id='mw-whatlinkshere-list')\n",
    "    links = [li.a['href'] for li in ul_element.find_all('li') if li.a]\n",
    "    base_url = 'https://en.wikipedia.org'\n",
    "    absolute_links = [base_url + link if link.startswith('/') else link for link in links]\n",
    "    monthly_wcep_links = [link for link in absolute_links if is_valid_monthly_wcep_url(link)]\n",
    "    return monthly_wcep_links"
   ]
  },
  {
   "cell_type": "code",
   "execution_count": 58,
   "metadata": {},
   "outputs": [
    {
     "data": {
      "text/plain": [
       "179"
      ]
     },
     "execution_count": 58,
     "metadata": {},
     "output_type": "execute_result"
    }
   ],
   "source": [
    "wcep_links = get_wcep_links_linking_here('Gaza_Strip')\n",
    "len(wcep_links)"
   ]
  },
  {
   "cell_type": "code",
   "execution_count": 59,
   "metadata": {},
   "outputs": [
    {
     "data": {
      "text/plain": [
       "['https://en.wikipedia.org/wiki/Portal:Current_events/October_2003',\n",
       " 'https://en.wikipedia.org/wiki/Portal:Current_events/May_2002',\n",
       " 'https://en.wikipedia.org/wiki/Portal:Current_events/August_2002',\n",
       " 'https://en.wikipedia.org/wiki/Portal:Current_events/March_2002',\n",
       " 'https://en.wikipedia.org/wiki/Portal:Current_events/October_2002',\n",
       " 'https://en.wikipedia.org/wiki/Portal:Current_events/December_2002',\n",
       " 'https://en.wikipedia.org/wiki/Portal:Current_events/April_2003',\n",
       " 'https://en.wikipedia.org/wiki/Portal:Current_events/June_2003',\n",
       " 'https://en.wikipedia.org/wiki/Portal:Current_events/August_2003',\n",
       " 'https://en.wikipedia.org/wiki/Portal:Current_events/December_2003']"
      ]
     },
     "execution_count": 59,
     "metadata": {},
     "output_type": "execute_result"
    }
   ],
   "source": [
    "wcep_links[:10]"
   ]
  },
  {
   "cell_type": "code",
   "execution_count": 60,
   "metadata": {},
   "outputs": [
    {
     "data": {
      "text/plain": [
       "'https://en.wikipedia.org/wiki/Portal:Current_events/October_2023'"
      ]
     },
     "execution_count": 60,
     "metadata": {},
     "output_type": "execute_result"
    }
   ],
   "source": [
    "wcep_links[-1]"
   ]
  },
  {
   "attachments": {},
   "cell_type": "markdown",
   "metadata": {},
   "source": [
    "## Parse Monthly WCEP Pages"
   ]
  },
  {
   "cell_type": "code",
   "execution_count": 26,
   "metadata": {},
   "outputs": [],
   "source": [
    "import datetime\n",
    "import calendar\n",
    "import collections\n",
    "import arrow\n",
    "from dataclasses import dataclass, field, asdict\n",
    "from bs4 import BeautifulSoup\n",
    "\n",
    "\n",
    "def month_to_int():\n",
    "    month_to_int = {}\n",
    "    for i, month in enumerate(calendar.month_name):\n",
    "        if i > 0:\n",
    "            month_to_int[month] = i\n",
    "    return month_to_int\n",
    "\n",
    "\n",
    "MONTH_TO_INT = month_to_int()\n",
    "\n",
    "\n",
    "@dataclass\n",
    "class EventBullet:\n",
    "    text: str = None\n",
    "    id: str = None\n",
    "    date: datetime.datetime = None\n",
    "    category: str = None\n",
    "    topics: list = field(default_factory=list)\n",
    "    wiki_links: list = field(default_factory=list)\n",
    "    references: list = field(default_factory=list)\n",
    "\n",
    "\n",
    "def url_to_time(url, month_to_num):\n",
    "    tail = url.split('/')[-1]\n",
    "    month, year = tail.split('_')\n",
    "    m = month_to_num[month]\n",
    "    y = int(year)\n",
    "    return datetime.datetime(year=y, month=m, day=1)\n",
    "\n",
    "\n",
    "def extract_date(date_div):\n",
    "    date = date_div.find('span', class_='summary')\n",
    "    date = date.text.split('(')[1].split(')')[0]\n",
    "    date = arrow.get(date)\n",
    "    date = datetime.date(date.year, date.month, date.day)\n",
    "    return date\n",
    "\n",
    "\n",
    "def wiki_link_to_id(s):\n",
    "    return s.split('/wiki/')[1]\n",
    "\n",
    "\n",
    "def extract_event_bullets(e, date, category):\n",
    "    events = []\n",
    "    topic_to_child = collections.defaultdict(set)\n",
    "    topic_to_parent = collections.defaultdict(set)\n",
    "\n",
    "    def recursively_extract_event_bullets(e,\n",
    "                                    date,\n",
    "                                    category,\n",
    "                                    prev_topics,\n",
    "                                    is_root=False):\n",
    "        if is_root:\n",
    "            lis = e.find_all('li', recursive=False)\n",
    "            result = [recursively_extract_event_bullets(li, date, category, [])\n",
    "                    for li in lis]\n",
    "            return result\n",
    "        else:\n",
    "            ul = e.find('ul')\n",
    "            if ul:\n",
    "                # intermediate \"node\", e.g. a topic an event is assigned to\n",
    "\n",
    "                links = e.find_all('a', recursive=False)\n",
    "                new_topics = []\n",
    "                for link in links:\n",
    "                    try:\n",
    "                        new_topics.append(wiki_link_to_id(link.get('href')))\n",
    "                    except:\n",
    "                        print(\"not a wiki link:\", link)\n",
    "                lis = ul.find_all('li', recursive=False)\n",
    "\n",
    "                for prev_topic in prev_topics:\n",
    "                    for new_topic in new_topics:\n",
    "                        topic_to_child[prev_topic].add(new_topic)\n",
    "                        topic_to_parent[new_topic].add(prev_topic)\n",
    "\n",
    "                topics = prev_topics + new_topics\n",
    "                for li in lis:\n",
    "                    recursively_extract_event_bullets(li, date, category, topics)\n",
    "\n",
    "            else:\n",
    "                # reached the \"leaf\", i.e. event summary\n",
    "                text = e.text\n",
    "                wiki_links = []\n",
    "                references = []\n",
    "                for link in e.find_all('a'):\n",
    "                    url = link.get('href')\n",
    "                    if link.get('rel') == ['nofollow']:\n",
    "                        references.append(url)\n",
    "                    elif url.startswith('/wiki'):\n",
    "                        wiki_links.append(url)\n",
    "                event = EventBullet(\n",
    "                    text=text,\n",
    "                    date=date,\n",
    "                    category=category,\n",
    "                    topics=prev_topics,\n",
    "                    wiki_links=wiki_links,\n",
    "                    references=references\n",
    "                )\n",
    "                events.append(event)\n",
    "\n",
    "    recursively_extract_event_bullets(e, date, category, [], is_root=True)\n",
    "    return events\n",
    "\n",
    "\n",
    "def process_month_page_2004_to_2017(html):\n",
    "    soup = BeautifulSoup(html, 'html.parser')\n",
    "    days = soup.find_all('table', class_='vevent')\n",
    "    events = []\n",
    "    for day in days:\n",
    "        date = extract_date(day)\n",
    "        category = None\n",
    "        desc = day.find('td', class_='description')\n",
    "        for e in desc.children:\n",
    "            if e.name == 'dl':\n",
    "                category = e.text\n",
    "            elif e.name == 'ul':\n",
    "                events += extract_event_bullets(e, date, category)\n",
    "    return events\n",
    "\n",
    "\n",
    "def process_month_page_from_2018(html):\n",
    "    soup = BeautifulSoup(html, 'html.parser')\n",
    "    days = soup.find_all('div', class_='vevent')\n",
    "    events = []\n",
    "    for day in days:\n",
    "        date = extract_date(day)\n",
    "        #print('DATE:', date)\n",
    "        category = None\n",
    "        desc = day.find('div', class_='description')\n",
    "        for e in desc.children:\n",
    "            if e.name == 'div' and e.get('role') == 'heading':\n",
    "                category = e.text\n",
    "                #print('-'*25, 'CATEGORY:', category, '-'*25, '\\n')\n",
    "            elif e.name == 'ul':\n",
    "                events += extract_event_bullets(e, date, category)\n",
    "    return events"
   ]
  },
  {
   "cell_type": "code",
   "execution_count": 18,
   "metadata": {},
   "outputs": [],
   "source": [
    "wcep_url = 'https://en.wikipedia.org/wiki/Portal:Current_events/2023_October_25'\n",
    "events = process_month_page_from_2018(requests.get(wcep_url).text)"
   ]
  },
  {
   "cell_type": "code",
   "execution_count": 24,
   "metadata": {},
   "outputs": [
    {
     "data": {
      "text/plain": [
       "{'text': 'The Gaza Health Ministry says that at least 704 people have died in the past day. The UN relief agency says this was \"the highest fatality toll reported in a single day\". (The Hill) (Al Jazeera)',\n",
       " 'id': None,\n",
       " 'date': datetime.date(2023, 10, 25),\n",
       " 'category': None,\n",
       " 'stories': ['Gaza%E2%80%93Israel_conflict', '2023_Israel%E2%80%93Hamas_war'],\n",
       " 'wiki_links': ['/wiki/Gaza_Health_Ministry', '/wiki/UNRWA'],\n",
       " 'references': ['https://thehill.com/policy/international/4272805-704-dead-airstrikes-gaza-israel-hamas/',\n",
       "  'https://www.aljazeera.com/news/liveblog/2023/10/23/israel-hamas-war-live-hundreds-killed-israeli-strikes-gaza']}"
      ]
     },
     "execution_count": 24,
     "metadata": {},
     "output_type": "execute_result"
    }
   ],
   "source": [
    "asdict(events[0])"
   ]
  },
  {
   "attachments": {},
   "cell_type": "markdown",
   "metadata": {},
   "source": [
    "## Combined: Entity -> CEP Events"
   ]
  },
  {
   "cell_type": "code",
   "execution_count": 151,
   "metadata": {},
   "outputs": [],
   "source": [
    "import tqdm\n",
    "import urllib.parse\n",
    "# import asyncio\n",
    "# import httpx\n",
    "\n",
    "\n",
    "# async def process_monthly_wcep_urls(wcep_url):\n",
    "#     async with httpx.AsyncClient() as client:\n",
    "#         response = await client.get(wcep_url)\n",
    "#         html = response.text\n",
    "#         year = int(wcep_url.split('_')[-1])\n",
    "#         if 2004 <= year < 2018:\n",
    "#             events = process_month_page_2004_to_2017(html)\n",
    "#         elif 2018 <= year :\n",
    "#             events = process_month_page_from_2018(html)\n",
    "#         return events\n",
    "\n",
    "\n",
    "# async def entity_to_events(wikipedia_id):\n",
    "#     wcep_links = get_wcep_links_linking_here(wikipedia_id)\n",
    "#     return await asyncio.gather(*[process_monthly_wcep_urls(url) for url in wcep_links])\n",
    "\n",
    "\n",
    "def entity_to_events(wikipedia_id):\n",
    "    wcep_links = get_wcep_links_linking_here(wikipedia_id)\n",
    "    events = []\n",
    "    for url in tqdm.tqdm(wcep_links):\n",
    "        response = requests.get(url)\n",
    "        html = response.text\n",
    "        year = int(url.split('_')[-1])\n",
    "        if 2004 <= year < 2018:\n",
    "            events += process_month_page_2004_to_2017(html)\n",
    "        elif 2018 <= year :\n",
    "            events += process_month_page_from_2018(html)\n",
    "    events.sort(key=lambda x: x.date)\n",
    "    # we only keep events with link to our entity of interest\n",
    "    events = [\n",
    "        e for e in events\n",
    "        if any([\n",
    "            urllib.parse.unquote(wiki_link).endswith(wikipedia_id)\n",
    "            for wiki_link in e.wiki_links\n",
    "        ])\n",
    "    ]\n",
    "    return events"
   ]
  },
  {
   "cell_type": "code",
   "execution_count": 152,
   "metadata": {},
   "outputs": [
    {
     "name": "stderr",
     "output_type": "stream",
     "text": [
      " 61%|██████    | 59/97 [00:39<00:24,  1.56it/s]"
     ]
    },
    {
     "name": "stdout",
     "output_type": "stream",
     "text": [
      "not a wiki link: <a class=\"new\" href=\"/w/index.php?title=Colonization_of_Europa&amp;action=edit&amp;redlink=1\" title=\"Colonization of Europa (page does not exist)\">Colonization of Europa</a>\n"
     ]
    },
    {
     "name": "stderr",
     "output_type": "stream",
     "text": [
      " 66%|██████▌   | 64/97 [00:42<00:21,  1.55it/s]"
     ]
    },
    {
     "name": "stdout",
     "output_type": "stream",
     "text": [
      "not a wiki link: <a class=\"external text\" href=\"https://www.npr.org/2019/10/02/766404561/wto-says-u-s-can-hit-eu-with-7-5-billion-in-tariffs-over-airbus-subsidies\" rel=\"nofollow\">(NPR)</a>\n",
      "not a wiki link: <a class=\"new\" href=\"/w/index.php?title=Manchester_Arndale_stabbing&amp;action=edit&amp;redlink=1\" title=\"Manchester Arndale stabbing (page does not exist)\">Manchester Arndale stabbing</a>\n"
     ]
    },
    {
     "name": "stderr",
     "output_type": "stream",
     "text": [
      " 69%|██████▉   | 67/97 [00:44<00:19,  1.51it/s]"
     ]
    },
    {
     "name": "stdout",
     "output_type": "stream",
     "text": [
      "not a wiki link: <a class=\"external text\" href=\"https://www.si.com/wrestling/2020/06/19/hashtag-speaking-out-wrestling-industry-abusive-behavior\" rel=\"nofollow\">(<i>Sports Illustrated</i>)</a>\n",
      "not a wiki link: <a class=\"external text\" href=\"https://www.boston.com/sports/boston-red-sox/2020/06/25/eddie-kasko-red-sox-obituary/amp\" rel=\"nofollow\">(Boston)</a>\n"
     ]
    },
    {
     "name": "stderr",
     "output_type": "stream",
     "text": [
      " 70%|███████   | 68/97 [00:45<00:20,  1.42it/s]"
     ]
    },
    {
     "name": "stdout",
     "output_type": "stream",
     "text": [
      "not a wiki link: <a class=\"new\" href=\"/w/index.php?title=Sheikhupura_train-van_crash&amp;action=edit&amp;redlink=1\" title=\"Sheikhupura train-van crash (page does not exist)\">Sheikhupura train-van crash</a>\n"
     ]
    },
    {
     "name": "stderr",
     "output_type": "stream",
     "text": [
      " 71%|███████   | 69/97 [00:46<00:21,  1.32it/s]"
     ]
    },
    {
     "name": "stdout",
     "output_type": "stream",
     "text": [
      "not a wiki link: <a class=\"new\" href=\"/w/index.php?title=2020_Chaman_bombing&amp;action=edit&amp;redlink=1\" title=\"2020 Chaman bombing (page does not exist)\">2020 Chaman bombing</a>\n",
      "not a wiki link: <a class=\"new\" href=\"/w/index.php?title=Draft:Osaka_Nana_Grave&amp;action=edit&amp;redlink=1\" title=\"Draft:Osaka Nana Grave (page does not exist)\">Osaka Nana Grave</a>\n"
     ]
    },
    {
     "name": "stderr",
     "output_type": "stream",
     "text": [
      " 72%|███████▏  | 70/97 [00:47<00:21,  1.23it/s]"
     ]
    },
    {
     "name": "stdout",
     "output_type": "stream",
     "text": [
      "not a wiki link: <a class=\"new\" href=\"/w/index.php?title=2020_Lyon_shooting&amp;action=edit&amp;redlink=1\" title=\"2020 Lyon shooting (page does not exist)\">2020 Lyon shooting</a>\n"
     ]
    },
    {
     "name": "stderr",
     "output_type": "stream",
     "text": [
      " 79%|███████▉  | 77/97 [00:53<00:17,  1.12it/s]"
     ]
    },
    {
     "name": "stdout",
     "output_type": "stream",
     "text": [
      "not a wiki link: <a class=\"external text\" href=\"https://news.sky.com/story/nazanin-zaghari-ratcliffe-uk-to-pay-tehran-163400m-to-free-british-iranian-national-state-tv-reports-12293267\" rel=\"nofollow\">(Sky News)</a>\n"
     ]
    },
    {
     "name": "stderr",
     "output_type": "stream",
     "text": [
      " 80%|████████  | 78/97 [00:54<00:16,  1.15it/s]"
     ]
    },
    {
     "name": "stdout",
     "output_type": "stream",
     "text": [
      "not a wiki link: <a class=\"new\" href=\"/w/index.php?title=House_Resolution_3005&amp;action=edit&amp;redlink=1\" title=\"House Resolution 3005 (page does not exist)\">House Resolution 3005</a>\n"
     ]
    },
    {
     "name": "stderr",
     "output_type": "stream",
     "text": [
      " 82%|████████▏ | 80/97 [00:56<00:14,  1.17it/s]"
     ]
    },
    {
     "name": "stdout",
     "output_type": "stream",
     "text": [
      "not a wiki link: <a class=\"new\" href=\"/w/index.php?title=2021_Damascus_bus_bombing&amp;action=edit&amp;redlink=1\" title=\"2021 Damascus bus bombing (page does not exist)\">2021 Damascus bus bombing</a>\n"
     ]
    },
    {
     "name": "stderr",
     "output_type": "stream",
     "text": [
      " 85%|████████▍ | 82/97 [00:58<00:12,  1.23it/s]"
     ]
    },
    {
     "name": "stdout",
     "output_type": "stream",
     "text": [
      "not a wiki link: <a class=\"new\" href=\"/w/index.php?title=14-Year-Old_Valentina_Orellana-Peralta_killed_in_LAPD_response&amp;action=edit&amp;redlink=1\" title=\"14-Year-Old Valentina Orellana-Peralta killed in LAPD response (page does not exist)\">14-Year-Old Valentina Orellana-Peralta killed in LAPD response</a>\n"
     ]
    },
    {
     "name": "stderr",
     "output_type": "stream",
     "text": [
      " 87%|████████▋ | 84/97 [00:59<00:11,  1.17it/s]"
     ]
    },
    {
     "name": "stdout",
     "output_type": "stream",
     "text": [
      "not a wiki link: <a class=\"new\" href=\"/w/index.php?title=Battle_of_Zaporizhzhia&amp;action=edit&amp;redlink=1\" title=\"Battle of Zaporizhzhia (page does not exist)\">Battle of Zaporizhzhia</a>\n"
     ]
    },
    {
     "name": "stderr",
     "output_type": "stream",
     "text": [
      " 90%|████████▉ | 87/97 [01:01<00:07,  1.34it/s]"
     ]
    },
    {
     "name": "stdout",
     "output_type": "stream",
     "text": [
      "not a wiki link: <a class=\"new\" href=\"/w/index.php?title=2022_As-Suwayda_clashes&amp;action=edit&amp;redlink=1\" title=\"2022 As-Suwayda clashes (page does not exist)\">2022 As-Suwayda clashes</a>\n"
     ]
    },
    {
     "name": "stderr",
     "output_type": "stream",
     "text": [
      " 93%|█████████▎| 90/97 [01:03<00:04,  1.48it/s]"
     ]
    },
    {
     "name": "stdout",
     "output_type": "stream",
     "text": [
      "not a wiki link: <a class=\"new\" href=\"/w/index.php?title=Incarceration_of_Ana_Montes&amp;action=edit&amp;redlink=1\" title=\"Incarceration of Ana Montes (page does not exist)\">Incarceration of Ana Montes</a>\n",
      "not a wiki link: <a class=\"new\" href=\"/w/index.php?title=Rishi_Sunak_seatbelt_incident&amp;action=edit&amp;redlink=1\" title=\"Rishi Sunak seatbelt incident (page does not exist)\">Rishi Sunak seatbelt incident</a>\n"
     ]
    },
    {
     "name": "stderr",
     "output_type": "stream",
     "text": [
      " 95%|█████████▍| 92/97 [01:04<00:03,  1.64it/s]"
     ]
    },
    {
     "name": "stdout",
     "output_type": "stream",
     "text": [
      "not a wiki link: <a class=\"new\" href=\"/w/index.php?title=2023_Nayarit_bus_crash&amp;action=edit&amp;redlink=1\" title=\"2023 Nayarit bus crash (page does not exist)\">2023 Nayarit bus crash</a>\n"
     ]
    },
    {
     "name": "stderr",
     "output_type": "stream",
     "text": [
      " 96%|█████████▌| 93/97 [01:06<00:03,  1.14it/s]"
     ]
    },
    {
     "name": "stdout",
     "output_type": "stream",
     "text": [
      "not a wiki link: <a class=\"new\" href=\"/w/index.php?title=2023_Ratingen_explosion&amp;action=edit&amp;redlink=1\" title=\"2023 Ratingen explosion (page does not exist)\">2023 Ratingen explosion</a>\n"
     ]
    },
    {
     "name": "stderr",
     "output_type": "stream",
     "text": [
      " 98%|█████████▊| 95/97 [01:07<00:01,  1.25it/s]"
     ]
    },
    {
     "name": "stdout",
     "output_type": "stream",
     "text": [
      "not a wiki link: <a class=\"new\" href=\"/w/index.php?title=2023_Italy_wildfires&amp;action=edit&amp;redlink=1\" title=\"2023 Italy wildfires (page does not exist)\">2023 Italy wildfires</a>\n",
      "not a wiki link: <a class=\"new\" href=\"/w/index.php?title=2023_Langweid_am_Lech_shooting&amp;action=edit&amp;redlink=1\" title=\"2023 Langweid am Lech shooting (page does not exist)\">2023 Langweid am Lech shooting</a>\n"
     ]
    },
    {
     "name": "stderr",
     "output_type": "stream",
     "text": [
      " 99%|█████████▉| 96/97 [01:08<00:00,  1.31it/s]"
     ]
    },
    {
     "name": "stdout",
     "output_type": "stream",
     "text": [
      "not a wiki link: <a class=\"new\" href=\"/w/index.php?title=2023_National_Aerobatic_Team_Aermacchi_MB-339_crash&amp;action=edit&amp;redlink=1\" title=\"2023 National Aerobatic Team Aermacchi MB-339 crash (page does not exist)\">2023 National Aerobatic Team Aermacchi MB-339 crash</a>\n"
     ]
    },
    {
     "name": "stderr",
     "output_type": "stream",
     "text": [
      "100%|██████████| 97/97 [01:09<00:00,  1.40it/s]\n"
     ]
    },
    {
     "data": {
      "text/plain": [
       "91"
      ]
     },
     "execution_count": 152,
     "metadata": {},
     "output_type": "execute_result"
    }
   ],
   "source": [
    "events = entity_to_events(\"Recep_Tayyip_Erdoğan\")\n",
    "len(events)"
   ]
  },
  {
   "cell_type": "code",
   "execution_count": 150,
   "metadata": {},
   "outputs": [
    {
     "name": "stdout",
     "output_type": "stream",
     "text": [
      "/wiki/Recep_Tayyip_Erdoğan\n",
      "/wiki/Recep_Tayyip_Erdoğan\n",
      "/wiki/Recep_Tayyip_Erdoğan\n",
      "/wiki/Recep_Tayyip_Erdoğan\n",
      "/wiki/Recep_Tayyip_Erdoğan\n",
      "/wiki/Recep_Tayyip_Erdoğan\n",
      "/wiki/Recep_Tayyip_Erdoğan\n",
      "/wiki/Recep_Tayyip_Erdoğan\n",
      "/wiki/Recep_Tayyip_Erdoğan\n",
      "/wiki/Recep_Tayyip_Erdoğan\n",
      "/wiki/Recep_Tayyip_Erdoğan\n",
      "/wiki/Recep_Tayyip_Erdoğan\n",
      "/wiki/Recep_Tayyip_Erdoğan\n",
      "/wiki/Recep_Tayyip_Erdoğan\n",
      "/wiki/Recep_Tayyip_Erdoğan\n",
      "/wiki/Recep_Tayyip_Erdoğan\n",
      "/wiki/Recep_Tayyip_Erdoğan\n",
      "/wiki/Recep_Tayyip_Erdoğan\n",
      "/wiki/Recep_Tayyip_Erdoğan\n",
      "/wiki/Recep_Tayyip_Erdoğan\n",
      "/wiki/Recep_Tayyip_Erdoğan\n",
      "/wiki/Recep_Tayyip_Erdoğan\n",
      "/wiki/Recep_Tayyip_Erdoğan\n",
      "/wiki/Recep_Tayyip_Erdoğan\n",
      "/wiki/Recep_Tayyip_Erdoğan\n",
      "/wiki/Recep_Tayyip_Erdoğan\n",
      "/wiki/Recep_Tayyip_Erdoğan\n",
      "/wiki/Recep_Tayyip_Erdoğan\n",
      "/wiki/Recep_Tayyip_Erdoğan\n",
      "/wiki/Recep_Tayyip_Erdoğan\n",
      "/wiki/Recep_Tayyip_Erdoğan\n",
      "/wiki/Recep_Tayyip_Erdoğan\n",
      "/wiki/Recep_Tayyip_Erdoğan\n",
      "/wiki/Recep_Tayyip_Erdoğan\n",
      "/wiki/Recep_Tayyip_Erdoğan\n",
      "/wiki/Recep_Tayyip_Erdoğan\n",
      "/wiki/Recep_Tayyip_Erdoğan\n",
      "/wiki/Recep_Tayyip_Erdoğan\n",
      "/wiki/Recep_Tayyip_Erdoğan\n",
      "/wiki/Recep_Tayyip_Erdoğan\n",
      "/wiki/Recep_Tayyip_Erdoğan\n",
      "/wiki/Recep_Tayyip_Erdoğan\n",
      "/wiki/Recep_Tayyip_Erdoğan\n",
      "/wiki/Recep_Tayyip_Erdoğan\n",
      "/wiki/Recep_Tayyip_Erdoğan\n",
      "/wiki/Recep_Tayyip_Erdoğan\n",
      "/wiki/Recep_Tayyip_Erdoğan\n",
      "/wiki/Recep_Tayyip_Erdoğan\n",
      "/wiki/Recep_Tayyip_Erdoğan\n",
      "/wiki/Recep_Tayyip_Erdoğan\n",
      "/wiki/Recep_Tayyip_Erdoğan\n",
      "/wiki/Recep_Tayyip_Erdoğan\n",
      "/wiki/Recep_Tayyip_Erdoğan\n",
      "/wiki/Recep_Tayyip_Erdoğan\n",
      "/wiki/Recep_Tayyip_Erdoğan\n",
      "/wiki/Recep_Tayyip_Erdoğan\n",
      "/wiki/Recep_Tayyip_Erdoğan\n",
      "/wiki/Recep_Tayyip_Erdoğan\n",
      "/wiki/Recep_Tayyip_Erdoğan\n",
      "/wiki/Recep_Tayyip_Erdoğan\n",
      "/wiki/Recep_Tayyip_Erdoğan\n",
      "/wiki/Recep_Tayyip_Erdoğan\n",
      "/wiki/Recep_Tayyip_Erdoğan\n",
      "/wiki/Recep_Tayyip_Erdoğan\n",
      "/wiki/Recep_Tayyip_Erdoğan\n",
      "/wiki/Recep_Tayyip_Erdoğan\n",
      "/wiki/Recep_Tayyip_Erdoğan\n",
      "/wiki/Recep_Tayyip_Erdoğan\n",
      "/wiki/Recep_Tayyip_Erdoğan\n",
      "/wiki/Recep_Tayyip_Erdoğan\n",
      "/wiki/Recep_Tayyip_Erdoğan\n",
      "/wiki/Recep_Tayyip_Erdoğan\n",
      "/wiki/Recep_Tayyip_Erdoğan\n",
      "/wiki/Recep_Tayyip_Erdoğan\n",
      "/wiki/Recep_Tayyip_Erdoğan\n",
      "/wiki/Recep_Tayyip_Erdoğan\n",
      "/wiki/Recep_Tayyip_Erdoğan\n",
      "/wiki/Recep_Tayyip_Erdoğan\n",
      "/wiki/Recep_Tayyip_Erdoğan\n",
      "/wiki/Recep_Tayyip_Erdoğan\n",
      "/wiki/Recep_Tayyip_Erdoğan\n",
      "/wiki/Recep_Tayyip_Erdoğan\n",
      "/wiki/Recep_Tayyip_Erdoğan\n",
      "/wiki/Recep_Tayyip_Erdoğan\n",
      "/wiki/Recep_Tayyip_Erdoğan\n",
      "/wiki/Recep_Tayyip_Erdoğan\n",
      "/wiki/Recep_Tayyip_Erdoğan\n",
      "/wiki/Recep_Tayyip_Erdoğan\n",
      "/wiki/Recep_Tayyip_Erdoğan\n",
      "/wiki/Recep_Tayyip_Erdoğan\n",
      "/wiki/Recep_Tayyip_Erdoğan\n"
     ]
    }
   ],
   "source": [
    "import urllib.parse\n",
    "\n",
    "\n",
    "wikipedia_id = 'Recep_Tayyip_Erdoğan'\n",
    "interesting_events = []\n",
    "for e in events:\n",
    "    for wl in e.wiki_links:\n",
    "        wl2 = urllib.parse.unquote(wl)\n",
    "        if wl2.endswith(wikipedia_id):\n",
    "            print(wl2)"
   ]
  },
  {
   "cell_type": "code",
   "execution_count": 154,
   "metadata": {},
   "outputs": [],
   "source": [
    "dates = [e.date for e in events]\n",
    "date_counter = collections.Counter(dates)\n",
    "unique_dates = sorted(set(dates))\n",
    "date_counts = [date_counter[d] for d in unique_dates]"
   ]
  },
  {
   "cell_type": "code",
   "execution_count": 156,
   "metadata": {},
   "outputs": [
    {
     "data": {
      "text/plain": [
       "[(datetime.date(2018, 1, 5), 1),\n",
       " (datetime.date(2018, 1, 21), 1),\n",
       " (datetime.date(2018, 1, 26), 1),\n",
       " (datetime.date(2018, 2, 26), 1),\n",
       " (datetime.date(2018, 3, 20), 1),\n",
       " (datetime.date(2018, 3, 26), 1),\n",
       " (datetime.date(2018, 4, 5), 1),\n",
       " (datetime.date(2018, 4, 10), 1),\n",
       " (datetime.date(2018, 4, 22), 1),\n",
       " (datetime.date(2018, 4, 25), 1),\n",
       " (datetime.date(2018, 4, 30), 1),\n",
       " (datetime.date(2018, 6, 24), 1),\n",
       " (datetime.date(2018, 7, 8), 1),\n",
       " (datetime.date(2018, 8, 18), 1),\n",
       " (datetime.date(2018, 9, 26), 1),\n",
       " (datetime.date(2018, 10, 23), 1),\n",
       " (datetime.date(2018, 11, 11), 1),\n",
       " (datetime.date(2019, 3, 31), 1),\n",
       " (datetime.date(2019, 5, 6), 1),\n",
       " (datetime.date(2019, 9, 4), 1),\n",
       " (datetime.date(2019, 9, 5), 1),\n",
       " (datetime.date(2019, 9, 8), 1),\n",
       " (datetime.date(2019, 9, 27), 1),\n",
       " (datetime.date(2019, 10, 5), 1),\n",
       " (datetime.date(2019, 10, 6), 1),\n",
       " (datetime.date(2019, 10, 9), 1),\n",
       " (datetime.date(2019, 10, 10), 1),\n",
       " (datetime.date(2019, 10, 17), 1),\n",
       " (datetime.date(2019, 10, 22), 1),\n",
       " (datetime.date(2019, 12, 26), 1),\n",
       " (datetime.date(2020, 2, 3), 1),\n",
       " (datetime.date(2020, 2, 4), 1),\n",
       " (datetime.date(2020, 2, 15), 1),\n",
       " (datetime.date(2020, 2, 19), 1),\n",
       " (datetime.date(2020, 2, 25), 1),\n",
       " (datetime.date(2020, 2, 29), 1),\n",
       " (datetime.date(2020, 6, 11), 1),\n",
       " (datetime.date(2020, 7, 1), 1),\n",
       " (datetime.date(2020, 7, 10), 1),\n",
       " (datetime.date(2020, 7, 11), 1),\n",
       " (datetime.date(2020, 7, 17), 1),\n",
       " (datetime.date(2020, 8, 7), 1),\n",
       " (datetime.date(2020, 8, 21), 1),\n",
       " (datetime.date(2020, 10, 26), 1),\n",
       " (datetime.date(2020, 10, 27), 1),\n",
       " (datetime.date(2020, 10, 28), 1),\n",
       " (datetime.date(2020, 11, 1), 1),\n",
       " (datetime.date(2020, 11, 8), 1),\n",
       " (datetime.date(2020, 11, 17), 2),\n",
       " (datetime.date(2020, 11, 30), 1),\n",
       " (datetime.date(2020, 12, 10), 1),\n",
       " (datetime.date(2020, 12, 14), 1),\n",
       " (datetime.date(2021, 1, 14), 1),\n",
       " (datetime.date(2021, 2, 11), 1),\n",
       " (datetime.date(2021, 2, 15), 1),\n",
       " (datetime.date(2021, 2, 17), 1),\n",
       " (datetime.date(2021, 3, 21), 1),\n",
       " (datetime.date(2021, 3, 27), 1),\n",
       " (datetime.date(2021, 3, 29), 1),\n",
       " (datetime.date(2021, 4, 13), 1),\n",
       " (datetime.date(2021, 4, 26), 1),\n",
       " (datetime.date(2021, 5, 17), 1),\n",
       " (datetime.date(2021, 5, 28), 1),\n",
       " (datetime.date(2021, 6, 15), 1),\n",
       " (datetime.date(2021, 8, 5), 1),\n",
       " (datetime.date(2021, 10, 23), 1),\n",
       " (datetime.date(2021, 11, 23), 1),\n",
       " (datetime.date(2021, 11, 29), 1),\n",
       " (datetime.date(2021, 12, 17), 1),\n",
       " (datetime.date(2022, 2, 12), 1),\n",
       " (datetime.date(2022, 2, 26), 1),\n",
       " (datetime.date(2022, 3, 6), 1),\n",
       " (datetime.date(2022, 5, 13), 1),\n",
       " (datetime.date(2022, 5, 19), 1),\n",
       " (datetime.date(2022, 5, 23), 1),\n",
       " (datetime.date(2022, 6, 1), 1),\n",
       " (datetime.date(2022, 7, 19), 1),\n",
       " (datetime.date(2022, 9, 3), 1),\n",
       " (datetime.date(2022, 11, 20), 1),\n",
       " (datetime.date(2022, 11, 21), 1),\n",
       " (datetime.date(2023, 1, 23), 1),\n",
       " (datetime.date(2023, 3, 17), 1),\n",
       " (datetime.date(2023, 4, 30), 1),\n",
       " (datetime.date(2023, 5, 28), 1),\n",
       " (datetime.date(2023, 6, 3), 1),\n",
       " (datetime.date(2023, 7, 10), 1),\n",
       " (datetime.date(2023, 9, 6), 1),\n",
       " (datetime.date(2023, 10, 18), 1),\n",
       " (datetime.date(2023, 10, 23), 1),\n",
       " (datetime.date(2023, 10, 25), 1)]"
      ]
     },
     "execution_count": 156,
     "metadata": {},
     "output_type": "execute_result"
    }
   ],
   "source": [
    "list(zip(unique_dates, date_counts))"
   ]
  },
  {
   "cell_type": "code",
   "execution_count": 113,
   "metadata": {},
   "outputs": [
    {
     "data": {
      "text/plain": [
       "(datetime.date(2005, 1, 8), datetime.date(2023, 10, 26))"
      ]
     },
     "execution_count": 113,
     "metadata": {},
     "output_type": "execute_result"
    }
   ],
   "source": [
    "dates[0], dates[-1]"
   ]
  },
  {
   "cell_type": "code",
   "execution_count": 157,
   "metadata": {},
   "outputs": [
    {
     "data": {
      "text/plain": [
       "<Axes: xlabel='Date'>"
      ]
     },
     "execution_count": 157,
     "metadata": {},
     "output_type": "execute_result"
    },
    {
     "data": {
      "image/png": "[encoded data removed]",
      "text/plain": [
       "<Figure size 1000x500 with 1 Axes>"
      ]
     },
     "metadata": {},
     "output_type": "display_data"
    }
   ],
   "source": [
    "import pandas as pd\n",
    "\n",
    "df = pd.DataFrame({'Date': unique_dates, 'Count': date_counts})\n",
    "df.set_index('Date').plot(figsize=(10, 5), grid=True)"
   ]
  },
  {
   "attachments": {},
   "cell_type": "markdown",
   "metadata": {},
   "source": [
    "## Signal-like Time-ordered Dataset"
   ]
  },
  {
   "cell_type": "code",
   "execution_count": 158,
   "metadata": {},
   "outputs": [
    {
     "name": "stdout",
     "output_type": "stream",
     "text": [
      "2018-01-05\n",
      "Turkish President Recep Tayyip Erdoğan says he is \"tired\" of waiting for the European Union to approve Turkey's membership in the political union. (Al Jazeera)\n",
      "\n",
      "2018-01-21\n",
      "Turkish President Erdoğan announces that Turkish Army ground troops have entered the district of Afrin in Syria. Turkish Prime Minister Binali Yıldırım says the goal is to establish a 30-km safe zone. (Voice of America)\n",
      "\n",
      "2018-01-26\n",
      "President of Turkey Recep Tayyip Erdoğan says the Afrin offensive, as announced, is now to turn east, towards Manbij and the border with Iraq. (Reuters)\n",
      "\n",
      "2018-02-26\n",
      "French President Emmanuel Macron phones Turkish President Recep Tayyip Erdoğan, telling Erdoğan that the UN-approved ceasefire in Syria also applies in the Afrin Region. (Reuters)\n",
      "\n",
      "2018-03-20\n",
      "Turkish President Recep Tayyip Erdoğan asserts his nation will secure Northern Cyprus' access to natural hydrocarbon resources off the Cypriot coast. The comments come amid disputes as to sovereign rights and access to offshore resources on the island. (The Daily Sabah)\n",
      "\n",
      "2018-03-26\n",
      "European Council President Donald Tusk and European Commission President Jean-Claude Juncker conclude talks with Turkish President Recep Tayyip Erdoğan. The parties say they have been unable to agree on human rights issues but pledge to hold more talks. (The Financial Times)\n",
      "\n",
      "2018-04-05\n",
      "Turkish President Recep Tayyip Erdoğan calls 15 peaceful anti-war protestors arrested last month at Boğaziçi University in Istanbul terrorists and says they will not be allowed to complete their education. (Times Higher Education)\n",
      "\n",
      "2018-04-10\n",
      "Police say an improvised explosive device exploded overnight at a Unicredit bank in Bologna, with the bomber leaving behind graffiti criticising Turkish President Recep Tayyip Erdoğan. (ANSA)\n",
      "\n",
      "2018-04-22\n",
      "Fifteen members of Turkey's Republican People's Party quit and join the İyi Party, allowing the İyi Party to satisfy eligibility requirements such as having 20 lawmakers in Parliament for upcoming elections. Party leader Meral Akşener, who defected from the Nationalist Movement Party, will run against incumbent Recep Tayyip Erdoğan for the presidency. (The Kansas City Star)\n",
      "\n",
      "2018-04-25\n",
      "A Turkish court convicts and sentences thirteen Cumhuriyet journalists accused of supporting terrorist organisations. The newspaper is critical of President Recep Tayyip Erdoğan. (The Guardian)\n",
      "\n",
      "2018-04-30\n",
      "Uzbekistan agrees to formally join the Turkic Council following a meeting between Uzbek President Shavkat Mirziyoyev and Turkish President Recep Tayyip Erdoğan in Tashkent. (APA)\n",
      "\n",
      "2018-06-24\n",
      "Incumbent President of Turkey Recep Tayyip Erdoğan claims victory as preliminary results show him winning a majority of votes. (Australian Financial Review)\n",
      "\n",
      "2018-07-08\n",
      "Turkey purges more than 18,500 government workers a day before Recep Tayyip Erdoğan is sworn in as executive president. (Bloomberg)\n",
      "\n",
      "2018-08-18\n",
      "At the 6th Ordinary Congress of the Justice and Development Party (AKP), President of Turkey Recep Tayyip Erdoğan is re-elected as the party's chairman, receiving 1380 of 1381 votes. (Anadolu)\n",
      "\n",
      "2018-09-26\n",
      "Turkish President Recep Tayyip Erdoğan says that a Turkish court will decide the fate of American pastor Andrew Brunson. (Reuters)\n",
      "\n",
      "2018-10-23\n",
      "Turkish president Recep Tayyip Erdoğan rejects the Saudi Arabian government's official account of the killing of Saudi-American journalist Jamal Khashoggi in a widely publicised address before the Turkish parliament. (The Guardian)\n",
      "\n",
      "2018-11-11\n",
      "Turkish President Recep Tayyip Erdoğan says that recordings related to the killing of Saudi journalist Jamal Khashoggi were issued to Saudi Arabia, the United States, the United Kingdom, Germany and France. (CNN)\n",
      "\n",
      "2019-03-31\n",
      "Voters head to the polls in Turkey to vote on metropolitan and district municipal mayors along with provincial and municipal councillors. The election is believed to be contested on challenging the current President Recep Tayyip Erdoğan. (BBC News) (Al Jazeera)\n",
      "\n",
      "2019-05-06\n",
      "After a narrow victory of Turkey's main opposition party CHP against Recep Tayyip Erdoğan's AKP in Istanbul's mayoral election last month, Turkey’s Supreme Electoral Council annulled the results and ordered a rerun of the election for the mayor of Istanbul. (The New York Times)\n",
      "\n",
      "2019-09-04\n",
      "Turkish President Recep Tayyip Erdoğan says he cannot accept that his country is not allowed to possess nuclear weapons. (Reuters)\n",
      "\n",
      "2019-09-05\n",
      "Turkish President Recep Tayyip Erdoğan threatens to \"open the gates\" and allow over three million Syrian refugees to freely emigrate into Europe, unless the Northern Syria Buffer Zone, agreed between Turkey and the United States, is set up according to Turkey's plans. He further claims that the \"international community, namely the European Union\" fails to provide support with respect to the refugees. (The Guardian)\n",
      "\n",
      "2019-09-08\n",
      "Turkish President Recep Tayyip Erdoğan says the U.S. seems to be interested in a safe zone for \"the terrorist organization\", rather than for Turkey. (Reuters)\n",
      "\n",
      "2019-09-27\n",
      "Turkish President Recep Tayyip Erdoğan says that it is \"impossible\" for his country to stop buying oil from Iran, despite United States sanctions against Iran. (Reuters)\n",
      "\n",
      "2019-10-05\n",
      "Turkish President Recep Tayyip Erdoğan threatens to invade SDF-held areas in Northern Syria \"today or tomorrow\", after dubbing joint US-Turkish patrols per the buffer zone agreement a \"fairy tale\". (Reuters) (Daily Sabah)\n",
      "\n",
      "2019-10-06\n",
      "Following a phone call between U.S. President Donald Trump and Turkish President Recep Tayyip Erdoğan, the White House says that Turkish Armed Forces will launch an incursion into Syrian Democratic Forces-held northern Syria, and that United States Armed Forces will be withdrawing from the region to avoid clashing with its NATO ally. (The Guardian)\n",
      "\n",
      "2019-10-09\n",
      "Turkish President Recep Tayyip Erdoğan says his country has launched a military invasion of northern and eastern Syria. The Kurdish YPG-led Syrian Democratic Forces say that Turkish fighter aircraft strike targets and \"civilian areas\". Syrian state television says the Turkish artillery shelling of Ras al-Ayn, al-Hasakah Governorate, is \"random\", and Ayn Issa, Raqqa Governorate, is also being shelled. (Deutsche Welle) (Al Jazeera) (Xinhuanet)\n",
      "\n",
      "2019-10-10\n",
      "Turkish President Recep Tayyip Erdoğan threatens to send 3.6 million Syrian refugees into Europe if the European Union labels the country's recent offensive in northeastern Syria an \"occupation\". (The Guardian)\n",
      "\n",
      "2019-10-17\n",
      "After meeting with Turkish President Recep Tayyip Erdoğan, U.S. Vice President Mike Pence says Turkey has agreed to a five-day ceasefire in Syria while the United States helps facilitate the withdrawal of Kurdish fighters. (The Washington Post)\n",
      "\n",
      "2019-10-22\n",
      "Vladimir Putin and Recep Tayyip Erdoğan, presidents of Russia and Turkey respectively, reach an agreement in Sochi, which would end Turkey's offensive into Northern Syria. (CNN) (CNN2)\n",
      "\n",
      "2019-12-26\n",
      "Turkish President Recep Tayyip Erdoğan announces he will send troops to Libya to help the internationally-recognized Tripoli-based Government of National Accord after they requested support. He plans to submit his motion to the Grand National Assembly on January 7 for approval. (Al Jazeera)\n",
      "\n",
      "2020-02-03\n",
      "Syrian Army shelling kills Turkish military personnel in Idlib Governorate, prompting retaliation by Turkish forces. A pro-opposition war monitor says the Turkish retaliation killed 13 Syrian soldiers, which Syria denies. The Russian Ministry of Defence says Turkey moved troops \"inside the de-escalation zone [...] without notifying the Russian side\". Turkish President Erdoğan says the Syrian shelling killed five Turkish soldiers and three civilian personnel, with nine others injured, and that the Russians \"need to stand aside\". (AP News) (SANA) (NPR)\n",
      "\n",
      "2020-02-04\n",
      "Turkish President Recep Tayyip Erdoğan says Turkey will not allow Syria's military to gain more ground in the rebel-held Idlib Governorate, as the Syrian Army captures several more villages near the city of Saraqib. Turkish officials say intermittent clashes between Turkish and Syrian troops have continued since Monday. (BBC News)\n",
      "\n",
      "2020-02-15\n",
      "Indian Ministry of External Affairs spokesman Raveesh Kumar tells Turkish President Recep Tayyip Erdoğan to \"not interfere in India's internal affairs\" after he and Pakistani Prime Minister Imran Khan issued a joint declaration yesterday condemning the lockdown in Jammu and Kashmir. (Al Jazeera)\n",
      "\n",
      "2020-02-19\n",
      "Turkish President Recep Tayyip Erdoğan calls a Turkish intervention in Syria's Idlib Governorate \"imminent\" after talks with Russia fail to reach what he describes as their \"desired result\". Erdoğan threatens to launch an operation in Idlib by the end of the month. Kremlin Press Secretary Dmitry Peskov calls Turkish involvement in the battle \"the worst scenario\". The countries support opposing sides in the war. (Al Jazeera)\n",
      "\n",
      "2020-02-25\n",
      "Turkish President Recep Tayyip Erdoğan confirms the first Turkish Armed Forces casualties in Libya since beginning a military operation in support of the GNA government after two troops are killed. (BBC News)\n",
      "\n",
      "2020-02-29\n",
      "Turkish President Recep Erdoğan says 18,000 refugees have crossed into Europe as of this morning and that 25,000–30,000 more may cross today. Erdoğan reiterates that Turkey cannot handle another refugee wave from Syria and that it will keep its borders open. (TRT Haber)\n",
      "\n",
      "2020-06-11\n",
      "A court in Turkey sentences a U.S. Consulate employee, Metin Topuz, to 8 years and 9 months in prison on charges of aiding the followers of Fethullah Gülen, the U.S.-based preacher who is accused in Turkey of being the mastermind behind a failed coup attempt in 2016 against Erdoğan. The U.S. Embassy in Ankara releases a statement on Twitter saying officials were \"deeply disappointed\" in the decision. (The New York Times)\n",
      "\n",
      "2020-07-01\n",
      "President Recep Tayyip Erdoğan vows tighter control over \"immoral\" social media following alleged insults to his daughter and son-in-law when they announced the birth of their fourth son on Twitter. Erdoğan specifically mentioned Twitter, YouTube and Netflix. Interior Minister Süleyman Soylu announced the arrest of a number of social media users for \"insulting tweets\". (Al Jazeera)\n",
      "\n",
      "2020-07-10\n",
      "Turkish President Recep Tayyip Erdoğan issues a presidential decree converting Istanbul's Hagia Sophia back to a mosque, after a court annulled the 1934 decree that transformed it into a museum. (CNN)\n",
      "\n",
      "2020-07-11\n",
      "The World Council of Churches, which counts 350 churches as members, calls on Turkey's President Recep Tayyip Erdoğan to reverse his decision to turn the celebrated Hagia Sophia museum back into a mosque. (BBC News)\n",
      "\n",
      "2020-07-17\n",
      "Turkish President Recep Tayyip Erdoğan denounces Egypt and the United Arab Emirates for supporting the eastern-based Libyan forces of Khalifa Haftar. Turkey says it will maintain its support for the Government of National Accord (GNA) and calls the UAE's actions \"piratical\". (Reuters)\n",
      "\n",
      "2020-08-07\n",
      "Turkish President Recep Tayyip Erdoğan announces his country will resume energy exploration activities in the eastern Mediterranean, saying Greece had repeatedly violated their agreement on the matter. (Al Jazeera)\n",
      "\n",
      "2020-08-21\n",
      "Turkish President Recep Tayyip Erdoğan announced that the drilling ship Fatih has found 320 billion cubic meters of natural gas reserves in the Black Sea, Turkey's biggest natural gas find to date. If Turkey can extract the gas commercially, it will be able to reduce its reliance on imported energy. (BBC News)\n",
      "\n",
      "2020-10-26\n",
      "Turkish President Recep Tayyip Erdoğan calls on all Turks and the Muslim world to boycott France over French President Emmanuel Macron's crackdown on radical Islam in French society. Erdoğan says Muslims in France are now \"subjected to a lynch campaign similar to that against Jews in Europe before World War II\". The leaders of Germany, Italy and the Netherlands condemn Erdoğan's comments and declare their support for France. (BBC News)\n",
      "\n",
      "2020-10-27\n",
      "Turkish President Recep Tayyip Erdoğan files a criminal complaint against Dutch far-right politician and activist Geert Wilders for allegedly \"insulting him on social media\". Turkish prosecutors accepted the complaint at an Ankara court. Erdoğan's lawyers say Wilders insulted \"honour, dignity, character and reputation\". (Reuters)\n",
      "\n",
      "2020-10-28\n",
      "Turkey threatens to take \"legal and diplomatic action\" in response to French magazine Charlie Hebdo's caricature mocking Turkish President Recep Tayyip Erdoğan. Turkish Vice President Fuat Oktay condemns the publication. France responds by saying that the country would not give in to \"destabilisation and intimidation attempts.\" (France 24)\n",
      "\n",
      "2020-11-01\n",
      "Amid deteriorating relations between the two countries, French President Emmanuel Macron accuses Turkey of adopting a \"bellicose stance towards its NATO allies\", and that it was essential that the \"Turkish President Recep Tayyip Erdoğan respects France, respects the European Union, respects its values, does not tell lies and does not utter insults\". He also says Turkey's military intervention in Syria was \"a surprise and aggression for NATO allies\", and that Turkey has \"not respected\" an arms embargo on Libya. (The Guardian)\n",
      "\n",
      "2020-11-08\n",
      "Turkish Finance Minister Berat Albayrak announces his resignation on social media due to \"health reasons\". It comes two days after the chief of the Turkish Central Bank was fired by President Recep Tayyip Erdoğan. (Reuters)\n",
      "\n",
      "2020-11-17\n",
      "The Grand National Assembly of Turkey approves President Recep Tayyip Erdoğan's request to deploy Turkish Army peacekeepers to monitor a ceasefire agreement between Armenia and Azerbaijan in Nagorno-Karabakh. (France 24)\n",
      "\n",
      "2020-11-17\n",
      "President Recep Tayyip Erdoğan announces the closure of schools for the remainder of the semester and introduces a nationwide weekend curfew from 8:00 p.m. to 10:00 a.m. local time. Restrictions for senior citizens over 65 years of age will also be expanded to include people under 20 years of age, allowing them to go outside only from 10:00 a.m  to 4:00 p.m.. The new restrictions also order the closure of coffeehouses and cinemas, and for all sports events to be held without fans. (Daily Sabah)\n",
      "\n",
      "2020-11-30\n",
      "In response to a rise in cases, President Recep Tayyip Erdoğan announces the most widespread restrictions in the country beginning tomorrow, including extending curfews to weeknights between 9:00 p.m. and 5:00 a.m. local time and total weekend lockdowns from 9:00 p.m. on Friday to 5:00 a.m. local time on Monday. Grocery stores and food delivery services are exempt from the lockdowns within certain hours. (ABC News)\n",
      "\n",
      "2020-12-10\n",
      "A large military parade is held in Baku to celebrate Azerbaijan's victory over Armenia in Nagorno-Karabakh. Turkish President Recep Tayyip Erdoğan is among the foreign attendees. The parade includes thousands of soldiers, flyovers from helicopters and fighter jets, and a Turkish special forces brigade. (Al Jazeera)\n",
      "\n",
      "2020-12-14\n",
      "President Recep Tayyip Erdoğan announces that the country will impose a five-day full lockdown from December 31 at 9:00 p.m. local time until January 4, as a record 229 deaths were reported in the past 24 hours. (Arab News)\n",
      "\n",
      "2021-01-14\n",
      "President Recep Tayyip Erdoğan receives the first dose of the CoronaVac vaccine in a hospital in Ankara as Turkey begins its nationwide vaccination campaign. (Anadolu Agency)\n",
      "\n",
      "2021-02-11\n",
      "President Recep Tayyip Erdoğan and health workers across the country receive their second doses of COVID-19 vaccine as the country begins to administer second doses of Sinovac's CoronaVac vaccine. (Daily Sabah)\n",
      "\n",
      "2021-02-15\n",
      "Turkish President Recep Tayyip Erdoğan accuses the United States of supporting \"the PKK terrorists\", following the killing of 13 Turkish hostages held captive in Kurdistan Region. Turkey also summons the U.S. ambassador David M. Satterfield in response to the killings. (Daily Sabah)\n",
      "\n",
      "2021-02-17\n",
      "President Recep Tayyip Erdoğan announces that the country will gradually lift COVID-19 restrictions, including curfews and weekend lockdowns beginning in March on a provincial basis, which will divide the country into four categories based on infection and vaccination rates. (Daily Sabah)\n",
      "\n",
      "2021-03-21\n",
      "The Turkish lira plunges by 15% after President Recep Tayyip Erdoğan fires Governor of the Central Bank Naci Ağbal. He is replaced by Erdoğan ally Şahap Kavcıoğlu. (Bloomberg)\n",
      "\n",
      "2021-03-27\n",
      "Thousands of women protest in Istanbul over Turkish President Recep Tayyip Erdoğan's decision to withdraw from the Istanbul Convention. (Reuters)\n",
      "\n",
      "2021-03-29\n",
      "President Recep Tayyip Erdoğan announces that a full weekend lockdown will be put in place during Ramadan and that restaurants will only be able to offer delivery and takeout due to an increasing number of high-risk cities across the country. (Hurriyet Daily News)\n",
      "\n",
      "2021-04-13\n",
      "President Recep Tayyip Erdoğan announces a two-week partial lockdown across Turkey on Ramadan, which includes an expanded curfew from 7:00 p.m. and a ban on non-essential inter-city travel beginning tomorrow evening due to an increase in the number of COVID-19 cases. (Anadolu Agency)\n",
      "\n",
      "2021-04-26\n",
      "Turkish President Recep Tayyip Erdoğan announces a full lockdown from April 29 until May 17 in an attempt to reduce the spread of COVID-19. Under the new restrictions, all workplaces, except for those excluded by the Interior Ministry, will be closed, intercity travel will be subject to permission and public transportation will operate at only 50% capacity. (Anadolu Agency)\n",
      "\n",
      "2021-05-17\n",
      "Turkish President Recep Tayyip Erdoğan says that security forces killed Sofi Nurettin, a high-ranking member of the Kurdistan Workers' Party, in northern Iraq. (AP)\n",
      "\n",
      "2021-05-28\n",
      "Turkish President Recep Tayyip Erdoğan inaugurates the Taksim Mosque in Istanbul. Its construction was considered controversial as its location was considered to be secular space, with earlier plans to build it near Gezi Park contributing to protests in 2013. (BBC News)\n",
      "\n",
      "2021-06-15\n",
      "Turkish President Recep Tayyip Erdoğan announces that Turkey will open a consulate in Shusha, a Nagorno-Karabakh city captured by Azerbaijan during last year's war, and that he will look to co-produce military drones with Azerbaijan. Both announcements followed his tour of the contested region with Azerbaijani President Ilham Aliyev the same day. The Armenian Foreign Ministry condemns the visit as a provocation. (Al-Monitor)\n",
      "\n",
      "2021-08-05\n",
      "Hundreds of workers and residents are evacuated as a wildfire nears a coal-powered power plant in Muğla Province. More than 36,000 people have been evacuated in the province, as President Recep Tayyip Erdoğan declares the wildfires to be the worst in Turkey's history. (Reuters)\n",
      "\n",
      "2021-10-23\n",
      "President Recep Tayyip Erdoğan orders the ambassadors of ten Western nations to be expelled from the country after their embassies called for the release of political prisoner Osman Kavala. (Reuters)\n",
      "\n",
      "2021-11-23\n",
      "The Turkish lira falls to an all-time low of 13.44 to the U.S. dollar. The crash was primarily caused by president Recep Tayyip Erdoğan's defense of the Central Bank's continued interest rate cuts amid soaring inflation. (CNBC)\n",
      "\n",
      "2021-11-29\n",
      "Turkish President Recep Tayyip Erdoğan reveals his intentions to rebuild his country's ties with Egypt and Israel. (TRT World)\n",
      "\n",
      "2021-12-17\n",
      "The Turkish lira plunges to an all-time low of 17.0705 to the U.S. dollar, triggering a direct central bank intervention in the stock market. The lira has lost 55% of its value this year, including 37% in just the last 30 days. President Recep Erdoğan announces a 50% rise in the minimum wage from next year. (Reuters)\n",
      "\n",
      "2022-02-12\n",
      "President Recep Tayyip Erdoğan announces that the value-added tax (VAT) will be lowered from 8% to 1% on dairy products, fruit, vegetables, and other basic foods. The VAT reduction, aimed at countering soaring inflation, will go into effect on Monday. (Daily Sabah)\n",
      "\n",
      "2022-02-26\n",
      "Turkish President Recep Tayyip Erdoğan says that Turkey is making efforts for an immediate ceasefire between Ukraine and Russia. (Reuters)\n",
      "\n",
      "2022-03-06\n",
      "Turkish president Recep Tayyip Erdoğan calls for Russian president Vladimir Putin to declare a ceasefire between Russia and Ukraine. Putin tells Erdoğan that he is ready for dialogue in an effort to end the war but also warns that any attempt to draw out negotiations could fail. He also calls for Ukraine to cease fighting in order for the military campaign to end. (The Moscow Times) (Reuters)\n",
      "\n",
      "2022-05-13\n",
      "Turkish president Recep Tayyip Erdoğan says that Turkey will oppose Sweden and Finland's applications to join NATO, asserting that the countries are \"guesthouses for terrorist organisations\", without giving details. Turkey has repeatedly criticized Sweden and other Western European countries for its handling of organisations labeled terrorist by the Turkish government, including the Kurdish militant groups PKK and YPG, and the followers of U.S.-based Islamic cleric Fethullah Gülen. (Reuters)\n",
      "\n",
      "2022-05-19\n",
      "President of Turkey Recep Tayyip Erdoğan reiterates that he will vote against the admittance of Finland and Sweden into NATO, effectively preventing their accession. Erdoğan has accused the two countries of supporting the Kurdistan Workers Party and the Syrian Kurdish People's Protection Units, which Turkey considers to be terrorist organizations. (Yahoo! News)\n",
      "\n",
      "2022-05-23\n",
      "Turkish president Recep Tayyip Erdoğan threatens to launch a new military incursion into northern Syria, targeting US-backed Kurdish Syrian Democratic Forces and expanding its occupation zone along Syria's northern border with Turkey. (Al-Monitor)\n",
      "\n",
      "2022-06-01\n",
      "Turkish President Recep Tayyip Erdoğan cancels high-level talks with Greek Prime Minister Kyriakos Mitsotakis, accusing Mitsotakis of consistently using Greek jets to violate Turkey's airspace. Turkish Foreign Affairs Minister Mevlüt Çavuşoğlu had also accused Greece of violating the airspace of demilitarized zones in the Aegean Sea yesterday. (Al Jazeera)\n",
      "\n",
      "2022-07-19\n",
      "Russian president Vladimir Putin makes a state visit to Iran for talks with his Iranian counterpart Ebrahim Raisi and Turkish president Recep Tayyip Erdoğan. Putin will also meet with Supreme Leader Ali Khamenei. (BBC News)\n",
      "\n",
      "2022-09-03\n",
      "President of Turkey Recep Tayyip Erdoğan accuses Greece of \"arming\" and \"occupying\" the demilitarized Aegean islands, with Minister of Foreign Affairs Mevlüt Çavuşoğlu threatening to revoke recognition of Greek sovereignty over the islands if the alleged militarization is not halted. (Reuters)\n",
      "\n",
      "2022-11-20\n",
      "Egyptian president Abdel Fattah el-Sisi and Turkish president Recep Tayyip Erdoğan meet for the first time following their opposing involvements in the 2013 Egyptian coup d'état. (AFP via The Straits Times)\n",
      "\n",
      "2022-11-21\n",
      "Turkish President Recep Tayyip Erdoğan threatens to launch a ground operation in northern Syria and Iraqi Kurdistan in response to the rocket attacks on Turkish territory. (France 24)\n",
      "\n",
      "2023-01-23\n",
      "Turkish President Recep Tayyip Erdoğan rules out Turkish support for Sweden's bid for NATO membership following the burning of a Quran outside the Turkish embassy in Stockholm by Rasmus Paludan and a series of pro-Kurdish demonstrations where protestors waved PKK flags. (AP)\n",
      "\n",
      "2023-03-17\n",
      "Turkish president Recep Tayyip Erdoğan announces that Turkey will begin the process of ratifying Finland's membership of NATO without Sweden, which Turkey accuses of supporting the PKK. (Yle)\n",
      "\n",
      "2023-04-30\n",
      "Turkish President Recep Tayyip Erdoğan announces that the Turkish National Intelligence Organization has tracked down and killed the Caliph of the Islamic State Abu al-Hussein al-Husseini al-Qurashi in Syria. (Al Jazeera)\n",
      "\n",
      "2023-05-28\n",
      "Recep Tayyip Erdoğan is declared the winner by the Supreme Election Council, defeating his opponent Kemal Kılıçdaroğlu with 52 percent of the vote. (Tagesschau)\n",
      "\n",
      "2023-06-03\n",
      "The third inauguration of Recep Tayyip Erdoğan as President of Turkey takes place at the Presidential Complex in Ankara. (TIME)\n",
      "\n",
      "2023-07-10\n",
      "Turkish president Recep Tayyip Erdoğan agrees to send Sweden's NATO accession protocol to the Grand National Assembly. (AP)\n",
      "\n",
      "2023-09-06\n",
      "President of Russia Vladimir Putin and President of Turkey Recep Tayyip Erdoğan hold talks in Sochi, Russia, to discuss the revival of the Black Sea Grain Initiative, enabling the passage of grain across the Black Sea. (CNN)\n",
      "\n",
      "2023-10-18\n",
      "Turkish President Recep Tayyip Erdoğan condemns the UNSC for failing to pass a resolution for a humanitarian pause, adding that efforts to deescalate the conflict have been impeded by the collective punishment of Palestinians through airstrikes and the deployment of US aircraft carriers to the region. (Reuters)\n",
      "\n",
      "2023-10-23\n",
      "Turkish president Recep Tayyip Erdoğan submits a bill on granting Sweden membership into NATO to the Grand National Assembly. (Al Jazeera)\n",
      "\n",
      "2023-10-25\n",
      "Turkish President Recep Tayyip Erdoğan calls for an immediate ceasefire in Gaza, and says Hamas is \"not a terrorist organization, it is a liberation group, mujahideen waging a battle to protect its lands and people\". (Reuters via Al Arabiya)\n",
      "\n"
     ]
    }
   ],
   "source": [
    "import textwrap\n",
    "for e in events:\n",
    "    print(textwrap(e.date())\n",
    "    print(e.text)\n",
    "    print()"
   ]
  }
 ],
 "metadata": {
  "kernelspec": {
   "display_name": "base",
   "language": "python",
   "name": "python3"
  },
  "language_info": {
   "codemirror_mode": {
    "name": "ipython",
    "version": 3
   },
   "file_extension": ".py",
   "mimetype": "text/x-python",
   "name": "python",
   "nbconvert_exporter": "python",
   "pygments_lexer": "ipython3",
   "version": "3.10.9"
  },
  "orig_nbformat": 4
 },
 "nbformat": 4,
 "nbformat_minor": 2
}
